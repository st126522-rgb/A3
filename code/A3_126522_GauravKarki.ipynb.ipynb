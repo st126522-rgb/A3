{
 "cells": [
  {
   "cell_type": "code",
   "execution_count": null,
   "metadata": {
    "id": "wjHwKIvOCClR"
   },
   "outputs": [],
   "source": []
  },
  {
   "cell_type": "code",
   "execution_count": 1,
   "metadata": {
    "id": "M5x3EeMs84pm"
   },
   "outputs": [],
   "source": [
    "# !pip install dash\n",
    "# !pip install dash-bootstrap-components\n",
    "# !pip install joblib\n",
    "# !pip install mlflow\n",
    "# !pip install xgboost\n",
    "# !pip install seaborn\n",
    "# !pip install imbalanced-learn\n",
    "# !pip install python-dotenv\n"
   ]
  },
  {
   "cell_type": "code",
   "execution_count": 2,
   "metadata": {
    "id": "X8MeJqHPtDrW"
   },
   "outputs": [],
   "source": [
    "import matplotlib.pyplot as plt\n",
    "import numpy as np\n",
    "import pandas as pd\n",
    "import joblib\n",
    "import mlflow\n",
    "import mlflow.sklearn\n",
    "import itertools"
   ]
  },
  {
   "cell_type": "code",
   "execution_count": 3,
   "metadata": {
    "id": "gEcpKNFWvCwP"
   },
   "outputs": [],
   "source": [
    "from sklearn.model_selection import cross_val_score\n",
    "from sklearn.model_selection import train_test_split\n",
    "from sklearn.metrics import mean_squared_error, r2_score, accuracy_score,classification_report,confusion_matrix\n",
    "from sklearn.preprocessing import StandardScaler\n",
    "from sklearn.model_selection import GridSearchCV"
   ]
  },
  {
   "cell_type": "code",
   "execution_count": 4,
   "metadata": {
    "id": "VIieHkrSvFZz"
   },
   "outputs": [],
   "source": [
    "from sklearn.linear_model import LinearRegression\n",
    "from sklearn.ensemble import RandomForestRegressor\n",
    "from sklearn.neighbors import KNeighborsRegressor\n",
    "from sklearn.model_selection import KFold\n",
    "\n",
    "# from xgboost import XGBRegressor"
   ]
  },
  {
   "cell_type": "code",
   "execution_count": 5,
   "metadata": {
    "id": "55vg1iKntZRF"
   },
   "outputs": [],
   "source": [
    "loaded_cars=pd.read_csv(\"Cars.csv\", index_col=None)"
   ]
  },
  {
   "cell_type": "code",
   "execution_count": 6,
   "metadata": {
    "colab": {
     "base_uri": "https://localhost:8080/"
    },
    "id": "60r2g3pH2uNy",
    "outputId": "2568995c-8f5a-459a-91a2-0a95d66caacd"
   },
   "outputs": [
    {
     "data": {
      "text/plain": [
       "(8128, 13)"
      ]
     },
     "execution_count": 6,
     "metadata": {},
     "output_type": "execute_result"
    }
   ],
   "source": [
    "loaded_cars.shape"
   ]
  },
  {
   "cell_type": "code",
   "execution_count": 7,
   "metadata": {
    "colab": {
     "base_uri": "https://localhost:8080/",
     "height": 206
    },
    "id": "xgAzqmwyva00",
    "outputId": "cec02ae8-0296-4cba-e5fe-d34128ec3948"
   },
   "outputs": [
    {
     "data": {
      "application/vnd.microsoft.datawrangler.viewer.v0+json": {
       "columns": [
        {
         "name": "index",
         "rawType": "int64",
         "type": "integer"
        },
        {
         "name": "name",
         "rawType": "object",
         "type": "string"
        },
        {
         "name": "year",
         "rawType": "int64",
         "type": "integer"
        },
        {
         "name": "selling_price",
         "rawType": "int64",
         "type": "integer"
        },
        {
         "name": "km_driven",
         "rawType": "int64",
         "type": "integer"
        },
        {
         "name": "fuel",
         "rawType": "object",
         "type": "string"
        },
        {
         "name": "seller_type",
         "rawType": "object",
         "type": "string"
        },
        {
         "name": "transmission",
         "rawType": "object",
         "type": "string"
        },
        {
         "name": "owner",
         "rawType": "object",
         "type": "string"
        },
        {
         "name": "mileage",
         "rawType": "object",
         "type": "string"
        },
        {
         "name": "engine",
         "rawType": "object",
         "type": "string"
        },
        {
         "name": "max_power",
         "rawType": "object",
         "type": "string"
        },
        {
         "name": "torque",
         "rawType": "object",
         "type": "string"
        },
        {
         "name": "seats",
         "rawType": "float64",
         "type": "float"
        }
       ],
       "ref": "8f2a1d87-c434-42ac-a814-8c326f18a9e4",
       "rows": [
        [
         "0",
         "Maruti Swift Dzire VDI",
         "2014",
         "450000",
         "145500",
         "Diesel",
         "Individual",
         "Manual",
         "First Owner",
         "23.4 kmpl",
         "1248 CC",
         "74 bhp",
         "190Nm@ 2000rpm",
         "5.0"
        ],
        [
         "1",
         "Skoda Rapid 1.5 TDI Ambition",
         "2014",
         "370000",
         "120000",
         "Diesel",
         "Individual",
         "Manual",
         "Second Owner",
         "21.14 kmpl",
         "1498 CC",
         "103.52 bhp",
         "250Nm@ 1500-2500rpm",
         "5.0"
        ],
        [
         "2",
         "Honda City 2017-2020 EXi",
         "2006",
         "158000",
         "140000",
         "Petrol",
         "Individual",
         "Manual",
         "Third Owner",
         "17.7 kmpl",
         "1497 CC",
         "78 bhp",
         "12.7@ 2,700(kgm@ rpm)",
         "5.0"
        ],
        [
         "3",
         "Hyundai i20 Sportz Diesel",
         "2010",
         "225000",
         "127000",
         "Diesel",
         "Individual",
         "Manual",
         "First Owner",
         "23.0 kmpl",
         "1396 CC",
         "90 bhp",
         "22.4 kgm at 1750-2750rpm",
         "5.0"
        ],
        [
         "4",
         "Maruti Swift VXI BSIII",
         "2007",
         "130000",
         "120000",
         "Petrol",
         "Individual",
         "Manual",
         "First Owner",
         "16.1 kmpl",
         "1298 CC",
         "88.2 bhp",
         "11.5@ 4,500(kgm@ rpm)",
         "5.0"
        ]
       ],
       "shape": {
        "columns": 13,
        "rows": 5
       }
      },
      "text/html": [
       "<div>\n",
       "<style scoped>\n",
       "    .dataframe tbody tr th:only-of-type {\n",
       "        vertical-align: middle;\n",
       "    }\n",
       "\n",
       "    .dataframe tbody tr th {\n",
       "        vertical-align: top;\n",
       "    }\n",
       "\n",
       "    .dataframe thead th {\n",
       "        text-align: right;\n",
       "    }\n",
       "</style>\n",
       "<table border=\"1\" class=\"dataframe\">\n",
       "  <thead>\n",
       "    <tr style=\"text-align: right;\">\n",
       "      <th></th>\n",
       "      <th>name</th>\n",
       "      <th>year</th>\n",
       "      <th>selling_price</th>\n",
       "      <th>km_driven</th>\n",
       "      <th>fuel</th>\n",
       "      <th>seller_type</th>\n",
       "      <th>transmission</th>\n",
       "      <th>owner</th>\n",
       "      <th>mileage</th>\n",
       "      <th>engine</th>\n",
       "      <th>max_power</th>\n",
       "      <th>torque</th>\n",
       "      <th>seats</th>\n",
       "    </tr>\n",
       "  </thead>\n",
       "  <tbody>\n",
       "    <tr>\n",
       "      <th>0</th>\n",
       "      <td>Maruti Swift Dzire VDI</td>\n",
       "      <td>2014</td>\n",
       "      <td>450000</td>\n",
       "      <td>145500</td>\n",
       "      <td>Diesel</td>\n",
       "      <td>Individual</td>\n",
       "      <td>Manual</td>\n",
       "      <td>First Owner</td>\n",
       "      <td>23.4 kmpl</td>\n",
       "      <td>1248 CC</td>\n",
       "      <td>74 bhp</td>\n",
       "      <td>190Nm@ 2000rpm</td>\n",
       "      <td>5.0</td>\n",
       "    </tr>\n",
       "    <tr>\n",
       "      <th>1</th>\n",
       "      <td>Skoda Rapid 1.5 TDI Ambition</td>\n",
       "      <td>2014</td>\n",
       "      <td>370000</td>\n",
       "      <td>120000</td>\n",
       "      <td>Diesel</td>\n",
       "      <td>Individual</td>\n",
       "      <td>Manual</td>\n",
       "      <td>Second Owner</td>\n",
       "      <td>21.14 kmpl</td>\n",
       "      <td>1498 CC</td>\n",
       "      <td>103.52 bhp</td>\n",
       "      <td>250Nm@ 1500-2500rpm</td>\n",
       "      <td>5.0</td>\n",
       "    </tr>\n",
       "    <tr>\n",
       "      <th>2</th>\n",
       "      <td>Honda City 2017-2020 EXi</td>\n",
       "      <td>2006</td>\n",
       "      <td>158000</td>\n",
       "      <td>140000</td>\n",
       "      <td>Petrol</td>\n",
       "      <td>Individual</td>\n",
       "      <td>Manual</td>\n",
       "      <td>Third Owner</td>\n",
       "      <td>17.7 kmpl</td>\n",
       "      <td>1497 CC</td>\n",
       "      <td>78 bhp</td>\n",
       "      <td>12.7@ 2,700(kgm@ rpm)</td>\n",
       "      <td>5.0</td>\n",
       "    </tr>\n",
       "    <tr>\n",
       "      <th>3</th>\n",
       "      <td>Hyundai i20 Sportz Diesel</td>\n",
       "      <td>2010</td>\n",
       "      <td>225000</td>\n",
       "      <td>127000</td>\n",
       "      <td>Diesel</td>\n",
       "      <td>Individual</td>\n",
       "      <td>Manual</td>\n",
       "      <td>First Owner</td>\n",
       "      <td>23.0 kmpl</td>\n",
       "      <td>1396 CC</td>\n",
       "      <td>90 bhp</td>\n",
       "      <td>22.4 kgm at 1750-2750rpm</td>\n",
       "      <td>5.0</td>\n",
       "    </tr>\n",
       "    <tr>\n",
       "      <th>4</th>\n",
       "      <td>Maruti Swift VXI BSIII</td>\n",
       "      <td>2007</td>\n",
       "      <td>130000</td>\n",
       "      <td>120000</td>\n",
       "      <td>Petrol</td>\n",
       "      <td>Individual</td>\n",
       "      <td>Manual</td>\n",
       "      <td>First Owner</td>\n",
       "      <td>16.1 kmpl</td>\n",
       "      <td>1298 CC</td>\n",
       "      <td>88.2 bhp</td>\n",
       "      <td>11.5@ 4,500(kgm@ rpm)</td>\n",
       "      <td>5.0</td>\n",
       "    </tr>\n",
       "  </tbody>\n",
       "</table>\n",
       "</div>"
      ],
      "text/plain": [
       "                           name  year  selling_price  km_driven    fuel  \\\n",
       "0        Maruti Swift Dzire VDI  2014         450000     145500  Diesel   \n",
       "1  Skoda Rapid 1.5 TDI Ambition  2014         370000     120000  Diesel   \n",
       "2      Honda City 2017-2020 EXi  2006         158000     140000  Petrol   \n",
       "3     Hyundai i20 Sportz Diesel  2010         225000     127000  Diesel   \n",
       "4        Maruti Swift VXI BSIII  2007         130000     120000  Petrol   \n",
       "\n",
       "  seller_type transmission         owner     mileage   engine   max_power  \\\n",
       "0  Individual       Manual   First Owner   23.4 kmpl  1248 CC      74 bhp   \n",
       "1  Individual       Manual  Second Owner  21.14 kmpl  1498 CC  103.52 bhp   \n",
       "2  Individual       Manual   Third Owner   17.7 kmpl  1497 CC      78 bhp   \n",
       "3  Individual       Manual   First Owner   23.0 kmpl  1396 CC      90 bhp   \n",
       "4  Individual       Manual   First Owner   16.1 kmpl  1298 CC    88.2 bhp   \n",
       "\n",
       "                     torque  seats  \n",
       "0            190Nm@ 2000rpm    5.0  \n",
       "1       250Nm@ 1500-2500rpm    5.0  \n",
       "2     12.7@ 2,700(kgm@ rpm)    5.0  \n",
       "3  22.4 kgm at 1750-2750rpm    5.0  \n",
       "4     11.5@ 4,500(kgm@ rpm)    5.0  "
      ]
     },
     "execution_count": 7,
     "metadata": {},
     "output_type": "execute_result"
    }
   ],
   "source": [
    "loaded_cars.head()\n"
   ]
  },
  {
   "cell_type": "code",
   "execution_count": 8,
   "metadata": {
    "colab": {
     "base_uri": "https://localhost:8080/",
     "height": 206
    },
    "id": "-i5IQuGry3Ys",
    "outputId": "67102151-c43c-4df6-f34f-2390a63cb324"
   },
   "outputs": [
    {
     "data": {
      "application/vnd.microsoft.datawrangler.viewer.v0+json": {
       "columns": [
        {
         "name": "index",
         "rawType": "int64",
         "type": "integer"
        },
        {
         "name": "name",
         "rawType": "object",
         "type": "string"
        },
        {
         "name": "year",
         "rawType": "int64",
         "type": "integer"
        },
        {
         "name": "selling_price",
         "rawType": "int64",
         "type": "integer"
        },
        {
         "name": "km_driven",
         "rawType": "int64",
         "type": "integer"
        },
        {
         "name": "fuel",
         "rawType": "object",
         "type": "string"
        },
        {
         "name": "seller_type",
         "rawType": "object",
         "type": "string"
        },
        {
         "name": "transmission",
         "rawType": "object",
         "type": "string"
        },
        {
         "name": "owner",
         "rawType": "int64",
         "type": "integer"
        },
        {
         "name": "mileage",
         "rawType": "object",
         "type": "string"
        },
        {
         "name": "engine",
         "rawType": "object",
         "type": "string"
        },
        {
         "name": "max_power",
         "rawType": "object",
         "type": "string"
        },
        {
         "name": "torque",
         "rawType": "object",
         "type": "string"
        },
        {
         "name": "seats",
         "rawType": "float64",
         "type": "float"
        }
       ],
       "ref": "0f8b2057-6d4f-40ce-8bf0-f3e741157a7c",
       "rows": [
        [
         "0",
         "Maruti Swift Dzire VDI",
         "2014",
         "450000",
         "145500",
         "Diesel",
         "Individual",
         "Manual",
         "1",
         "23.4 kmpl",
         "1248 CC",
         "74 bhp",
         "190Nm@ 2000rpm",
         "5.0"
        ],
        [
         "1",
         "Skoda Rapid 1.5 TDI Ambition",
         "2014",
         "370000",
         "120000",
         "Diesel",
         "Individual",
         "Manual",
         "2",
         "21.14 kmpl",
         "1498 CC",
         "103.52 bhp",
         "250Nm@ 1500-2500rpm",
         "5.0"
        ],
        [
         "2",
         "Honda City 2017-2020 EXi",
         "2006",
         "158000",
         "140000",
         "Petrol",
         "Individual",
         "Manual",
         "3",
         "17.7 kmpl",
         "1497 CC",
         "78 bhp",
         "12.7@ 2,700(kgm@ rpm)",
         "5.0"
        ],
        [
         "3",
         "Hyundai i20 Sportz Diesel",
         "2010",
         "225000",
         "127000",
         "Diesel",
         "Individual",
         "Manual",
         "1",
         "23.0 kmpl",
         "1396 CC",
         "90 bhp",
         "22.4 kgm at 1750-2750rpm",
         "5.0"
        ],
        [
         "4",
         "Maruti Swift VXI BSIII",
         "2007",
         "130000",
         "120000",
         "Petrol",
         "Individual",
         "Manual",
         "1",
         "16.1 kmpl",
         "1298 CC",
         "88.2 bhp",
         "11.5@ 4,500(kgm@ rpm)",
         "5.0"
        ]
       ],
       "shape": {
        "columns": 13,
        "rows": 5
       }
      },
      "text/html": [
       "<div>\n",
       "<style scoped>\n",
       "    .dataframe tbody tr th:only-of-type {\n",
       "        vertical-align: middle;\n",
       "    }\n",
       "\n",
       "    .dataframe tbody tr th {\n",
       "        vertical-align: top;\n",
       "    }\n",
       "\n",
       "    .dataframe thead th {\n",
       "        text-align: right;\n",
       "    }\n",
       "</style>\n",
       "<table border=\"1\" class=\"dataframe\">\n",
       "  <thead>\n",
       "    <tr style=\"text-align: right;\">\n",
       "      <th></th>\n",
       "      <th>name</th>\n",
       "      <th>year</th>\n",
       "      <th>selling_price</th>\n",
       "      <th>km_driven</th>\n",
       "      <th>fuel</th>\n",
       "      <th>seller_type</th>\n",
       "      <th>transmission</th>\n",
       "      <th>owner</th>\n",
       "      <th>mileage</th>\n",
       "      <th>engine</th>\n",
       "      <th>max_power</th>\n",
       "      <th>torque</th>\n",
       "      <th>seats</th>\n",
       "    </tr>\n",
       "  </thead>\n",
       "  <tbody>\n",
       "    <tr>\n",
       "      <th>0</th>\n",
       "      <td>Maruti Swift Dzire VDI</td>\n",
       "      <td>2014</td>\n",
       "      <td>450000</td>\n",
       "      <td>145500</td>\n",
       "      <td>Diesel</td>\n",
       "      <td>Individual</td>\n",
       "      <td>Manual</td>\n",
       "      <td>1</td>\n",
       "      <td>23.4 kmpl</td>\n",
       "      <td>1248 CC</td>\n",
       "      <td>74 bhp</td>\n",
       "      <td>190Nm@ 2000rpm</td>\n",
       "      <td>5.0</td>\n",
       "    </tr>\n",
       "    <tr>\n",
       "      <th>1</th>\n",
       "      <td>Skoda Rapid 1.5 TDI Ambition</td>\n",
       "      <td>2014</td>\n",
       "      <td>370000</td>\n",
       "      <td>120000</td>\n",
       "      <td>Diesel</td>\n",
       "      <td>Individual</td>\n",
       "      <td>Manual</td>\n",
       "      <td>2</td>\n",
       "      <td>21.14 kmpl</td>\n",
       "      <td>1498 CC</td>\n",
       "      <td>103.52 bhp</td>\n",
       "      <td>250Nm@ 1500-2500rpm</td>\n",
       "      <td>5.0</td>\n",
       "    </tr>\n",
       "    <tr>\n",
       "      <th>2</th>\n",
       "      <td>Honda City 2017-2020 EXi</td>\n",
       "      <td>2006</td>\n",
       "      <td>158000</td>\n",
       "      <td>140000</td>\n",
       "      <td>Petrol</td>\n",
       "      <td>Individual</td>\n",
       "      <td>Manual</td>\n",
       "      <td>3</td>\n",
       "      <td>17.7 kmpl</td>\n",
       "      <td>1497 CC</td>\n",
       "      <td>78 bhp</td>\n",
       "      <td>12.7@ 2,700(kgm@ rpm)</td>\n",
       "      <td>5.0</td>\n",
       "    </tr>\n",
       "    <tr>\n",
       "      <th>3</th>\n",
       "      <td>Hyundai i20 Sportz Diesel</td>\n",
       "      <td>2010</td>\n",
       "      <td>225000</td>\n",
       "      <td>127000</td>\n",
       "      <td>Diesel</td>\n",
       "      <td>Individual</td>\n",
       "      <td>Manual</td>\n",
       "      <td>1</td>\n",
       "      <td>23.0 kmpl</td>\n",
       "      <td>1396 CC</td>\n",
       "      <td>90 bhp</td>\n",
       "      <td>22.4 kgm at 1750-2750rpm</td>\n",
       "      <td>5.0</td>\n",
       "    </tr>\n",
       "    <tr>\n",
       "      <th>4</th>\n",
       "      <td>Maruti Swift VXI BSIII</td>\n",
       "      <td>2007</td>\n",
       "      <td>130000</td>\n",
       "      <td>120000</td>\n",
       "      <td>Petrol</td>\n",
       "      <td>Individual</td>\n",
       "      <td>Manual</td>\n",
       "      <td>1</td>\n",
       "      <td>16.1 kmpl</td>\n",
       "      <td>1298 CC</td>\n",
       "      <td>88.2 bhp</td>\n",
       "      <td>11.5@ 4,500(kgm@ rpm)</td>\n",
       "      <td>5.0</td>\n",
       "    </tr>\n",
       "  </tbody>\n",
       "</table>\n",
       "</div>"
      ],
      "text/plain": [
       "                           name  year  selling_price  km_driven    fuel  \\\n",
       "0        Maruti Swift Dzire VDI  2014         450000     145500  Diesel   \n",
       "1  Skoda Rapid 1.5 TDI Ambition  2014         370000     120000  Diesel   \n",
       "2      Honda City 2017-2020 EXi  2006         158000     140000  Petrol   \n",
       "3     Hyundai i20 Sportz Diesel  2010         225000     127000  Diesel   \n",
       "4        Maruti Swift VXI BSIII  2007         130000     120000  Petrol   \n",
       "\n",
       "  seller_type transmission  owner     mileage   engine   max_power  \\\n",
       "0  Individual       Manual      1   23.4 kmpl  1248 CC      74 bhp   \n",
       "1  Individual       Manual      2  21.14 kmpl  1498 CC  103.52 bhp   \n",
       "2  Individual       Manual      3   17.7 kmpl  1497 CC      78 bhp   \n",
       "3  Individual       Manual      1   23.0 kmpl  1396 CC      90 bhp   \n",
       "4  Individual       Manual      1   16.1 kmpl  1298 CC    88.2 bhp   \n",
       "\n",
       "                     torque  seats  \n",
       "0            190Nm@ 2000rpm    5.0  \n",
       "1       250Nm@ 1500-2500rpm    5.0  \n",
       "2     12.7@ 2,700(kgm@ rpm)    5.0  \n",
       "3  22.4 kgm at 1750-2750rpm    5.0  \n",
       "4     11.5@ 4,500(kgm@ rpm)    5.0  "
      ]
     },
     "execution_count": 8,
     "metadata": {},
     "output_type": "execute_result"
    }
   ],
   "source": [
    "def carOwnerNumber(numStr):\n",
    "  labels={\"First Owner\":1, \"Second Owner\":2, \"Third Owner\":3, \"Fourth & Above Owner\":4, \"Test Drive Car\":5}\n",
    "  return labels[numStr]\n",
    "\n",
    "loaded_cars['owner']=loaded_cars['owner'].apply(carOwnerNumber)\n",
    "loaded_cars.head()\n"
   ]
  },
  {
   "cell_type": "code",
   "execution_count": 9,
   "metadata": {
    "colab": {
     "base_uri": "https://localhost:8080/",
     "height": 241
    },
    "id": "-bWKw4Dtx6O0",
    "outputId": "6f2b62c0-a968-489f-b38e-dd626a7ec4d3"
   },
   "outputs": [
    {
     "name": "stdout",
     "output_type": "stream",
     "text": [
      "(8128, 13)\n",
      "(8033, 13)\n"
     ]
    },
    {
     "data": {
      "application/vnd.microsoft.datawrangler.viewer.v0+json": {
       "columns": [
        {
         "name": "index",
         "rawType": "int64",
         "type": "integer"
        },
        {
         "name": "name",
         "rawType": "object",
         "type": "string"
        },
        {
         "name": "year",
         "rawType": "int64",
         "type": "integer"
        },
        {
         "name": "selling_price",
         "rawType": "int64",
         "type": "integer"
        },
        {
         "name": "km_driven",
         "rawType": "int64",
         "type": "integer"
        },
        {
         "name": "fuel",
         "rawType": "object",
         "type": "string"
        },
        {
         "name": "seller_type",
         "rawType": "object",
         "type": "string"
        },
        {
         "name": "transmission",
         "rawType": "object",
         "type": "string"
        },
        {
         "name": "owner",
         "rawType": "int64",
         "type": "integer"
        },
        {
         "name": "mileage",
         "rawType": "object",
         "type": "string"
        },
        {
         "name": "engine",
         "rawType": "object",
         "type": "string"
        },
        {
         "name": "max_power",
         "rawType": "object",
         "type": "string"
        },
        {
         "name": "torque",
         "rawType": "object",
         "type": "string"
        },
        {
         "name": "seats",
         "rawType": "float64",
         "type": "float"
        }
       ],
       "ref": "214366f2-c180-434b-a927-eb5ba8e01939",
       "rows": [
        [
         "0",
         "Maruti Swift Dzire VDI",
         "2014",
         "450000",
         "145500",
         "Diesel",
         "Individual",
         "Manual",
         "1",
         "23.4 kmpl",
         "1248 CC",
         "74 bhp",
         "190Nm@ 2000rpm",
         "5.0"
        ],
        [
         "1",
         "Skoda Rapid 1.5 TDI Ambition",
         "2014",
         "370000",
         "120000",
         "Diesel",
         "Individual",
         "Manual",
         "2",
         "21.14 kmpl",
         "1498 CC",
         "103.52 bhp",
         "250Nm@ 1500-2500rpm",
         "5.0"
        ],
        [
         "2",
         "Honda City 2017-2020 EXi",
         "2006",
         "158000",
         "140000",
         "Petrol",
         "Individual",
         "Manual",
         "3",
         "17.7 kmpl",
         "1497 CC",
         "78 bhp",
         "12.7@ 2,700(kgm@ rpm)",
         "5.0"
        ],
        [
         "3",
         "Hyundai i20 Sportz Diesel",
         "2010",
         "225000",
         "127000",
         "Diesel",
         "Individual",
         "Manual",
         "1",
         "23.0 kmpl",
         "1396 CC",
         "90 bhp",
         "22.4 kgm at 1750-2750rpm",
         "5.0"
        ],
        [
         "4",
         "Maruti Swift VXI BSIII",
         "2007",
         "130000",
         "120000",
         "Petrol",
         "Individual",
         "Manual",
         "1",
         "16.1 kmpl",
         "1298 CC",
         "88.2 bhp",
         "11.5@ 4,500(kgm@ rpm)",
         "5.0"
        ]
       ],
       "shape": {
        "columns": 13,
        "rows": 5
       }
      },
      "text/html": [
       "<div>\n",
       "<style scoped>\n",
       "    .dataframe tbody tr th:only-of-type {\n",
       "        vertical-align: middle;\n",
       "    }\n",
       "\n",
       "    .dataframe tbody tr th {\n",
       "        vertical-align: top;\n",
       "    }\n",
       "\n",
       "    .dataframe thead th {\n",
       "        text-align: right;\n",
       "    }\n",
       "</style>\n",
       "<table border=\"1\" class=\"dataframe\">\n",
       "  <thead>\n",
       "    <tr style=\"text-align: right;\">\n",
       "      <th></th>\n",
       "      <th>name</th>\n",
       "      <th>year</th>\n",
       "      <th>selling_price</th>\n",
       "      <th>km_driven</th>\n",
       "      <th>fuel</th>\n",
       "      <th>seller_type</th>\n",
       "      <th>transmission</th>\n",
       "      <th>owner</th>\n",
       "      <th>mileage</th>\n",
       "      <th>engine</th>\n",
       "      <th>max_power</th>\n",
       "      <th>torque</th>\n",
       "      <th>seats</th>\n",
       "    </tr>\n",
       "  </thead>\n",
       "  <tbody>\n",
       "    <tr>\n",
       "      <th>0</th>\n",
       "      <td>Maruti Swift Dzire VDI</td>\n",
       "      <td>2014</td>\n",
       "      <td>450000</td>\n",
       "      <td>145500</td>\n",
       "      <td>Diesel</td>\n",
       "      <td>Individual</td>\n",
       "      <td>Manual</td>\n",
       "      <td>1</td>\n",
       "      <td>23.4 kmpl</td>\n",
       "      <td>1248 CC</td>\n",
       "      <td>74 bhp</td>\n",
       "      <td>190Nm@ 2000rpm</td>\n",
       "      <td>5.0</td>\n",
       "    </tr>\n",
       "    <tr>\n",
       "      <th>1</th>\n",
       "      <td>Skoda Rapid 1.5 TDI Ambition</td>\n",
       "      <td>2014</td>\n",
       "      <td>370000</td>\n",
       "      <td>120000</td>\n",
       "      <td>Diesel</td>\n",
       "      <td>Individual</td>\n",
       "      <td>Manual</td>\n",
       "      <td>2</td>\n",
       "      <td>21.14 kmpl</td>\n",
       "      <td>1498 CC</td>\n",
       "      <td>103.52 bhp</td>\n",
       "      <td>250Nm@ 1500-2500rpm</td>\n",
       "      <td>5.0</td>\n",
       "    </tr>\n",
       "    <tr>\n",
       "      <th>2</th>\n",
       "      <td>Honda City 2017-2020 EXi</td>\n",
       "      <td>2006</td>\n",
       "      <td>158000</td>\n",
       "      <td>140000</td>\n",
       "      <td>Petrol</td>\n",
       "      <td>Individual</td>\n",
       "      <td>Manual</td>\n",
       "      <td>3</td>\n",
       "      <td>17.7 kmpl</td>\n",
       "      <td>1497 CC</td>\n",
       "      <td>78 bhp</td>\n",
       "      <td>12.7@ 2,700(kgm@ rpm)</td>\n",
       "      <td>5.0</td>\n",
       "    </tr>\n",
       "    <tr>\n",
       "      <th>3</th>\n",
       "      <td>Hyundai i20 Sportz Diesel</td>\n",
       "      <td>2010</td>\n",
       "      <td>225000</td>\n",
       "      <td>127000</td>\n",
       "      <td>Diesel</td>\n",
       "      <td>Individual</td>\n",
       "      <td>Manual</td>\n",
       "      <td>1</td>\n",
       "      <td>23.0 kmpl</td>\n",
       "      <td>1396 CC</td>\n",
       "      <td>90 bhp</td>\n",
       "      <td>22.4 kgm at 1750-2750rpm</td>\n",
       "      <td>5.0</td>\n",
       "    </tr>\n",
       "    <tr>\n",
       "      <th>4</th>\n",
       "      <td>Maruti Swift VXI BSIII</td>\n",
       "      <td>2007</td>\n",
       "      <td>130000</td>\n",
       "      <td>120000</td>\n",
       "      <td>Petrol</td>\n",
       "      <td>Individual</td>\n",
       "      <td>Manual</td>\n",
       "      <td>1</td>\n",
       "      <td>16.1 kmpl</td>\n",
       "      <td>1298 CC</td>\n",
       "      <td>88.2 bhp</td>\n",
       "      <td>11.5@ 4,500(kgm@ rpm)</td>\n",
       "      <td>5.0</td>\n",
       "    </tr>\n",
       "  </tbody>\n",
       "</table>\n",
       "</div>"
      ],
      "text/plain": [
       "                           name  year  selling_price  km_driven    fuel  \\\n",
       "0        Maruti Swift Dzire VDI  2014         450000     145500  Diesel   \n",
       "1  Skoda Rapid 1.5 TDI Ambition  2014         370000     120000  Diesel   \n",
       "2      Honda City 2017-2020 EXi  2006         158000     140000  Petrol   \n",
       "3     Hyundai i20 Sportz Diesel  2010         225000     127000  Diesel   \n",
       "4        Maruti Swift VXI BSIII  2007         130000     120000  Petrol   \n",
       "\n",
       "  seller_type transmission  owner     mileage   engine   max_power  \\\n",
       "0  Individual       Manual      1   23.4 kmpl  1248 CC      74 bhp   \n",
       "1  Individual       Manual      2  21.14 kmpl  1498 CC  103.52 bhp   \n",
       "2  Individual       Manual      3   17.7 kmpl  1497 CC      78 bhp   \n",
       "3  Individual       Manual      1   23.0 kmpl  1396 CC      90 bhp   \n",
       "4  Individual       Manual      1   16.1 kmpl  1298 CC    88.2 bhp   \n",
       "\n",
       "                     torque  seats  \n",
       "0            190Nm@ 2000rpm    5.0  \n",
       "1       250Nm@ 1500-2500rpm    5.0  \n",
       "2     12.7@ 2,700(kgm@ rpm)    5.0  \n",
       "3  22.4 kgm at 1750-2750rpm    5.0  \n",
       "4     11.5@ 4,500(kgm@ rpm)    5.0  "
      ]
     },
     "execution_count": 9,
     "metadata": {},
     "output_type": "execute_result"
    }
   ],
   "source": [
    "\n",
    "print(loaded_cars.shape)\n",
    "loaded_cars = loaded_cars.drop(loaded_cars[(loaded_cars['fuel'] == 'CNG') | (loaded_cars['fuel'] == 'LPG')].index)\n",
    "print(loaded_cars.shape)\n",
    "loaded_cars.head()\n"
   ]
  },
  {
   "cell_type": "code",
   "execution_count": 10,
   "metadata": {
    "colab": {
     "base_uri": "https://localhost:8080/",
     "height": 206
    },
    "id": "BxkBNavLwURS",
    "outputId": "120f1983-5246-42aa-cb6f-646e433789cf"
   },
   "outputs": [
    {
     "data": {
      "application/vnd.microsoft.datawrangler.viewer.v0+json": {
       "columns": [
        {
         "name": "index",
         "rawType": "int64",
         "type": "integer"
        },
        {
         "name": "name",
         "rawType": "object",
         "type": "string"
        },
        {
         "name": "year",
         "rawType": "int64",
         "type": "integer"
        },
        {
         "name": "selling_price",
         "rawType": "int64",
         "type": "integer"
        },
        {
         "name": "km_driven",
         "rawType": "int64",
         "type": "integer"
        },
        {
         "name": "fuel",
         "rawType": "object",
         "type": "string"
        },
        {
         "name": "seller_type",
         "rawType": "object",
         "type": "string"
        },
        {
         "name": "transmission",
         "rawType": "object",
         "type": "string"
        },
        {
         "name": "owner",
         "rawType": "int64",
         "type": "integer"
        },
        {
         "name": "mileage",
         "rawType": "float64",
         "type": "float"
        },
        {
         "name": "engine",
         "rawType": "float64",
         "type": "float"
        },
        {
         "name": "max_power",
         "rawType": "float64",
         "type": "float"
        },
        {
         "name": "torque",
         "rawType": "object",
         "type": "string"
        },
        {
         "name": "seats",
         "rawType": "float64",
         "type": "float"
        }
       ],
       "ref": "7f9ce87b-49ef-414d-a4d4-570f1f6fc78c",
       "rows": [
        [
         "0",
         "Maruti",
         "2014",
         "450000",
         "145500",
         "Diesel",
         "Individual",
         "Manual",
         "1",
         "23.4",
         "1248.0",
         "74.0",
         "190Nm@ 2000rpm",
         "5.0"
        ],
        [
         "1",
         "Skoda",
         "2014",
         "370000",
         "120000",
         "Diesel",
         "Individual",
         "Manual",
         "2",
         "21.14",
         "1498.0",
         "103.52",
         "250Nm@ 1500-2500rpm",
         "5.0"
        ],
        [
         "2",
         "Honda",
         "2006",
         "158000",
         "140000",
         "Petrol",
         "Individual",
         "Manual",
         "3",
         "17.7",
         "1497.0",
         "78.0",
         "12.7@ 2,700(kgm@ rpm)",
         "5.0"
        ],
        [
         "3",
         "Hyundai",
         "2010",
         "225000",
         "127000",
         "Diesel",
         "Individual",
         "Manual",
         "1",
         "23.0",
         "1396.0",
         "90.0",
         "22.4 kgm at 1750-2750rpm",
         "5.0"
        ],
        [
         "4",
         "Maruti",
         "2007",
         "130000",
         "120000",
         "Petrol",
         "Individual",
         "Manual",
         "1",
         "16.1",
         "1298.0",
         "88.2",
         "11.5@ 4,500(kgm@ rpm)",
         "5.0"
        ]
       ],
       "shape": {
        "columns": 13,
        "rows": 5
       }
      },
      "text/html": [
       "<div>\n",
       "<style scoped>\n",
       "    .dataframe tbody tr th:only-of-type {\n",
       "        vertical-align: middle;\n",
       "    }\n",
       "\n",
       "    .dataframe tbody tr th {\n",
       "        vertical-align: top;\n",
       "    }\n",
       "\n",
       "    .dataframe thead th {\n",
       "        text-align: right;\n",
       "    }\n",
       "</style>\n",
       "<table border=\"1\" class=\"dataframe\">\n",
       "  <thead>\n",
       "    <tr style=\"text-align: right;\">\n",
       "      <th></th>\n",
       "      <th>name</th>\n",
       "      <th>year</th>\n",
       "      <th>selling_price</th>\n",
       "      <th>km_driven</th>\n",
       "      <th>fuel</th>\n",
       "      <th>seller_type</th>\n",
       "      <th>transmission</th>\n",
       "      <th>owner</th>\n",
       "      <th>mileage</th>\n",
       "      <th>engine</th>\n",
       "      <th>max_power</th>\n",
       "      <th>torque</th>\n",
       "      <th>seats</th>\n",
       "    </tr>\n",
       "  </thead>\n",
       "  <tbody>\n",
       "    <tr>\n",
       "      <th>0</th>\n",
       "      <td>Maruti</td>\n",
       "      <td>2014</td>\n",
       "      <td>450000</td>\n",
       "      <td>145500</td>\n",
       "      <td>Diesel</td>\n",
       "      <td>Individual</td>\n",
       "      <td>Manual</td>\n",
       "      <td>1</td>\n",
       "      <td>23.40</td>\n",
       "      <td>1248.0</td>\n",
       "      <td>74.00</td>\n",
       "      <td>190Nm@ 2000rpm</td>\n",
       "      <td>5.0</td>\n",
       "    </tr>\n",
       "    <tr>\n",
       "      <th>1</th>\n",
       "      <td>Skoda</td>\n",
       "      <td>2014</td>\n",
       "      <td>370000</td>\n",
       "      <td>120000</td>\n",
       "      <td>Diesel</td>\n",
       "      <td>Individual</td>\n",
       "      <td>Manual</td>\n",
       "      <td>2</td>\n",
       "      <td>21.14</td>\n",
       "      <td>1498.0</td>\n",
       "      <td>103.52</td>\n",
       "      <td>250Nm@ 1500-2500rpm</td>\n",
       "      <td>5.0</td>\n",
       "    </tr>\n",
       "    <tr>\n",
       "      <th>2</th>\n",
       "      <td>Honda</td>\n",
       "      <td>2006</td>\n",
       "      <td>158000</td>\n",
       "      <td>140000</td>\n",
       "      <td>Petrol</td>\n",
       "      <td>Individual</td>\n",
       "      <td>Manual</td>\n",
       "      <td>3</td>\n",
       "      <td>17.70</td>\n",
       "      <td>1497.0</td>\n",
       "      <td>78.00</td>\n",
       "      <td>12.7@ 2,700(kgm@ rpm)</td>\n",
       "      <td>5.0</td>\n",
       "    </tr>\n",
       "    <tr>\n",
       "      <th>3</th>\n",
       "      <td>Hyundai</td>\n",
       "      <td>2010</td>\n",
       "      <td>225000</td>\n",
       "      <td>127000</td>\n",
       "      <td>Diesel</td>\n",
       "      <td>Individual</td>\n",
       "      <td>Manual</td>\n",
       "      <td>1</td>\n",
       "      <td>23.00</td>\n",
       "      <td>1396.0</td>\n",
       "      <td>90.00</td>\n",
       "      <td>22.4 kgm at 1750-2750rpm</td>\n",
       "      <td>5.0</td>\n",
       "    </tr>\n",
       "    <tr>\n",
       "      <th>4</th>\n",
       "      <td>Maruti</td>\n",
       "      <td>2007</td>\n",
       "      <td>130000</td>\n",
       "      <td>120000</td>\n",
       "      <td>Petrol</td>\n",
       "      <td>Individual</td>\n",
       "      <td>Manual</td>\n",
       "      <td>1</td>\n",
       "      <td>16.10</td>\n",
       "      <td>1298.0</td>\n",
       "      <td>88.20</td>\n",
       "      <td>11.5@ 4,500(kgm@ rpm)</td>\n",
       "      <td>5.0</td>\n",
       "    </tr>\n",
       "  </tbody>\n",
       "</table>\n",
       "</div>"
      ],
      "text/plain": [
       "      name  year  selling_price  km_driven    fuel seller_type transmission  \\\n",
       "0   Maruti  2014         450000     145500  Diesel  Individual       Manual   \n",
       "1    Skoda  2014         370000     120000  Diesel  Individual       Manual   \n",
       "2    Honda  2006         158000     140000  Petrol  Individual       Manual   \n",
       "3  Hyundai  2010         225000     127000  Diesel  Individual       Manual   \n",
       "4   Maruti  2007         130000     120000  Petrol  Individual       Manual   \n",
       "\n",
       "   owner  mileage  engine  max_power                    torque  seats  \n",
       "0      1    23.40  1248.0      74.00            190Nm@ 2000rpm    5.0  \n",
       "1      2    21.14  1498.0     103.52       250Nm@ 1500-2500rpm    5.0  \n",
       "2      3    17.70  1497.0      78.00     12.7@ 2,700(kgm@ rpm)    5.0  \n",
       "3      1    23.00  1396.0      90.00  22.4 kgm at 1750-2750rpm    5.0  \n",
       "4      1    16.10  1298.0      88.20     11.5@ 4,500(kgm@ rpm)    5.0  "
      ]
     },
     "execution_count": 10,
     "metadata": {},
     "output_type": "execute_result"
    }
   ],
   "source": [
    "loaded_cars['mileage']=loaded_cars['mileage'].str.replace(' kmpl','').astype(float)\n",
    "loaded_cars['engine']=loaded_cars['engine'].str.replace(' CC','').astype(float)\n",
    "loaded_cars['max_power']=loaded_cars['max_power'].str.replace(' bhp','').astype(float)\n",
    "loaded_cars['name']=loaded_cars['name'].str.split(\" \").str[0]\n",
    "loaded_cars.head()"
   ]
  },
  {
   "cell_type": "code",
   "execution_count": 11,
   "metadata": {
    "colab": {
     "base_uri": "https://localhost:8080/",
     "height": 492
    },
    "id": "V_F9jR6gwQRC",
    "outputId": "df0fd7a8-4e1c-4970-fd3d-028136fac3a9"
   },
   "outputs": [
    {
     "data": {
      "application/vnd.microsoft.datawrangler.viewer.v0+json": {
       "columns": [
        {
         "name": "index",
         "rawType": "object",
         "type": "string"
        },
        {
         "name": "0",
         "rawType": "int64",
         "type": "integer"
        }
       ],
       "ref": "e41b5188-dbba-4660-bb4a-5128d91cbf53",
       "rows": [
        [
         "name",
         "0"
        ],
        [
         "year",
         "0"
        ],
        [
         "selling_price",
         "0"
        ],
        [
         "km_driven",
         "0"
        ],
        [
         "fuel",
         "0"
        ],
        [
         "seller_type",
         "0"
        ],
        [
         "transmission",
         "0"
        ],
        [
         "owner",
         "0"
        ],
        [
         "mileage",
         "214"
        ],
        [
         "engine",
         "214"
        ],
        [
         "max_power",
         "208"
        ],
        [
         "torque",
         "214"
        ],
        [
         "seats",
         "214"
        ]
       ],
       "shape": {
        "columns": 1,
        "rows": 13
       }
      },
      "text/plain": [
       "name               0\n",
       "year               0\n",
       "selling_price      0\n",
       "km_driven          0\n",
       "fuel               0\n",
       "seller_type        0\n",
       "transmission       0\n",
       "owner              0\n",
       "mileage          214\n",
       "engine           214\n",
       "max_power        208\n",
       "torque           214\n",
       "seats            214\n",
       "dtype: int64"
      ]
     },
     "execution_count": 11,
     "metadata": {},
     "output_type": "execute_result"
    }
   ],
   "source": [
    "null_count=loaded_cars.isnull().sum()\n",
    "null_count"
   ]
  },
  {
   "cell_type": "code",
   "execution_count": 12,
   "metadata": {
    "id": "b9DT2Us1TnE5"
   },
   "outputs": [],
   "source": [
    "loaded_cars['mileage'] = loaded_cars['mileage'].fillna(loaded_cars['mileage'].median())\n",
    "loaded_cars['engine'] = loaded_cars['engine'].fillna(loaded_cars['engine'].median())\n",
    "loaded_cars['max_power'] = loaded_cars['max_power'].fillna(loaded_cars['max_power'].median())\n",
    "loaded_cars['seats'] = loaded_cars['seats'].fillna(loaded_cars['seats'].median())\n"
   ]
  },
  {
   "cell_type": "code",
   "execution_count": 13,
   "metadata": {
    "colab": {
     "base_uri": "https://localhost:8080/"
    },
    "id": "O9aSXA5vKjhf",
    "outputId": "a99a9131-c635-49f4-ece5-bc42d35c1559"
   },
   "outputs": [
    {
     "data": {
      "text/plain": [
       "['medians.pkl']"
      ]
     },
     "execution_count": 13,
     "metadata": {},
     "output_type": "execute_result"
    }
   ],
   "source": [
    "medians = {\n",
    "    \"year\": loaded_cars['year'].median(),\n",
    "    \"mileage\": loaded_cars['mileage'].median(),\n",
    "    \"max_power\": loaded_cars['max_power'].median()\n",
    "}\n",
    "joblib.dump(medians, \"medians.pkl\")"
   ]
  },
  {
   "cell_type": "code",
   "execution_count": 14,
   "metadata": {
    "colab": {
     "base_uri": "https://localhost:8080/",
     "height": 206
    },
    "id": "4oeOBwJXwauy",
    "outputId": "f9828484-5a07-4209-84fb-44990a7a47e2"
   },
   "outputs": [
    {
     "data": {
      "application/vnd.microsoft.datawrangler.viewer.v0+json": {
       "columns": [
        {
         "name": "index",
         "rawType": "int64",
         "type": "integer"
        },
        {
         "name": "name",
         "rawType": "object",
         "type": "string"
        },
        {
         "name": "year",
         "rawType": "int64",
         "type": "integer"
        },
        {
         "name": "selling_price",
         "rawType": "int64",
         "type": "integer"
        },
        {
         "name": "km_driven",
         "rawType": "int64",
         "type": "integer"
        },
        {
         "name": "fuel",
         "rawType": "object",
         "type": "string"
        },
        {
         "name": "seller_type",
         "rawType": "object",
         "type": "string"
        },
        {
         "name": "transmission",
         "rawType": "object",
         "type": "string"
        },
        {
         "name": "owner",
         "rawType": "int64",
         "type": "integer"
        },
        {
         "name": "mileage",
         "rawType": "float64",
         "type": "float"
        },
        {
         "name": "engine",
         "rawType": "float64",
         "type": "float"
        },
        {
         "name": "max_power",
         "rawType": "float64",
         "type": "float"
        },
        {
         "name": "seats",
         "rawType": "float64",
         "type": "float"
        }
       ],
       "ref": "c14e2ef0-f250-4722-a177-b10b49b08d77",
       "rows": [
        [
         "0",
         "Maruti",
         "2014",
         "450000",
         "145500",
         "Diesel",
         "Individual",
         "Manual",
         "1",
         "23.4",
         "1248.0",
         "74.0",
         "5.0"
        ],
        [
         "1",
         "Skoda",
         "2014",
         "370000",
         "120000",
         "Diesel",
         "Individual",
         "Manual",
         "2",
         "21.14",
         "1498.0",
         "103.52",
         "5.0"
        ],
        [
         "2",
         "Honda",
         "2006",
         "158000",
         "140000",
         "Petrol",
         "Individual",
         "Manual",
         "3",
         "17.7",
         "1497.0",
         "78.0",
         "5.0"
        ],
        [
         "3",
         "Hyundai",
         "2010",
         "225000",
         "127000",
         "Diesel",
         "Individual",
         "Manual",
         "1",
         "23.0",
         "1396.0",
         "90.0",
         "5.0"
        ],
        [
         "4",
         "Maruti",
         "2007",
         "130000",
         "120000",
         "Petrol",
         "Individual",
         "Manual",
         "1",
         "16.1",
         "1298.0",
         "88.2",
         "5.0"
        ]
       ],
       "shape": {
        "columns": 12,
        "rows": 5
       }
      },
      "text/html": [
       "<div>\n",
       "<style scoped>\n",
       "    .dataframe tbody tr th:only-of-type {\n",
       "        vertical-align: middle;\n",
       "    }\n",
       "\n",
       "    .dataframe tbody tr th {\n",
       "        vertical-align: top;\n",
       "    }\n",
       "\n",
       "    .dataframe thead th {\n",
       "        text-align: right;\n",
       "    }\n",
       "</style>\n",
       "<table border=\"1\" class=\"dataframe\">\n",
       "  <thead>\n",
       "    <tr style=\"text-align: right;\">\n",
       "      <th></th>\n",
       "      <th>name</th>\n",
       "      <th>year</th>\n",
       "      <th>selling_price</th>\n",
       "      <th>km_driven</th>\n",
       "      <th>fuel</th>\n",
       "      <th>seller_type</th>\n",
       "      <th>transmission</th>\n",
       "      <th>owner</th>\n",
       "      <th>mileage</th>\n",
       "      <th>engine</th>\n",
       "      <th>max_power</th>\n",
       "      <th>seats</th>\n",
       "    </tr>\n",
       "  </thead>\n",
       "  <tbody>\n",
       "    <tr>\n",
       "      <th>0</th>\n",
       "      <td>Maruti</td>\n",
       "      <td>2014</td>\n",
       "      <td>450000</td>\n",
       "      <td>145500</td>\n",
       "      <td>Diesel</td>\n",
       "      <td>Individual</td>\n",
       "      <td>Manual</td>\n",
       "      <td>1</td>\n",
       "      <td>23.40</td>\n",
       "      <td>1248.0</td>\n",
       "      <td>74.00</td>\n",
       "      <td>5.0</td>\n",
       "    </tr>\n",
       "    <tr>\n",
       "      <th>1</th>\n",
       "      <td>Skoda</td>\n",
       "      <td>2014</td>\n",
       "      <td>370000</td>\n",
       "      <td>120000</td>\n",
       "      <td>Diesel</td>\n",
       "      <td>Individual</td>\n",
       "      <td>Manual</td>\n",
       "      <td>2</td>\n",
       "      <td>21.14</td>\n",
       "      <td>1498.0</td>\n",
       "      <td>103.52</td>\n",
       "      <td>5.0</td>\n",
       "    </tr>\n",
       "    <tr>\n",
       "      <th>2</th>\n",
       "      <td>Honda</td>\n",
       "      <td>2006</td>\n",
       "      <td>158000</td>\n",
       "      <td>140000</td>\n",
       "      <td>Petrol</td>\n",
       "      <td>Individual</td>\n",
       "      <td>Manual</td>\n",
       "      <td>3</td>\n",
       "      <td>17.70</td>\n",
       "      <td>1497.0</td>\n",
       "      <td>78.00</td>\n",
       "      <td>5.0</td>\n",
       "    </tr>\n",
       "    <tr>\n",
       "      <th>3</th>\n",
       "      <td>Hyundai</td>\n",
       "      <td>2010</td>\n",
       "      <td>225000</td>\n",
       "      <td>127000</td>\n",
       "      <td>Diesel</td>\n",
       "      <td>Individual</td>\n",
       "      <td>Manual</td>\n",
       "      <td>1</td>\n",
       "      <td>23.00</td>\n",
       "      <td>1396.0</td>\n",
       "      <td>90.00</td>\n",
       "      <td>5.0</td>\n",
       "    </tr>\n",
       "    <tr>\n",
       "      <th>4</th>\n",
       "      <td>Maruti</td>\n",
       "      <td>2007</td>\n",
       "      <td>130000</td>\n",
       "      <td>120000</td>\n",
       "      <td>Petrol</td>\n",
       "      <td>Individual</td>\n",
       "      <td>Manual</td>\n",
       "      <td>1</td>\n",
       "      <td>16.10</td>\n",
       "      <td>1298.0</td>\n",
       "      <td>88.20</td>\n",
       "      <td>5.0</td>\n",
       "    </tr>\n",
       "  </tbody>\n",
       "</table>\n",
       "</div>"
      ],
      "text/plain": [
       "      name  year  selling_price  km_driven    fuel seller_type transmission  \\\n",
       "0   Maruti  2014         450000     145500  Diesel  Individual       Manual   \n",
       "1    Skoda  2014         370000     120000  Diesel  Individual       Manual   \n",
       "2    Honda  2006         158000     140000  Petrol  Individual       Manual   \n",
       "3  Hyundai  2010         225000     127000  Diesel  Individual       Manual   \n",
       "4   Maruti  2007         130000     120000  Petrol  Individual       Manual   \n",
       "\n",
       "   owner  mileage  engine  max_power  seats  \n",
       "0      1    23.40  1248.0      74.00    5.0  \n",
       "1      2    21.14  1498.0     103.52    5.0  \n",
       "2      3    17.70  1497.0      78.00    5.0  \n",
       "3      1    23.00  1396.0      90.00    5.0  \n",
       "4      1    16.10  1298.0      88.20    5.0  "
      ]
     },
     "execution_count": 14,
     "metadata": {},
     "output_type": "execute_result"
    }
   ],
   "source": [
    "loaded_cars.drop(['torque'],axis=1,inplace=True)\n",
    "loaded_cars.head()"
   ]
  },
  {
   "cell_type": "code",
   "execution_count": 15,
   "metadata": {
    "colab": {
     "base_uri": "https://localhost:8080/",
     "height": 460
    },
    "id": "-jDB4DT8T-G6",
    "outputId": "a0bf45b1-1c50-4ec1-a600-18a835b47dcf"
   },
   "outputs": [
    {
     "data": {
      "application/vnd.microsoft.datawrangler.viewer.v0+json": {
       "columns": [
        {
         "name": "index",
         "rawType": "object",
         "type": "string"
        },
        {
         "name": "0",
         "rawType": "int64",
         "type": "integer"
        }
       ],
       "ref": "cbc15b59-aa6b-47d7-9db6-c50876da4220",
       "rows": [
        [
         "name",
         "0"
        ],
        [
         "year",
         "0"
        ],
        [
         "selling_price",
         "0"
        ],
        [
         "km_driven",
         "0"
        ],
        [
         "fuel",
         "0"
        ],
        [
         "seller_type",
         "0"
        ],
        [
         "transmission",
         "0"
        ],
        [
         "owner",
         "0"
        ],
        [
         "mileage",
         "0"
        ],
        [
         "engine",
         "0"
        ],
        [
         "max_power",
         "0"
        ],
        [
         "seats",
         "0"
        ]
       ],
       "shape": {
        "columns": 1,
        "rows": 12
       }
      },
      "text/plain": [
       "name             0\n",
       "year             0\n",
       "selling_price    0\n",
       "km_driven        0\n",
       "fuel             0\n",
       "seller_type      0\n",
       "transmission     0\n",
       "owner            0\n",
       "mileage          0\n",
       "engine           0\n",
       "max_power        0\n",
       "seats            0\n",
       "dtype: int64"
      ]
     },
     "execution_count": 15,
     "metadata": {},
     "output_type": "execute_result"
    }
   ],
   "source": [
    "null_count=loaded_cars.isnull().sum()\n",
    "null_count"
   ]
  },
  {
   "cell_type": "code",
   "execution_count": 16,
   "metadata": {
    "colab": {
     "base_uri": "https://localhost:8080/"
    },
    "id": "0AENe2Y5s3yC",
    "outputId": "1fec39b4-7f5e-456b-f7fb-baa263afb13c"
   },
   "outputs": [
    {
     "name": "stdout",
     "output_type": "stream",
     "text": [
      "32  unique car names\n"
     ]
    },
    {
     "data": {
      "text/plain": [
       "array(['Maruti', 'Skoda', 'Honda', 'Hyundai', 'Toyota', 'Ford', 'Renault',\n",
       "       'Mahindra', 'Tata', 'Chevrolet', 'Fiat', 'Datsun', 'Jeep',\n",
       "       'Mercedes-Benz', 'Mitsubishi', 'Audi', 'Volkswagen', 'BMW',\n",
       "       'Nissan', 'Lexus', 'Jaguar', 'Land', 'MG', 'Volvo', 'Daewoo',\n",
       "       'Kia', 'Force', 'Ambassador', 'Ashok', 'Isuzu', 'Opel', 'Peugeot'],\n",
       "      dtype=object)"
      ]
     },
     "execution_count": 16,
     "metadata": {},
     "output_type": "execute_result"
    }
   ],
   "source": [
    "unique_cars=loaded_cars['name'].unique()\n",
    "print(len(unique_cars),\" unique car names\")\n",
    "unique_cars"
   ]
  },
  {
   "cell_type": "code",
   "execution_count": 17,
   "metadata": {
    "colab": {
     "base_uri": "https://localhost:8080/",
     "height": 241
    },
    "id": "7mlFiwQZ6Wwm",
    "outputId": "fd2854e0-bc2a-4bff-8565-6fc5c42d3229"
   },
   "outputs": [
    {
     "name": "stdout",
     "output_type": "stream",
     "text": [
      "(8033, 12)\n",
      "(8028, 12)\n"
     ]
    },
    {
     "data": {
      "application/vnd.microsoft.datawrangler.viewer.v0+json": {
       "columns": [
        {
         "name": "index",
         "rawType": "int64",
         "type": "integer"
        },
        {
         "name": "name",
         "rawType": "object",
         "type": "string"
        },
        {
         "name": "year",
         "rawType": "int64",
         "type": "integer"
        },
        {
         "name": "selling_price",
         "rawType": "int64",
         "type": "integer"
        },
        {
         "name": "km_driven",
         "rawType": "int64",
         "type": "integer"
        },
        {
         "name": "fuel",
         "rawType": "object",
         "type": "string"
        },
        {
         "name": "seller_type",
         "rawType": "object",
         "type": "string"
        },
        {
         "name": "transmission",
         "rawType": "object",
         "type": "string"
        },
        {
         "name": "owner",
         "rawType": "int64",
         "type": "integer"
        },
        {
         "name": "mileage",
         "rawType": "float64",
         "type": "float"
        },
        {
         "name": "engine",
         "rawType": "float64",
         "type": "float"
        },
        {
         "name": "max_power",
         "rawType": "float64",
         "type": "float"
        },
        {
         "name": "seats",
         "rawType": "float64",
         "type": "float"
        }
       ],
       "ref": "cf269ee4-d866-4e97-8ca5-9cbea5ecb787",
       "rows": [
        [
         "0",
         "Maruti",
         "2014",
         "450000",
         "145500",
         "Diesel",
         "Individual",
         "Manual",
         "1",
         "23.4",
         "1248.0",
         "74.0",
         "5.0"
        ],
        [
         "1",
         "Skoda",
         "2014",
         "370000",
         "120000",
         "Diesel",
         "Individual",
         "Manual",
         "2",
         "21.14",
         "1498.0",
         "103.52",
         "5.0"
        ],
        [
         "2",
         "Honda",
         "2006",
         "158000",
         "140000",
         "Petrol",
         "Individual",
         "Manual",
         "3",
         "17.7",
         "1497.0",
         "78.0",
         "5.0"
        ],
        [
         "3",
         "Hyundai",
         "2010",
         "225000",
         "127000",
         "Diesel",
         "Individual",
         "Manual",
         "1",
         "23.0",
         "1396.0",
         "90.0",
         "5.0"
        ],
        [
         "4",
         "Maruti",
         "2007",
         "130000",
         "120000",
         "Petrol",
         "Individual",
         "Manual",
         "1",
         "16.1",
         "1298.0",
         "88.2",
         "5.0"
        ]
       ],
       "shape": {
        "columns": 12,
        "rows": 5
       }
      },
      "text/html": [
       "<div>\n",
       "<style scoped>\n",
       "    .dataframe tbody tr th:only-of-type {\n",
       "        vertical-align: middle;\n",
       "    }\n",
       "\n",
       "    .dataframe tbody tr th {\n",
       "        vertical-align: top;\n",
       "    }\n",
       "\n",
       "    .dataframe thead th {\n",
       "        text-align: right;\n",
       "    }\n",
       "</style>\n",
       "<table border=\"1\" class=\"dataframe\">\n",
       "  <thead>\n",
       "    <tr style=\"text-align: right;\">\n",
       "      <th></th>\n",
       "      <th>name</th>\n",
       "      <th>year</th>\n",
       "      <th>selling_price</th>\n",
       "      <th>km_driven</th>\n",
       "      <th>fuel</th>\n",
       "      <th>seller_type</th>\n",
       "      <th>transmission</th>\n",
       "      <th>owner</th>\n",
       "      <th>mileage</th>\n",
       "      <th>engine</th>\n",
       "      <th>max_power</th>\n",
       "      <th>seats</th>\n",
       "    </tr>\n",
       "  </thead>\n",
       "  <tbody>\n",
       "    <tr>\n",
       "      <th>0</th>\n",
       "      <td>Maruti</td>\n",
       "      <td>2014</td>\n",
       "      <td>450000</td>\n",
       "      <td>145500</td>\n",
       "      <td>Diesel</td>\n",
       "      <td>Individual</td>\n",
       "      <td>Manual</td>\n",
       "      <td>1</td>\n",
       "      <td>23.40</td>\n",
       "      <td>1248.0</td>\n",
       "      <td>74.00</td>\n",
       "      <td>5.0</td>\n",
       "    </tr>\n",
       "    <tr>\n",
       "      <th>1</th>\n",
       "      <td>Skoda</td>\n",
       "      <td>2014</td>\n",
       "      <td>370000</td>\n",
       "      <td>120000</td>\n",
       "      <td>Diesel</td>\n",
       "      <td>Individual</td>\n",
       "      <td>Manual</td>\n",
       "      <td>2</td>\n",
       "      <td>21.14</td>\n",
       "      <td>1498.0</td>\n",
       "      <td>103.52</td>\n",
       "      <td>5.0</td>\n",
       "    </tr>\n",
       "    <tr>\n",
       "      <th>2</th>\n",
       "      <td>Honda</td>\n",
       "      <td>2006</td>\n",
       "      <td>158000</td>\n",
       "      <td>140000</td>\n",
       "      <td>Petrol</td>\n",
       "      <td>Individual</td>\n",
       "      <td>Manual</td>\n",
       "      <td>3</td>\n",
       "      <td>17.70</td>\n",
       "      <td>1497.0</td>\n",
       "      <td>78.00</td>\n",
       "      <td>5.0</td>\n",
       "    </tr>\n",
       "    <tr>\n",
       "      <th>3</th>\n",
       "      <td>Hyundai</td>\n",
       "      <td>2010</td>\n",
       "      <td>225000</td>\n",
       "      <td>127000</td>\n",
       "      <td>Diesel</td>\n",
       "      <td>Individual</td>\n",
       "      <td>Manual</td>\n",
       "      <td>1</td>\n",
       "      <td>23.00</td>\n",
       "      <td>1396.0</td>\n",
       "      <td>90.00</td>\n",
       "      <td>5.0</td>\n",
       "    </tr>\n",
       "    <tr>\n",
       "      <th>4</th>\n",
       "      <td>Maruti</td>\n",
       "      <td>2007</td>\n",
       "      <td>130000</td>\n",
       "      <td>120000</td>\n",
       "      <td>Petrol</td>\n",
       "      <td>Individual</td>\n",
       "      <td>Manual</td>\n",
       "      <td>1</td>\n",
       "      <td>16.10</td>\n",
       "      <td>1298.0</td>\n",
       "      <td>88.20</td>\n",
       "      <td>5.0</td>\n",
       "    </tr>\n",
       "  </tbody>\n",
       "</table>\n",
       "</div>"
      ],
      "text/plain": [
       "      name  year  selling_price  km_driven    fuel seller_type transmission  \\\n",
       "0   Maruti  2014         450000     145500  Diesel  Individual       Manual   \n",
       "1    Skoda  2014         370000     120000  Diesel  Individual       Manual   \n",
       "2    Honda  2006         158000     140000  Petrol  Individual       Manual   \n",
       "3  Hyundai  2010         225000     127000  Diesel  Individual       Manual   \n",
       "4   Maruti  2007         130000     120000  Petrol  Individual       Manual   \n",
       "\n",
       "   owner  mileage  engine  max_power  seats  \n",
       "0      1    23.40  1248.0      74.00    5.0  \n",
       "1      2    21.14  1498.0     103.52    5.0  \n",
       "2      3    17.70  1497.0      78.00    5.0  \n",
       "3      1    23.00  1396.0      90.00    5.0  \n",
       "4      1    16.10  1298.0      88.20    5.0  "
      ]
     },
     "execution_count": 17,
     "metadata": {},
     "output_type": "execute_result"
    }
   ],
   "source": [
    "print(loaded_cars.shape)\n",
    "loaded_cars.drop(loaded_cars[loaded_cars['owner']==5].index, inplace=True)\n",
    "print(loaded_cars.shape)\n",
    "loaded_cars.head()"
   ]
  },
  {
   "cell_type": "code",
   "execution_count": 18,
   "metadata": {
    "id": "Bmod-53n2S99"
   },
   "outputs": [],
   "source": [
    "import seaborn as sns\n"
   ]
  },
  {
   "cell_type": "code",
   "execution_count": 19,
   "metadata": {
    "colab": {
     "base_uri": "https://localhost:8080/",
     "height": 300
    },
    "id": "0aF7haQ8Kn-z",
    "outputId": "e106a3db-c91c-4727-e8ad-f32a176325e1"
   },
   "outputs": [
    {
     "data": {
      "application/vnd.microsoft.datawrangler.viewer.v0+json": {
       "columns": [
        {
         "name": "index",
         "rawType": "object",
         "type": "string"
        },
        {
         "name": "year",
         "rawType": "float64",
         "type": "float"
        },
        {
         "name": "selling_price",
         "rawType": "float64",
         "type": "float"
        },
        {
         "name": "km_driven",
         "rawType": "float64",
         "type": "float"
        },
        {
         "name": "owner",
         "rawType": "float64",
         "type": "float"
        },
        {
         "name": "mileage",
         "rawType": "float64",
         "type": "float"
        },
        {
         "name": "engine",
         "rawType": "float64",
         "type": "float"
        },
        {
         "name": "max_power",
         "rawType": "float64",
         "type": "float"
        },
        {
         "name": "seats",
         "rawType": "float64",
         "type": "float"
        }
       ],
       "ref": "2ce48fe6-1b69-4ab0-a319-1c0d554dce04",
       "rows": [
        [
         "count",
         "8028.0",
         "8028.0",
         "8028.0",
         "8028.0",
         "8028.0",
         "8028.0",
         "8028.0",
         "8028.0"
        ],
        [
         "mean",
         "2013.8155206776282",
         "640393.6542102641",
         "69773.14025909317",
         "1.45802192326856",
         "19.389510463378176",
         "1457.1857249626307",
         "91.57566704035874",
         "5.410313901345291"
        ],
        [
         "std",
         "4.030835830063386",
         "802701.5487227301",
         "56644.187102038886",
         "0.7152831065593469",
         "3.948293283813202",
         "499.18778980807014",
         "35.36925101726778",
         "0.9526229426074475"
        ],
        [
         "min",
         "1983.0",
         "29999.0",
         "1000.0",
         "1.0",
         "0.0",
         "624.0",
         "0.0",
         "2.0"
        ],
        [
         "25%",
         "2011.0",
         "260000.0",
         "35000.0",
         "1.0",
         "16.8",
         "1197.0",
         "69.0",
         "5.0"
        ],
        [
         "50%",
         "2015.0",
         "450000.0",
         "60000.0",
         "1.0",
         "19.3",
         "1248.0",
         "82.4",
         "5.0"
        ],
        [
         "75%",
         "2017.0",
         "680000.0",
         "98000.0",
         "2.0",
         "22.1",
         "1582.0",
         "102.0",
         "5.0"
        ],
        [
         "max",
         "2020.0",
         "10000000.0",
         "2360457.0",
         "4.0",
         "42.0",
         "3604.0",
         "400.0",
         "14.0"
        ]
       ],
       "shape": {
        "columns": 8,
        "rows": 8
       }
      },
      "text/html": [
       "<div>\n",
       "<style scoped>\n",
       "    .dataframe tbody tr th:only-of-type {\n",
       "        vertical-align: middle;\n",
       "    }\n",
       "\n",
       "    .dataframe tbody tr th {\n",
       "        vertical-align: top;\n",
       "    }\n",
       "\n",
       "    .dataframe thead th {\n",
       "        text-align: right;\n",
       "    }\n",
       "</style>\n",
       "<table border=\"1\" class=\"dataframe\">\n",
       "  <thead>\n",
       "    <tr style=\"text-align: right;\">\n",
       "      <th></th>\n",
       "      <th>year</th>\n",
       "      <th>selling_price</th>\n",
       "      <th>km_driven</th>\n",
       "      <th>owner</th>\n",
       "      <th>mileage</th>\n",
       "      <th>engine</th>\n",
       "      <th>max_power</th>\n",
       "      <th>seats</th>\n",
       "    </tr>\n",
       "  </thead>\n",
       "  <tbody>\n",
       "    <tr>\n",
       "      <th>count</th>\n",
       "      <td>8028.000000</td>\n",
       "      <td>8.028000e+03</td>\n",
       "      <td>8.028000e+03</td>\n",
       "      <td>8028.000000</td>\n",
       "      <td>8028.000000</td>\n",
       "      <td>8028.000000</td>\n",
       "      <td>8028.000000</td>\n",
       "      <td>8028.000000</td>\n",
       "    </tr>\n",
       "    <tr>\n",
       "      <th>mean</th>\n",
       "      <td>2013.815521</td>\n",
       "      <td>6.403937e+05</td>\n",
       "      <td>6.977314e+04</td>\n",
       "      <td>1.458022</td>\n",
       "      <td>19.389510</td>\n",
       "      <td>1457.185725</td>\n",
       "      <td>91.575667</td>\n",
       "      <td>5.410314</td>\n",
       "    </tr>\n",
       "    <tr>\n",
       "      <th>std</th>\n",
       "      <td>4.030836</td>\n",
       "      <td>8.027015e+05</td>\n",
       "      <td>5.664419e+04</td>\n",
       "      <td>0.715283</td>\n",
       "      <td>3.948293</td>\n",
       "      <td>499.187790</td>\n",
       "      <td>35.369251</td>\n",
       "      <td>0.952623</td>\n",
       "    </tr>\n",
       "    <tr>\n",
       "      <th>min</th>\n",
       "      <td>1983.000000</td>\n",
       "      <td>2.999900e+04</td>\n",
       "      <td>1.000000e+03</td>\n",
       "      <td>1.000000</td>\n",
       "      <td>0.000000</td>\n",
       "      <td>624.000000</td>\n",
       "      <td>0.000000</td>\n",
       "      <td>2.000000</td>\n",
       "    </tr>\n",
       "    <tr>\n",
       "      <th>25%</th>\n",
       "      <td>2011.000000</td>\n",
       "      <td>2.600000e+05</td>\n",
       "      <td>3.500000e+04</td>\n",
       "      <td>1.000000</td>\n",
       "      <td>16.800000</td>\n",
       "      <td>1197.000000</td>\n",
       "      <td>69.000000</td>\n",
       "      <td>5.000000</td>\n",
       "    </tr>\n",
       "    <tr>\n",
       "      <th>50%</th>\n",
       "      <td>2015.000000</td>\n",
       "      <td>4.500000e+05</td>\n",
       "      <td>6.000000e+04</td>\n",
       "      <td>1.000000</td>\n",
       "      <td>19.300000</td>\n",
       "      <td>1248.000000</td>\n",
       "      <td>82.400000</td>\n",
       "      <td>5.000000</td>\n",
       "    </tr>\n",
       "    <tr>\n",
       "      <th>75%</th>\n",
       "      <td>2017.000000</td>\n",
       "      <td>6.800000e+05</td>\n",
       "      <td>9.800000e+04</td>\n",
       "      <td>2.000000</td>\n",
       "      <td>22.100000</td>\n",
       "      <td>1582.000000</td>\n",
       "      <td>102.000000</td>\n",
       "      <td>5.000000</td>\n",
       "    </tr>\n",
       "    <tr>\n",
       "      <th>max</th>\n",
       "      <td>2020.000000</td>\n",
       "      <td>1.000000e+07</td>\n",
       "      <td>2.360457e+06</td>\n",
       "      <td>4.000000</td>\n",
       "      <td>42.000000</td>\n",
       "      <td>3604.000000</td>\n",
       "      <td>400.000000</td>\n",
       "      <td>14.000000</td>\n",
       "    </tr>\n",
       "  </tbody>\n",
       "</table>\n",
       "</div>"
      ],
      "text/plain": [
       "              year  selling_price     km_driven        owner      mileage  \\\n",
       "count  8028.000000   8.028000e+03  8.028000e+03  8028.000000  8028.000000   \n",
       "mean   2013.815521   6.403937e+05  6.977314e+04     1.458022    19.389510   \n",
       "std       4.030836   8.027015e+05  5.664419e+04     0.715283     3.948293   \n",
       "min    1983.000000   2.999900e+04  1.000000e+03     1.000000     0.000000   \n",
       "25%    2011.000000   2.600000e+05  3.500000e+04     1.000000    16.800000   \n",
       "50%    2015.000000   4.500000e+05  6.000000e+04     1.000000    19.300000   \n",
       "75%    2017.000000   6.800000e+05  9.800000e+04     2.000000    22.100000   \n",
       "max    2020.000000   1.000000e+07  2.360457e+06     4.000000    42.000000   \n",
       "\n",
       "            engine    max_power        seats  \n",
       "count  8028.000000  8028.000000  8028.000000  \n",
       "mean   1457.185725    91.575667     5.410314  \n",
       "std     499.187790    35.369251     0.952623  \n",
       "min     624.000000     0.000000     2.000000  \n",
       "25%    1197.000000    69.000000     5.000000  \n",
       "50%    1248.000000    82.400000     5.000000  \n",
       "75%    1582.000000   102.000000     5.000000  \n",
       "max    3604.000000   400.000000    14.000000  "
      ]
     },
     "execution_count": 19,
     "metadata": {},
     "output_type": "execute_result"
    }
   ],
   "source": [
    "loaded_cars.describe()"
   ]
  },
  {
   "cell_type": "code",
   "execution_count": 20,
   "metadata": {
    "colab": {
     "base_uri": "https://localhost:8080/",
     "height": 52
    },
    "id": "RqL698jq25SD",
    "outputId": "2422a284-4f88-464d-992f-ab1ca32f4640"
   },
   "outputs": [
    {
     "data": {
      "text/plain": [
       "<Figure size 1200x1000 with 0 Axes>"
      ]
     },
     "execution_count": 20,
     "metadata": {},
     "output_type": "execute_result"
    },
    {
     "data": {
      "text/plain": [
       "<Figure size 1200x1000 with 0 Axes>"
      ]
     },
     "metadata": {},
     "output_type": "display_data"
    }
   ],
   "source": [
    "sns.set_style(style=\"whitegrid\")\n",
    "plt.figure(figsize=(12,10))"
   ]
  },
  {
   "cell_type": "code",
   "execution_count": null,
   "metadata": {
    "id": "KOZ0Ew0MrqM2"
   },
   "outputs": [],
   "source": []
  },
  {
   "cell_type": "code",
   "execution_count": 21,
   "metadata": {
    "colab": {
     "base_uri": "https://localhost:8080/",
     "height": 1000
    },
    "id": "PF03oBUa3RlM",
    "outputId": "6e2e80a5-251b-4420-96e5-6707c9a547c5"
   },
   "outputs": [
    {
     "data": {
      "image/png": "[encoded data removed]",
      "text/plain": [
       "<Figure size 1400x1200 with 9 Axes>"
      ]
     },
     "metadata": {},
     "output_type": "display_data"
    }
   ],
   "source": [
    "ax = loaded_cars.hist(figsize=(14, 12), edgecolor='black', grid=False)\n",
    "plt.suptitle(\"Numeric distribution of each columns\",fontsize=16)\n",
    "plt.subplots_adjust(hspace=0.5, wspace=0.5)\n",
    "plt.show()"
   ]
  },
  {
   "cell_type": "code",
   "execution_count": 22,
   "metadata": {
    "colab": {
     "base_uri": "https://localhost:8080/"
    },
    "id": "ez5-5xay5hYz",
    "outputId": "99108063-2694-4f66-e621-21bf75646ae4"
   },
   "outputs": [
    {
     "data": {
      "text/plain": [
       "Index(['year', 'selling_price', 'km_driven', 'owner', 'mileage', 'engine',\n",
       "       'max_power', 'seats'],\n",
       "      dtype='object')"
      ]
     },
     "execution_count": 22,
     "metadata": {},
     "output_type": "execute_result"
    }
   ],
   "source": [
    "numeric_columns=loaded_cars.select_dtypes(include=['int','float']).columns\n",
    "numeric_columns"
   ]
  },
  {
   "cell_type": "code",
   "execution_count": 23,
   "metadata": {
    "colab": {
     "base_uri": "https://localhost:8080/",
     "height": 606
    },
    "id": "swMeibjg5n5Y",
    "outputId": "f5a6b7ea-18f5-46e1-a189-bfacfe6e3925"
   },
   "outputs": [
    {
     "data": {
      "image/png": "[encoded data removed]",
      "text/plain": [
       "<Figure size 1000x600 with 8 Axes>"
      ]
     },
     "metadata": {},
     "output_type": "display_data"
    }
   ],
   "source": [
    "plt.figure(figsize=(10, 6))\n",
    "\n",
    "for i, col in enumerate(numeric_columns, 1):\n",
    "\n",
    "    plt.subplot(2, 4, i)\n",
    "    sns.scatterplot(x=loaded_cars[col], y=loaded_cars[\"selling_price\"], alpha=0.5)\n",
    "    plt.title(f\"Selling Price vs {col}\")\n",
    "    plt.xlabel(col)\n",
    "    plt.ylabel(\"Selling Price (log)\")\n",
    "\n",
    "plt.tight_layout()\n",
    "plt.show()"
   ]
  },
  {
   "cell_type": "code",
   "execution_count": 24,
   "metadata": {
    "colab": {
     "base_uri": "https://localhost:8080/",
     "height": 1000
    },
    "id": "4EZh6sHm6FlD",
    "outputId": "7e4ac2f6-8d63-4fc4-991d-9638ee340627"
   },
   "outputs": [
    {
     "data": {
      "image/png": "[encoded data removed]",
      "text/plain": [
       "<Figure size 1200x1000 with 4 Axes>"
      ]
     },
     "metadata": {},
     "output_type": "display_data"
    }
   ],
   "source": [
    "cat_features = [\"fuel\", \"seller_type\", \"transmission\", \"owner\"]\n",
    "\n",
    "plt.figure(figsize=(12, 10))\n",
    "\n",
    "for i, col in enumerate(cat_features, 1):\n",
    "    plt.subplot(2, 2, i)\n",
    "    sns.boxplot(x=loaded_cars[col], y=loaded_cars[\"selling_price\"])\n",
    "    plt.title(f\"Selling Price vs {col}\")\n",
    "    plt.xticks(rotation=45)\n",
    "\n",
    "plt.tight_layout()\n",
    "plt.show()"
   ]
  },
  {
   "cell_type": "code",
   "execution_count": 25,
   "metadata": {
    "colab": {
     "base_uri": "https://localhost:8080/",
     "height": 525
    },
    "id": "0Amd-DUI6w9a",
    "outputId": "00dd67d1-47bc-458a-9b91-f8a6278490d5"
   },
   "outputs": [
    {
     "data": {
      "text/plain": [
       "<Axes: >"
      ]
     },
     "execution_count": 25,
     "metadata": {},
     "output_type": "execute_result"
    },
    {
     "data": {
      "image/png": "[encoded data removed]",
      "text/plain": [
       "<Figure size 640x480 with 2 Axes>"
      ]
     },
     "metadata": {},
     "output_type": "display_data"
    }
   ],
   "source": [
    "# loaded_cars[numeric_columns].corr()\n",
    "sns.heatmap(loaded_cars[numeric_columns].corr(), annot=True, cmap=\"coolwarm\")"
   ]
  },
  {
   "cell_type": "code",
   "execution_count": 26,
   "metadata": {
    "id": "kH3alJGJLqyl"
   },
   "outputs": [],
   "source": [
    "# loaded_cars = pd.get_dummies(loaded_cars, columns=['fuel', 'transmission', 'seller_type'], drop_first=True)"
   ]
  },
  {
   "cell_type": "code",
   "execution_count": null,
   "metadata": {},
   "outputs": [],
   "source": []
  },
  {
   "cell_type": "markdown",
   "metadata": {
    "id": "EAUWfLCsyBX6"
   },
   "source": []
  },
  {
   "cell_type": "code",
   "execution_count": 27,
   "metadata": {
    "id": "tN6uTIEY_5q0"
   },
   "outputs": [
    {
     "data": {
      "text/plain": [
       "['scaler_a3.pkl']"
      ]
     },
     "execution_count": 27,
     "metadata": {},
     "output_type": "execute_result"
    }
   ],
   "source": [
    "\n",
    "X = loaded_cars[['max_power','mileage','year']]\n",
    "\n",
    "labels=[0,1,2,3]\n",
    "max_selling_price=loaded_cars['selling_price'].max()\n",
    "minimum_selling_price=loaded_cars['selling_price'].min()\n",
    "\n",
    "#creating bins using np.linspace\n",
    "bins=np.linspace(minimum_selling_price,max_selling_price+1,5) \n",
    "\n",
    "y=pd.cut(loaded_cars['selling_price'],bins=bins,labels=labels,include_lowest=True)\n",
    "\n",
    "\n",
    "# Normalize features\n",
    "X_train, X_test, y_train, y_test = train_test_split(X, y, test_size=0.2, random_state=42)\n",
    "# X_train, X_test, y_train, y_test = train_test_split(X, y, test_size=0.2, random_state=42, stratify=y)\n",
    "\n",
    "scaler = StandardScaler()\n",
    "X_train = scaler.fit_transform(X_train)\n",
    "X_test  = scaler.transform(X_test)\n",
    "# X_train = X_train.values\n",
    "# y_train = y_train.values\n",
    "\n",
    "joblib.dump(scaler,'scaler_a3.pkl')\n"
   ]
  },
  {
   "cell_type": "code",
   "execution_count": 28,
   "metadata": {},
   "outputs": [],
   "source": [
    "# Add intercept to X\n",
    "intercept = np.ones((X_train.shape[0], 1))\n",
    "X_train   = np.concatenate((intercept, X_train), axis=1)  #add intercept\n",
    "intercept = np.ones((X_test.shape[0], 1))\n",
    "X_test    = np.concatenate((intercept, X_test), axis=1)  #add intercept"
   ]
  },
  {
   "cell_type": "code",
   "execution_count": 29,
   "metadata": {},
   "outputs": [],
   "source": [
    "# k=len(labels)\n",
    "k=len(set(y))\n",
    "m = X_train.shape[0]  # no.of samples\n",
    "n = X_train.shape[1]  # no. of features\n",
    "Y_train_encoded = np.zeros((m, k))\n",
    "\n",
    "for each_class in range(k):\n",
    "    cond = y_train==each_class\n",
    "    Y_train_encoded[np.where(cond), each_class] = 1"
   ]
  },
  {
   "cell_type": "code",
   "execution_count": null,
   "metadata": {},
   "outputs": [],
   "source": [
    "# plt.figure(figsize=(6,6))\n",
    "# plt.scatter(X[:, 0], X[:, 1], label='class 0', c=y)\n",
    "# plt.show()"
   ]
  },
  {
   "cell_type": "code",
   "execution_count": 31,
   "metadata": {
    "colab": {
     "base_uri": "https://localhost:8080/",
     "height": 452
    },
    "id": "iAp2PbSq6t6m",
    "outputId": "48e093d4-2186-4645-bcd0-3a2ae1df9661"
   },
   "outputs": [],
   "source": [
    "# importances = grid_search.best_estimator_.feature_importances_\n",
    "# feat_names = X.columns\n",
    "# sns.barplot(x=importances, y=feat_names)\n",
    "# plt.title(\"Feature Importances\")\n",
    "# plt.show()"
   ]
  },
  {
   "cell_type": "code",
   "execution_count": null,
   "metadata": {
    "colab": {
     "base_uri": "https://localhost:8080/",
     "height": 671
    },
    "id": "fgzHLIpz980Q",
    "outputId": "636802bb-b471-4a85-e900-3c2f217f5c6f"
   },
   "outputs": [],
   "source": []
  },
  {
   "cell_type": "code",
   "execution_count": 32,
   "metadata": {},
   "outputs": [],
   "source": [
    "import numpy as np\n",
    "import matplotlib.pyplot as plt\n",
    "import time\n",
    "\n",
    "class MultinomialLogisticRegression:\n",
    "    def __init__(self, n_classes, n_features, lr=0.01, max_iter=2000, \n",
    "                 method='batch', batch_frac=0.3, l2_lambda=0.0, verbose=False):\n",
    "        \"\"\"\n",
    "        n_classes: number of target classes\n",
    "        n_features: number of columns in X (including intercept)\n",
    "        method: 'batch', 'minibatch', 'sto' (stochastic)\n",
    "        l2_lambda: L2 regularization strength\n",
    "        \"\"\"\n",
    "        self.k = n_classes\n",
    "        self.n = n_features\n",
    "        self.lr = lr\n",
    "        self.max_iter = max_iter\n",
    "        self.method = method\n",
    "        self.batch_frac = batch_frac\n",
    "        self.l2 = l2_lambda\n",
    "        self.verbose = verbose\n",
    "        self.W = np.random.randn(self.n, self.k) * 0.01\n",
    "        self.losses = []\n",
    "\n",
    "    # -----------------------------\n",
    "    # Core Computations\n",
    "    # -----------------------------\n",
    "    def softmax(self, z):\n",
    "        z_stable = z - np.max(z, axis=1, keepdims=True)\n",
    "        exp_z = np.exp(z_stable)\n",
    "        return exp_z / np.sum(exp_z, axis=1, keepdims=True)\n",
    "\n",
    "    def h_theta(self, X):\n",
    "        return self.softmax(X @ self.W)\n",
    "\n",
    "    def gradient(self, X, Y):\n",
    "        m = X.shape[0]\n",
    "        h = self.h_theta(X)\n",
    "        eps = 1e-12\n",
    "        ce_loss = -np.sum(Y * np.log(h + eps)) / m\n",
    "        # L2 regularization (ignore intercept)\n",
    "        W_no_intercept = self.W.copy()\n",
    "        W_no_intercept[0, :] = 0.0\n",
    "        l2_loss = 0.5 * (self.l2 / m) * np.sum(W_no_intercept**2)\n",
    "        total_loss = ce_loss + l2_loss\n",
    "        grad = (X.T @ (h - Y)) / m\n",
    "        if self.l2 != 0:\n",
    "            grad += (self.l2 / m) * W_no_intercept\n",
    "        return total_loss, grad\n",
    "\n",
    "    # -----------------------------\n",
    "    # Fit methods\n",
    "    # -----------------------------\n",
    "    def fit(self, X, Y):\n",
    "        m = X.shape[0]\n",
    "        start_time = time.time()\n",
    "\n",
    "        if self.method == \"batch\":\n",
    "            for i in range(self.max_iter):\n",
    "                loss, grad = self.gradient(X, Y)\n",
    "                self.W -= self.lr * grad\n",
    "                self.losses.append(loss)\n",
    "                if self.verbose and i % 500 == 0:\n",
    "                    print(f\"[Batch] Iter {i}, Loss: {loss:.6f}\")\n",
    "\n",
    "        elif self.method == \"minibatch\":\n",
    "            batch_size = max(1, int(self.batch_frac * m))\n",
    "            for i in range(self.max_iter):\n",
    "                ix = np.random.randint(0, m, batch_size)\n",
    "                Xb, Yb = X[ix], Y[ix]\n",
    "                loss, grad = self.gradient(Xb, Yb)\n",
    "                self.W -= self.lr * grad\n",
    "                self.losses.append(loss)\n",
    "                if self.verbose and i % 500 == 0:\n",
    "                    print(f\"[MiniBatch] Iter {i}, Loss: {loss:.6f}\")\n",
    "\n",
    "        elif self.method == \"sto\":\n",
    "            for i in range(self.max_iter):\n",
    "                idx = np.random.randint(0, m)\n",
    "                Xs = X[idx:idx+1]\n",
    "                Ys = Y[idx:idx+1]\n",
    "                loss, grad = self.gradient(Xs, Ys)\n",
    "                self.W -= self.lr * grad\n",
    "                self.losses.append(loss)\n",
    "                if self.verbose and i % 1000 == 0:\n",
    "                    print(f\"[Stochastic] Iter {i}, Loss: {loss:.6f}\")\n",
    "\n",
    "        else:\n",
    "            raise ValueError('Method must be \"batch\", \"minibatch\", or \"sto\".')\n",
    "\n",
    "        print(f\"Training completed in {time.time() - start_time:.2f}s\")\n",
    "\n",
    "    # -----------------------------\n",
    "    # Predictions & Evaluation\n",
    "    # -----------------------------\n",
    "    def predict_proba(self, X):\n",
    "        return self.h_theta(X)\n",
    "\n",
    "    def predict(self, X):\n",
    "        return np.argmax(self.predict_proba(X), axis=1)\n",
    "\n",
    "    def plot_losses(self):\n",
    "        plt.plot(np.arange(len(self.losses)), self.losses, label=\"Training Loss\")\n",
    "        plt.title(\"Loss Curve\")\n",
    "        plt.xlabel(\"Iteration\")\n",
    "        plt.ylabel(\"Loss\")\n",
    "        plt.legend()\n",
    "        plt.show()\n"
   ]
  },
  {
   "cell_type": "code",
   "execution_count": 33,
   "metadata": {},
   "outputs": [],
   "source": [
    "def classification_report_custom(y_true, y_pred):\n",
    "    labels = np.unique(y_true)\n",
    "    per_class = {}\n",
    "    for label in labels:\n",
    "        tp = np.sum((y_pred == label) & (y_true == label))\n",
    "        fp = np.sum((y_pred == label) & (y_true != label))\n",
    "        fn = np.sum((y_pred != label) & (y_true == label))\n",
    "\n",
    "        precision = tp / (tp + fp + 1e-9)\n",
    "        recall = tp / (tp + fn + 1e-9)\n",
    "        f1 = 2 * precision * recall / (precision + recall + 1e-9)\n",
    "        per_class[label] = {\"precision\": precision, \"recall\": recall, \"f1\": f1}\n",
    "\n",
    "    # macro average\n",
    "    macro = {k: np.mean([v[k] for v in per_class.values()]) for k in [\"precision\", \"recall\", \"f1\"]}\n",
    "\n",
    "    # weighted average\n",
    "    weights = [np.sum(y_true == label) for label in labels]\n",
    "    total = np.sum(weights)\n",
    "    weighted = {\n",
    "        k: np.sum([v[k] * w for v, w in zip(per_class.values(), weights)]) / total\n",
    "        for k in [\"precision\", \"recall\", \"f1\"]\n",
    "    }\n",
    "\n",
    "    return per_class, macro, weighted\n"
   ]
  },
  {
   "cell_type": "code",
   "execution_count": 34,
   "metadata": {},
   "outputs": [
    {
     "name": "stdout",
     "output_type": "stream",
     "text": [
      "[MiniBatch] Iter 0, Loss: 1.385870\n",
      "[MiniBatch] Iter 500, Loss: 0.087312\n",
      "[MiniBatch] Iter 1000, Loss: 0.070091\n",
      "[MiniBatch] Iter 1500, Loss: 0.071115\n",
      "[MiniBatch] Iter 2000, Loss: 0.057791\n",
      "[MiniBatch] Iter 2500, Loss: 0.060295\n",
      "Training completed in 0.94s\n"
     ]
    },
    {
     "data": {
      "image/png": "[encoded data removed]",
      "text/plain": [
       "<Figure size 640x480 with 1 Axes>"
      ]
     },
     "metadata": {},
     "output_type": "display_data"
    },
    {
     "name": "stdout",
     "output_type": "stream",
     "text": [
      "\n",
      "=== Custom Metrics (Test) ===\n",
      "Accuracy: 0.9651\n",
      "\n",
      "Class 0: precision=0.9833, recall=0.9967, f1=0.9900\n",
      "Class 1: precision=0.3243, recall=0.2857, f1=0.3038\n",
      "Class 2: precision=0.5833, recall=0.2593, f1=0.3590\n",
      "Class 3: precision=0.0000, recall=0.0000, f1=0.0000\n",
      "\n",
      "Macro Avg:\n",
      "Precision=0.4727, Recall=0.3854, F1=0.4132\n",
      "\n",
      "Weighted Avg:\n",
      "Precision=0.9587, Recall=0.9651, F1=0.9608\n",
      "\n",
      "=== Sklearn classification_report (Test) ===\n",
      "              precision    recall  f1-score   support\n",
      "\n",
      "           0     0.9833    0.9967    0.9900      1536\n",
      "           1     0.3243    0.2857    0.3038        42\n",
      "           2     0.5833    0.2593    0.3590        27\n",
      "           3     0.0000    0.0000    0.0000         1\n",
      "\n",
      "    accuracy                         0.9651      1606\n",
      "   macro avg     0.4727    0.3854    0.4132      1606\n",
      "weighted avg     0.9587    0.9651    0.9608      1606\n",
      "\n",
      "Confusion matrix:\n",
      " [[1531    5    0    0]\n",
      " [  26   12    4    0]\n",
      " [   0   20    7    0]\n",
      " [   0    0    1    0]]\n"
     ]
    },
    {
     "name": "stderr",
     "output_type": "stream",
     "text": [
      "c:\\Users\\gaurav\\miniconda3\\Lib\\site-packages\\sklearn\\metrics\\_classification.py:1731: UndefinedMetricWarning: Precision is ill-defined and being set to 0.0 in labels with no predicted samples. Use `zero_division` parameter to control this behavior.\n",
      "  _warn_prf(average, modifier, f\"{metric.capitalize()} is\", result.shape[0])\n",
      "c:\\Users\\gaurav\\miniconda3\\Lib\\site-packages\\sklearn\\metrics\\_classification.py:1731: UndefinedMetricWarning: Precision is ill-defined and being set to 0.0 in labels with no predicted samples. Use `zero_division` parameter to control this behavior.\n",
      "  _warn_prf(average, modifier, f\"{metric.capitalize()} is\", result.shape[0])\n",
      "c:\\Users\\gaurav\\miniconda3\\Lib\\site-packages\\sklearn\\metrics\\_classification.py:1731: UndefinedMetricWarning: Precision is ill-defined and being set to 0.0 in labels with no predicted samples. Use `zero_division` parameter to control this behavior.\n",
      "  _warn_prf(average, modifier, f\"{metric.capitalize()} is\", result.shape[0])\n"
     ]
    }
   ],
   "source": [
    "from sklearn.metrics import classification_report, confusion_matrix\n",
    "\n",
    "# Initialize and train model\n",
    "model = MultinomialLogisticRegression(\n",
    "    n_features=n, \n",
    "    n_classes=k, \n",
    "    lr=0.1, \n",
    "    max_iter=3000, \n",
    "    method='minibatch', \n",
    "    batch_frac=0.25, \n",
    "    l2_lambda=1.0, \n",
    "    verbose=True\n",
    ")\n",
    "model.fit(X_train, Y_train_encoded)\n",
    "\n",
    "# Predictions\n",
    "yhat_train = model.predict(X_train)\n",
    "yhat_test  = model.predict(X_test)\n",
    "\n",
    "# Plot training loss curve\n",
    "model.plot_losses()\n",
    "\n",
    "# -----------------------------\n",
    "# Custom Evaluation\n",
    "# -----------------------------\n",
    "def accuracy_score_custom(y_true, y_pred):\n",
    "    return np.mean(y_true == y_pred)\n",
    "\n",
    "acc = accuracy_score_custom(y_test, yhat_test)\n",
    "per_class, macro, weighted = classification_report_custom(y_test, yhat_test)\n",
    "\n",
    "print(\"\\n=== Custom Metrics (Test) ===\")\n",
    "print(f\"Accuracy: {acc:.4f}\\n\")\n",
    "\n",
    "for c, metrics in per_class.items():\n",
    "    print(f\"Class {c}: \"\n",
    "          f\"precision={metrics['precision']:.4f}, \"\n",
    "          f\"recall={metrics['recall']:.4f}, \"\n",
    "          f\"f1={metrics['f1']:.4f}\")\n",
    "\n",
    "print(\"\\nMacro Avg:\")\n",
    "print(f\"Precision={macro['precision']:.4f}, Recall={macro['recall']:.4f}, F1={macro['f1']:.4f}\")\n",
    "\n",
    "print(\"\\nWeighted Avg:\")\n",
    "print(f\"Precision={weighted['precision']:.4f}, Recall={weighted['recall']:.4f}, F1={weighted['f1']:.4f}\")\n",
    "\n",
    "# -----------------------------\n",
    "# Sklearn Comparison\n",
    "# -----------------------------\n",
    "print(\"\\n=== Sklearn classification_report (Test) ===\")\n",
    "print(classification_report(y_test, yhat_test, digits=4))\n",
    "\n",
    "# Confusion Matrix\n",
    "print(\"Confusion matrix:\\n\", confusion_matrix(y_test, yhat_test))\n"
   ]
  },
  {
   "cell_type": "code",
   "execution_count": 35,
   "metadata": {},
   "outputs": [
    {
     "data": {
      "text/plain": [
       "<Experiment: artifact_location='mlflow-artifacts:/780011026393011254', creation_time=1759581683531, experiment_id='780011026393011254', last_update_time=1759581683531, lifecycle_stage='active', name='st126522-a3', tags={'mlflow.experimentKind': 'custom_model_development'}>"
      ]
     },
     "execution_count": 35,
     "metadata": {},
     "output_type": "execute_result"
    }
   ],
   "source": [
    "from dotenv import load_dotenv\n",
    "import os\n",
    "# Load environment variables\n",
    "load_dotenv()\n",
    "\n",
    "# Get them safely\n",
    "mlflow.set_tracking_uri(os.getenv(\"MLFLOW_TRACKING_URI\"))\n",
    "\n",
    "if os.getenv(\"MLFLOW_TRACKING_TOKEN\"):\n",
    "    os.environ[\"MLFLOW_TRACKING_TOKEN\"] = os.getenv(\"MLFLOW_TRACKING_TOKEN\")\n",
    "else:\n",
    "    os.environ[\"MLFLOW_TRACKING_USERNAME\"] = os.getenv(\"MLFLOW_TRACKING_USERNAME\")\n",
    "    os.environ[\"MLFLOW_TRACKING_PASSWORD\"] = os.getenv(\"MLFLOW_TRACKING_PASSWORD\")\n",
    "\n",
    "mlflow.set_experiment(\"st126522-a3\")\n"
   ]
  },
  {
   "cell_type": "code",
   "execution_count": null,
   "metadata": {},
   "outputs": [],
   "source": []
  },
  {
   "cell_type": "code",
   "execution_count": null,
   "metadata": {},
   "outputs": [
    {
     "name": "stdout",
     "output_type": "stream",
     "text": [
      "\n",
      "=== Run 1: 1759637668_method_batch_ridge_0.0_lr_0.01 ===\n",
      "Training completed in 2.27s\n",
      "Accuracy: 0.9552, Macro F1: 0.2705, Weighted F1: 0.9401\n",
      "🏃 View run 1759637668_method_batch_ridge_0.0_lr_0.01 at: http://mlflow.ml.brain.cs.ait.ac.th/#/experiments/780011026393011254/runs/fd12195039174dd190724f79ea6c975e\n",
      "🧪 View experiment at: http://mlflow.ml.brain.cs.ait.ac.th/#/experiments/780011026393011254\n",
      "\n",
      "=== Run 2: 1759637674_method_minibatch_ridge_0.0_lr_0.01 ===\n",
      "Training completed in 1.25s\n",
      "Accuracy: 0.9552, Macro F1: 0.2705, Weighted F1: 0.9401\n",
      "🏃 View run 1759637674_method_minibatch_ridge_0.0_lr_0.01 at: http://mlflow.ml.brain.cs.ait.ac.th/#/experiments/780011026393011254/runs/8928b810dd18487c987e33587ea88f98\n",
      "🧪 View experiment at: http://mlflow.ml.brain.cs.ait.ac.th/#/experiments/780011026393011254\n",
      "\n",
      "=== Run 3: 1759637678_method_sto_ridge_0.0_lr_0.01 ===\n",
      "Training completed in 0.14s\n",
      "Accuracy: 0.9595, Macro F1: 0.3534, Weighted F1: 0.9458\n",
      "🏃 View run 1759637678_method_sto_ridge_0.0_lr_0.01 at: http://mlflow.ml.brain.cs.ait.ac.th/#/experiments/780011026393011254/runs/7737679cfd484e8aa66bd1ab96db035f\n",
      "🧪 View experiment at: http://mlflow.ml.brain.cs.ait.ac.th/#/experiments/780011026393011254\n",
      "\n",
      "=== Run 4: 1759637681_method_batch_ridge_0.1_lr_0.01 ===\n",
      "Training completed in 2.45s\n",
      "Accuracy: 0.9552, Macro F1: 0.2705, Weighted F1: 0.9401\n",
      "🏃 View run 1759637681_method_batch_ridge_0.1_lr_0.01 at: http://mlflow.ml.brain.cs.ait.ac.th/#/experiments/780011026393011254/runs/589f3678a827432aab35063f88277f37\n",
      "🧪 View experiment at: http://mlflow.ml.brain.cs.ait.ac.th/#/experiments/780011026393011254\n",
      "\n",
      "=== Run 5: 1759637687_method_minibatch_ridge_0.1_lr_0.01 ===\n",
      "Training completed in 1.03s\n",
      "Accuracy: 0.9552, Macro F1: 0.2705, Weighted F1: 0.9401\n",
      "🏃 View run 1759637687_method_minibatch_ridge_0.1_lr_0.01 at: http://mlflow.ml.brain.cs.ait.ac.th/#/experiments/780011026393011254/runs/e1a968c0a6d748a083e3d213c666e370\n",
      "🧪 View experiment at: http://mlflow.ml.brain.cs.ait.ac.th/#/experiments/780011026393011254\n",
      "\n",
      "=== Run 6: 1759637692_method_sto_ridge_0.1_lr_0.01 ===\n",
      "Training completed in 0.14s\n",
      "Accuracy: 0.9570, Macro F1: 0.2559, Weighted F1: 0.9369\n",
      "🏃 View run 1759637692_method_sto_ridge_0.1_lr_0.01 at: http://mlflow.ml.brain.cs.ait.ac.th/#/experiments/780011026393011254/runs/65d50673fb6442ec8f06886410b6c4a6\n",
      "🧪 View experiment at: http://mlflow.ml.brain.cs.ait.ac.th/#/experiments/780011026393011254\n",
      "\n",
      "=== Run 7: 1759637695_method_batch_ridge_1.0_lr_0.01 ===\n",
      "Training completed in 2.53s\n",
      "Accuracy: 0.9552, Macro F1: 0.2705, Weighted F1: 0.9401\n",
      "🏃 View run 1759637695_method_batch_ridge_1.0_lr_0.01 at: http://mlflow.ml.brain.cs.ait.ac.th/#/experiments/780011026393011254/runs/e55643583c3b41228df578b53b75ffe0\n",
      "🧪 View experiment at: http://mlflow.ml.brain.cs.ait.ac.th/#/experiments/780011026393011254\n",
      "\n",
      "=== Run 8: 1759637701_method_minibatch_ridge_1.0_lr_0.01 ===\n",
      "Training completed in 0.96s\n",
      "Accuracy: 0.9552, Macro F1: 0.2705, Weighted F1: 0.9401\n",
      "🏃 View run 1759637701_method_minibatch_ridge_1.0_lr_0.01 at: http://mlflow.ml.brain.cs.ait.ac.th/#/experiments/780011026393011254/runs/88b05270e71a4a2599ffd0c9f0b08b94\n",
      "🧪 View experiment at: http://mlflow.ml.brain.cs.ait.ac.th/#/experiments/780011026393011254\n",
      "\n",
      "=== Run 9: 1759637705_method_sto_ridge_1.0_lr_0.01 ===\n",
      "Training completed in 0.16s\n",
      "Accuracy: 0.9564, Macro F1: 0.2444, Weighted F1: 0.9351\n",
      "🏃 View run 1759637705_method_sto_ridge_1.0_lr_0.01 at: http://mlflow.ml.brain.cs.ait.ac.th/#/experiments/780011026393011254/runs/115d9411383a47aaba3989cfc2307267\n",
      "🧪 View experiment at: http://mlflow.ml.brain.cs.ait.ac.th/#/experiments/780011026393011254\n",
      "\n",
      "=== Run 10: 1759637708_method_batch_ridge_0.0_lr_0.05 ===\n",
      "Training completed in 2.56s\n",
      "Accuracy: 0.9639, Macro F1: 0.3980, Weighted F1: 0.9590\n",
      "🏃 View run 1759637708_method_batch_ridge_0.0_lr_0.05 at: http://mlflow.ml.brain.cs.ait.ac.th/#/experiments/780011026393011254/runs/0a6b4914d9694c1e9098e89efcf53308\n",
      "🧪 View experiment at: http://mlflow.ml.brain.cs.ait.ac.th/#/experiments/780011026393011254\n",
      "\n",
      "=== Run 11: 1759637714_method_minibatch_ridge_0.0_lr_0.05 ===\n",
      "Training completed in 1.29s\n",
      "Accuracy: 0.9639, Macro F1: 0.3980, Weighted F1: 0.9590\n",
      "🏃 View run 1759637714_method_minibatch_ridge_0.0_lr_0.05 at: http://mlflow.ml.brain.cs.ait.ac.th/#/experiments/780011026393011254/runs/c00a8dc33b154242b8eb1d4cdc6030ba\n",
      "🧪 View experiment at: http://mlflow.ml.brain.cs.ait.ac.th/#/experiments/780011026393011254\n",
      "\n",
      "=== Run 12: 1759637718_method_sto_ridge_0.0_lr_0.05 ===\n",
      "Training completed in 0.13s\n",
      "Accuracy: 0.9614, Macro F1: 0.3261, Weighted F1: 0.9547\n",
      "🏃 View run 1759637718_method_sto_ridge_0.0_lr_0.05 at: http://mlflow.ml.brain.cs.ait.ac.th/#/experiments/780011026393011254/runs/3597f4ceb6334b9cb9c55063d067dfc3\n",
      "🧪 View experiment at: http://mlflow.ml.brain.cs.ait.ac.th/#/experiments/780011026393011254\n",
      "\n",
      "=== Run 13: 1759637722_method_batch_ridge_0.1_lr_0.05 ===\n",
      "Training completed in 2.23s\n",
      "Accuracy: 0.9639, Macro F1: 0.3980, Weighted F1: 0.9590\n",
      "🏃 View run 1759637722_method_batch_ridge_0.1_lr_0.05 at: http://mlflow.ml.brain.cs.ait.ac.th/#/experiments/780011026393011254/runs/db2574dea7fd467ba12d9125079845a5\n",
      "🧪 View experiment at: http://mlflow.ml.brain.cs.ait.ac.th/#/experiments/780011026393011254\n",
      "\n",
      "=== Run 14: 1759637727_method_minibatch_ridge_0.1_lr_0.05 ===\n",
      "Training completed in 1.03s\n",
      "Accuracy: 0.9639, Macro F1: 0.3980, Weighted F1: 0.9590\n",
      "🏃 View run 1759637727_method_minibatch_ridge_0.1_lr_0.05 at: http://mlflow.ml.brain.cs.ait.ac.th/#/experiments/780011026393011254/runs/3afe348fdfb549978254c860e9ec4547\n",
      "🧪 View experiment at: http://mlflow.ml.brain.cs.ait.ac.th/#/experiments/780011026393011254\n",
      "\n",
      "=== Run 15: 1759637731_method_sto_ridge_0.1_lr_0.05 ===\n",
      "Training completed in 0.15s\n",
      "Accuracy: 0.9564, Macro F1: 0.2445, Weighted F1: 0.9354\n",
      "🏃 View run 1759637731_method_sto_ridge_0.1_lr_0.05 at: http://mlflow.ml.brain.cs.ait.ac.th/#/experiments/780011026393011254/runs/9fd08592982d4bfba9fe59061cde93ce\n",
      "🧪 View experiment at: http://mlflow.ml.brain.cs.ait.ac.th/#/experiments/780011026393011254\n",
      "\n",
      "=== Run 16: 1759637735_method_batch_ridge_1.0_lr_0.05 ===\n",
      "Training completed in 2.38s\n",
      "Accuracy: 0.9639, Macro F1: 0.3980, Weighted F1: 0.9590\n",
      "🏃 View run 1759637735_method_batch_ridge_1.0_lr_0.05 at: http://mlflow.ml.brain.cs.ait.ac.th/#/experiments/780011026393011254/runs/cd5af2cd9dfd4b0689089e77d3d61eee\n",
      "🧪 View experiment at: http://mlflow.ml.brain.cs.ait.ac.th/#/experiments/780011026393011254\n",
      "\n",
      "=== Run 17: 1759637740_method_minibatch_ridge_1.0_lr_0.05 ===\n",
      "Training completed in 1.13s\n",
      "Accuracy: 0.9633, Macro F1: 0.3924, Weighted F1: 0.9581\n",
      "🏃 View run 1759637740_method_minibatch_ridge_1.0_lr_0.05 at: http://mlflow.ml.brain.cs.ait.ac.th/#/experiments/780011026393011254/runs/c75946e58faf40eb8ff28887e981176b\n",
      "🧪 View experiment at: http://mlflow.ml.brain.cs.ait.ac.th/#/experiments/780011026393011254\n",
      "\n",
      "=== Run 18: 1759637745_method_sto_ridge_1.0_lr_0.05 ===\n",
      "Training completed in 0.13s\n",
      "Accuracy: 0.9564, Macro F1: 0.2444, Weighted F1: 0.9351\n",
      "🏃 View run 1759637745_method_sto_ridge_1.0_lr_0.05 at: http://mlflow.ml.brain.cs.ait.ac.th/#/experiments/780011026393011254/runs/db290a2f62644ab3b637ae5dc07c8304\n",
      "🧪 View experiment at: http://mlflow.ml.brain.cs.ait.ac.th/#/experiments/780011026393011254\n",
      "\n",
      "=== Run 19: 1759637748_method_batch_ridge_0.0_lr_0.1 ===\n",
      "Training completed in 2.24s\n",
      "Accuracy: 0.9651, Macro F1: 0.4132, Weighted F1: 0.9608\n",
      "🏃 View run 1759637748_method_batch_ridge_0.0_lr_0.1 at: http://mlflow.ml.brain.cs.ait.ac.th/#/experiments/780011026393011254/runs/835fd4ec8b544deb953dc34a3e78f091\n",
      "🧪 View experiment at: http://mlflow.ml.brain.cs.ait.ac.th/#/experiments/780011026393011254\n",
      "\n",
      "=== Run 20: 1759637753_method_minibatch_ridge_0.0_lr_0.1 ===\n",
      "Training completed in 1.07s\n",
      "Accuracy: 0.9651, Macro F1: 0.4132, Weighted F1: 0.9608\n",
      "🏃 View run 1759637753_method_minibatch_ridge_0.0_lr_0.1 at: http://mlflow.ml.brain.cs.ait.ac.th/#/experiments/780011026393011254/runs/f8017e5d0c4d4043ad879e7113dcc217\n",
      "🧪 View experiment at: http://mlflow.ml.brain.cs.ait.ac.th/#/experiments/780011026393011254\n",
      "\n",
      "=== Run 21: 1759637758_method_sto_ridge_0.0_lr_0.1 ===\n",
      "Training completed in 0.13s\n",
      "Accuracy: 0.9714, Macro F1: 0.4486, Weighted F1: 0.9589\n",
      "🏃 View run 1759637758_method_sto_ridge_0.0_lr_0.1 at: http://mlflow.ml.brain.cs.ait.ac.th/#/experiments/780011026393011254/runs/bcb07766f70a49fab0aca7dc8e8dfddc\n",
      "🧪 View experiment at: http://mlflow.ml.brain.cs.ait.ac.th/#/experiments/780011026393011254\n",
      "\n",
      "=== Run 22: 1759637761_method_batch_ridge_0.1_lr_0.1 ===\n",
      "Training completed in 2.20s\n",
      "Accuracy: 0.9651, Macro F1: 0.4132, Weighted F1: 0.9608\n",
      "🏃 View run 1759637761_method_batch_ridge_0.1_lr_0.1 at: http://mlflow.ml.brain.cs.ait.ac.th/#/experiments/780011026393011254/runs/42fc63dd539b471a8ba4c58e0be9578a\n",
      "🧪 View experiment at: http://mlflow.ml.brain.cs.ait.ac.th/#/experiments/780011026393011254\n",
      "\n",
      "=== Run 23: 1759637767_method_minibatch_ridge_0.1_lr_0.1 ===\n",
      "Training completed in 0.96s\n",
      "Accuracy: 0.9651, Macro F1: 0.4132, Weighted F1: 0.9608\n",
      "🏃 View run 1759637767_method_minibatch_ridge_0.1_lr_0.1 at: http://mlflow.ml.brain.cs.ait.ac.th/#/experiments/780011026393011254/runs/8d4eb4a65c7449aab1739ab1b4361f78\n",
      "🧪 View experiment at: http://mlflow.ml.brain.cs.ait.ac.th/#/experiments/780011026393011254\n",
      "\n",
      "=== Run 24: 1759637771_method_sto_ridge_0.1_lr_0.1 ===\n",
      "Training completed in 0.13s\n",
      "Accuracy: 0.9670, Macro F1: 0.4178, Weighted F1: 0.9561\n",
      "🏃 View run 1759637771_method_sto_ridge_0.1_lr_0.1 at: http://mlflow.ml.brain.cs.ait.ac.th/#/experiments/780011026393011254/runs/973e4bee9a764003ba5dbc93ed95f136\n",
      "🧪 View experiment at: http://mlflow.ml.brain.cs.ait.ac.th/#/experiments/780011026393011254\n",
      "\n",
      "=== Run 25: 1759637774_method_batch_ridge_1.0_lr_0.1 ===\n",
      "Training completed in 2.21s\n",
      "Accuracy: 0.9651, Macro F1: 0.4132, Weighted F1: 0.9608\n",
      "🏃 View run 1759637774_method_batch_ridge_1.0_lr_0.1 at: http://mlflow.ml.brain.cs.ait.ac.th/#/experiments/780011026393011254/runs/26319e3dc09b434893d26f373f742bd5\n",
      "🧪 View experiment at: http://mlflow.ml.brain.cs.ait.ac.th/#/experiments/780011026393011254\n",
      "\n",
      "=== Run 26: 1759637780_method_minibatch_ridge_1.0_lr_0.1 ===\n",
      "Training completed in 1.10s\n",
      "Accuracy: 0.9651, Macro F1: 0.4132, Weighted F1: 0.9608\n",
      "🏃 View run 1759637780_method_minibatch_ridge_1.0_lr_0.1 at: http://mlflow.ml.brain.cs.ait.ac.th/#/experiments/780011026393011254/runs/c64a2c7a5aee45a1b868beb6e8996e07\n",
      "🧪 View experiment at: http://mlflow.ml.brain.cs.ait.ac.th/#/experiments/780011026393011254\n",
      "\n",
      "=== Run 27: 1759637784_method_sto_ridge_1.0_lr_0.1 ===\n",
      "Training completed in 0.14s\n",
      "Accuracy: 0.9564, Macro F1: 0.2444, Weighted F1: 0.9351\n",
      "🏃 View run 1759637784_method_sto_ridge_1.0_lr_0.1 at: http://mlflow.ml.brain.cs.ait.ac.th/#/experiments/780011026393011254/runs/620c0a293c2c4bf886edb663061fd5f8\n",
      "🧪 View experiment at: http://mlflow.ml.brain.cs.ait.ac.th/#/experiments/780011026393011254\n",
      "\n",
      "=== All Run Results ===\n",
      "                                         run_name     method    lr  ridge  \\\n",
      "0       1759637668_method_batch_ridge_0.0_lr_0.01      batch  0.01    0.0   \n",
      "1   1759637674_method_minibatch_ridge_0.0_lr_0.01  minibatch  0.01    0.0   \n",
      "2         1759637678_method_sto_ridge_0.0_lr_0.01        sto  0.01    0.0   \n",
      "3       1759637681_method_batch_ridge_0.1_lr_0.01      batch  0.01    0.1   \n",
      "4   1759637687_method_minibatch_ridge_0.1_lr_0.01  minibatch  0.01    0.1   \n",
      "5         1759637692_method_sto_ridge_0.1_lr_0.01        sto  0.01    0.1   \n",
      "6       1759637695_method_batch_ridge_1.0_lr_0.01      batch  0.01    1.0   \n",
      "7   1759637701_method_minibatch_ridge_1.0_lr_0.01  minibatch  0.01    1.0   \n",
      "8         1759637705_method_sto_ridge_1.0_lr_0.01        sto  0.01    1.0   \n",
      "9       1759637708_method_batch_ridge_0.0_lr_0.05      batch  0.05    0.0   \n",
      "10  1759637714_method_minibatch_ridge_0.0_lr_0.05  minibatch  0.05    0.0   \n",
      "11        1759637718_method_sto_ridge_0.0_lr_0.05        sto  0.05    0.0   \n",
      "12      1759637722_method_batch_ridge_0.1_lr_0.05      batch  0.05    0.1   \n",
      "13  1759637727_method_minibatch_ridge_0.1_lr_0.05  minibatch  0.05    0.1   \n",
      "14        1759637731_method_sto_ridge_0.1_lr_0.05        sto  0.05    0.1   \n",
      "15      1759637735_method_batch_ridge_1.0_lr_0.05      batch  0.05    1.0   \n",
      "16  1759637740_method_minibatch_ridge_1.0_lr_0.05  minibatch  0.05    1.0   \n",
      "17        1759637745_method_sto_ridge_1.0_lr_0.05        sto  0.05    1.0   \n",
      "18       1759637748_method_batch_ridge_0.0_lr_0.1      batch  0.10    0.0   \n",
      "19   1759637753_method_minibatch_ridge_0.0_lr_0.1  minibatch  0.10    0.0   \n",
      "20         1759637758_method_sto_ridge_0.0_lr_0.1        sto  0.10    0.0   \n",
      "21       1759637761_method_batch_ridge_0.1_lr_0.1      batch  0.10    0.1   \n",
      "22   1759637767_method_minibatch_ridge_0.1_lr_0.1  minibatch  0.10    0.1   \n",
      "23         1759637771_method_sto_ridge_0.1_lr_0.1        sto  0.10    0.1   \n",
      "24       1759637774_method_batch_ridge_1.0_lr_0.1      batch  0.10    1.0   \n",
      "25   1759637780_method_minibatch_ridge_1.0_lr_0.1  minibatch  0.10    1.0   \n",
      "26         1759637784_method_sto_ridge_1.0_lr_0.1        sto  0.10    1.0   \n",
      "\n",
      "    accuracy  macro_f1  weighted_f1  \n",
      "0   0.955168  0.270462     0.940092  \n",
      "1   0.955168  0.270462     0.940092  \n",
      "2   0.959527  0.353358     0.945782  \n",
      "3   0.955168  0.270462     0.940092  \n",
      "4   0.955168  0.270462     0.940092  \n",
      "5   0.957036  0.255950     0.936890  \n",
      "6   0.955168  0.270462     0.940092  \n",
      "7   0.955168  0.270462     0.940092  \n",
      "8   0.956413  0.244430     0.935106  \n",
      "9   0.963885  0.398036     0.958951  \n",
      "10  0.963885  0.398036     0.958951  \n",
      "11  0.961395  0.326064     0.954743  \n",
      "12  0.963885  0.398036     0.958951  \n",
      "13  0.963885  0.398036     0.958951  \n",
      "14  0.956413  0.244508     0.935403  \n",
      "15  0.963885  0.398036     0.958951  \n",
      "16  0.963263  0.392438     0.958068  \n",
      "17  0.956413  0.244430     0.935106  \n",
      "18  0.965131  0.413187     0.960808  \n",
      "19  0.965131  0.413187     0.960808  \n",
      "20  0.971357  0.448591     0.958864  \n",
      "21  0.965131  0.413187     0.960808  \n",
      "22  0.965131  0.413187     0.960808  \n",
      "23  0.966999  0.417812     0.956143  \n",
      "24  0.965131  0.413187     0.960808  \n",
      "25  0.965131  0.413187     0.960808  \n",
      "26  0.956413  0.244430     0.935106  \n"
     ]
    },
    {
     "name": "stderr",
     "output_type": "stream",
     "text": [
      "2025/10/05 11:16:36 WARNING mlflow.utils.environment: Encountered an unexpected error while inferring pip requirements (model URI: C:\\Users\\gaurav\\AppData\\Local\\Temp\\tmpwtqev9vv\\model\\model.pkl, flavor: sklearn). Fall back to return ['scikit-learn==1.7.1', 'cloudpickle==3.1.1']. Set logging level to DEBUG to see the full traceback. \n",
      "2025/10/05 11:16:36 WARNING mlflow.models.model: Model logged without a signature and input example. Please set `input_example` parameter when logging the model to auto infer the model signature.\n"
     ]
    },
    {
     "name": "stdout",
     "output_type": "stream",
     "text": [
      "🏃 View run best_model_1759637758_method_sto_ridge_0.0_lr_0.1 at: http://mlflow.ml.brain.cs.ait.ac.th/#/experiments/780011026393011254/runs/433c684da5d04219befbf0fb0bf199ca\n",
      "🧪 View experiment at: http://mlflow.ml.brain.cs.ait.ac.th/#/experiments/780011026393011254\n",
      "\n",
      "✅ Best model deployed: 1759637758_method_sto_ridge_0.0_lr_0.1 with Macro F1 0.4486\n"
     ]
    }
   ],
   "source": [
    "\n",
    "# trial parameters\n",
    "learning_rates = [0.01, 0.05, 0.1]\n",
    "ridge_values = [0.0, 0.1, 1.0]\n",
    "methods = [\"batch\", \"minibatch\", \"sto\"]\n",
    "max_iter = 3000\n",
    "run_counter = 1\n",
    "\n",
    "learning_rates = [0.01, 0.05, 0.1]\n",
    "ridge_values = [0.0, 0.1, 1.0]\n",
    "methods = [\"batch\", \"minibatch\", \"sto\"]\n",
    "max_iter = 3000\n",
    "run_counter = 1\n",
    "\n",
    "# Track best model based on macro F1\n",
    "best_macro_f1 = -np.inf\n",
    "best_model = None\n",
    "best_run_name = None\n",
    "\n",
    "# Store all run results\n",
    "all_results = []\n",
    "\n",
    "for lr in learning_rates:\n",
    "    for ridge in ridge_values:\n",
    "        for method in methods:\n",
    "\n",
    "            run_name = f\"{int(time.time())}_method_{method}_ridge_{ridge}_lr_{lr}\"\n",
    "            print(f\"\\n=== Run {run_counter}: {run_name} ===\")\n",
    "\n",
    "            with mlflow.start_run(run_name=run_name):\n",
    "\n",
    "                # Initialize and train model\n",
    "                model = MultinomialLogisticRegression(\n",
    "                    n_classes=Y_train_encoded.shape[1],\n",
    "                    n_features=X_train.shape[1],\n",
    "                    lr=lr,\n",
    "                    max_iter=max_iter,\n",
    "                    method=method,\n",
    "                    batch_frac=0.25,\n",
    "                    l2_lambda=ridge,\n",
    "                    verbose=False\n",
    "                )\n",
    "                model.fit(X_train, Y_train_encoded)\n",
    "\n",
    "                # Evaluate\n",
    "                y_pred = model.predict(X_test)\n",
    "                acc = np.mean(y_test == y_pred)\n",
    "                per_class, macro, weighted = classification_report_custom(y_test, y_pred)\n",
    "\n",
    "                # Log parameters and metrics for all runs\n",
    "                mlflow.log_param(\"method\", method)\n",
    "                mlflow.log_param(\"learning_rate\", lr)\n",
    "                mlflow.log_param(\"l2_lambda\", ridge)\n",
    "                mlflow.log_param(\"max_iter\", max_iter)\n",
    "\n",
    "                mlflow.log_metric(\"accuracy\", acc)\n",
    "                mlflow.log_metric(\"macro_f1\", macro['f1'])\n",
    "                mlflow.log_metric(\"weighted_f1\", weighted['f1'])\n",
    "\n",
    "                # Save all results locally\n",
    "                all_results.append({\n",
    "                    \"run_name\": run_name,\n",
    "                    \"method\": method,\n",
    "                    \"lr\": lr,\n",
    "                    \"ridge\": ridge,\n",
    "                    \"accuracy\": acc,\n",
    "                    \"macro_f1\": macro['f1'],\n",
    "                    \"weighted_f1\": weighted['f1'],\n",
    "                    \"per_class\": per_class\n",
    "                })\n",
    "\n",
    "                print(f\"Accuracy: {acc:.4f}, Macro F1: {macro['f1']:.4f}, Weighted F1: {weighted['f1']:.4f}\")\n",
    "\n",
    "            # Track best model based on macro F1\n",
    "            if macro['f1'] > best_macro_f1:\n",
    "                best_macro_f1 = macro['f1']\n",
    "                best_model = model\n",
    "                best_run_name = run_name\n",
    "\n",
    "            run_counter += 1\n",
    "\n",
    "# Show all results locally\n",
    "results_df = pd.DataFrame(all_results)\n",
    "print(\"\\n=== All Run Results ===\")\n",
    "print(results_df[[\"run_name\", \"method\", \"lr\", \"ridge\", \"accuracy\", \"macro_f1\", \"weighted_f1\"]])\n",
    "\n",
    "# Deploy only the best model\n",
    "with mlflow.start_run(run_name=f\"best_model_{best_run_name}\"):\n",
    "\n",
    "    mlflow.log_param(\"description\", \"Best model from grid search based on macro F1\")\n",
    "    mlflow.log_param(\"method\", best_model.method)\n",
    "    mlflow.log_param(\"lr\", best_model.lr)\n",
    "    mlflow.log_param(\"l2_lambda\", best_model.l2)\n",
    "    \n",
    "    mlflow.log_metric(\"accuracy\", [r['accuracy'] for r in all_results if r['run_name']==best_run_name][0])\n",
    "    mlflow.log_metric(\"macro_f1\", best_macro_f1)\n",
    "    mlflow.log_metric(\"weighted_f1\", [r['weighted_f1'] for r in all_results if r['run_name']==best_run_name][0])\n",
    "\n",
    "    # Log only the best model\n",
    "    mlflow.sklearn.log_model(best_model, name=\"model\")\n",
    "\n",
    "print(f\"\\n✅ Best model deployed: {best_run_name} with Macro F1 {best_macro_f1:.4f}\")"
   ]
  },
  {
   "cell_type": "code",
   "execution_count": null,
   "metadata": {},
   "outputs": [
    {
     "name": "stdout",
     "output_type": "stream",
     "text": [
      "🏃 View run ridge_vs_sklearn_comparison at: http://mlflow.ml.brain.cs.ait.ac.th/#/experiments/969240953157876465/runs/25322248c0f9436ab32b3b610ea38c51\n",
      "🧪 View experiment at: http://mlflow.ml.brain.cs.ait.ac.th/#/experiments/969240953157876465\n"
     ]
    },
    {
     "ename": "ValueError",
     "evalue": "matmul: Input operand 1 has a mismatch in its core dimension 0, with gufunc signature (n?,k),(k,m?)->(n?,m?) (size 4 is different from 5)",
     "output_type": "error",
     "traceback": [
      "\u001b[31m---------------------------------------------------------------------------\u001b[39m",
      "\u001b[31mValueError\u001b[39m                                Traceback (most recent call last)",
      "\u001b[36mCell\u001b[39m\u001b[36m \u001b[39m\u001b[32mIn[82]\u001b[39m\u001b[32m, line 30\u001b[39m\n\u001b[32m     28\u001b[39m model = MultinomialLogisticRegression(lr=\u001b[32m0.05\u001b[39m, max_iter=\u001b[32m300\u001b[39m, l2_lambda=\u001b[32m0.1\u001b[39m,n_features=n, n_classes=k)\n\u001b[32m     29\u001b[39m t0 = time()\n\u001b[32m---> \u001b[39m\u001b[32m30\u001b[39m \u001b[43mmodel\u001b[49m\u001b[43m.\u001b[49m\u001b[43mfit\u001b[49m\u001b[43m(\u001b[49m\u001b[43mX_train\u001b[49m\u001b[43m,\u001b[49m\u001b[43m \u001b[49m\u001b[43my_train\u001b[49m\u001b[43m)\u001b[49m\n\u001b[32m     31\u001b[39m t1 = time()\n\u001b[32m     32\u001b[39m y_pred_custom = model.predict(X_test)\n",
      "\u001b[36mCell\u001b[39m\u001b[36m \u001b[39m\u001b[32mIn[74]\u001b[39m\u001b[32m, line 64\u001b[39m, in \u001b[36mMultinomialLogisticRegression.fit\u001b[39m\u001b[34m(self, X, Y_onehot)\u001b[39m\n\u001b[32m     62\u001b[39m \u001b[38;5;28;01mif\u001b[39;00m \u001b[38;5;28mself\u001b[39m.method == \u001b[33m'\u001b[39m\u001b[33mbatch\u001b[39m\u001b[33m'\u001b[39m:\n\u001b[32m     63\u001b[39m     \u001b[38;5;28;01mfor\u001b[39;00m i \u001b[38;5;129;01min\u001b[39;00m \u001b[38;5;28mrange\u001b[39m(\u001b[38;5;28mself\u001b[39m.max_iter):\n\u001b[32m---> \u001b[39m\u001b[32m64\u001b[39m         loss, grad = \u001b[38;5;28;43mself\u001b[39;49m\u001b[43m.\u001b[49m\u001b[43m_compute_loss_and_grad\u001b[49m\u001b[43m(\u001b[49m\u001b[43mX\u001b[49m\u001b[43m,\u001b[49m\u001b[43m \u001b[49m\u001b[43mY_onehot\u001b[49m\u001b[43m)\u001b[49m\n\u001b[32m     65\u001b[39m         \u001b[38;5;28mself\u001b[39m.W -= \u001b[38;5;28mself\u001b[39m.lr * grad\n\u001b[32m     66\u001b[39m         \u001b[38;5;28mself\u001b[39m.loss_history.append(loss)\n",
      "\u001b[36mCell\u001b[39m\u001b[36m \u001b[39m\u001b[32mIn[74]\u001b[39m\u001b[32m, line 41\u001b[39m, in \u001b[36mMultinomialLogisticRegression._compute_loss_and_grad\u001b[39m\u001b[34m(self, Xb, Yb)\u001b[39m\n\u001b[32m     35\u001b[39m \u001b[38;5;250m\u001b[39m\u001b[33;03m\"\"\"\u001b[39;00m\n\u001b[32m     36\u001b[39m \u001b[33;03mCross-entropy loss with optional L2 regularization.\u001b[39;00m\n\u001b[32m     37\u001b[39m \u001b[33;03mXb: (m, n)\u001b[39;00m\n\u001b[32m     38\u001b[39m \u001b[33;03mYb: (m, k) one-hot\u001b[39;00m\n\u001b[32m     39\u001b[39m \u001b[33;03m\"\"\"\u001b[39;00m\n\u001b[32m     40\u001b[39m m = Xb.shape[\u001b[32m0\u001b[39m]\n\u001b[32m---> \u001b[39m\u001b[32m41\u001b[39m scores = \u001b[43mXb\u001b[49m\u001b[43m \u001b[49m\u001b[43m@\u001b[49m\u001b[43m \u001b[49m\u001b[38;5;28;43mself\u001b[39;49m\u001b[43m.\u001b[49m\u001b[43mW\u001b[49m             \u001b[38;5;66;03m# (m, k)\u001b[39;00m\n\u001b[32m     42\u001b[39m probs = \u001b[38;5;28mself\u001b[39m.softmax(scores)     \u001b[38;5;66;03m# (m, k)\u001b[39;00m\n\u001b[32m     43\u001b[39m \u001b[38;5;66;03m# numeric stability\u001b[39;00m\n",
      "\u001b[31mValueError\u001b[39m: matmul: Input operand 1 has a mismatch in its core dimension 0, with gufunc signature (n?,k),(k,m?)->(n?,m?) (size 4 is different from 5)"
     ]
    }
   ],
   "source": [
    "\n",
    "# from sklearn.datasets import make_classification\n",
    "# from sklearn.linear_model import LogisticRegression as SkLogReg\n",
    "\n",
    "\n",
    "# # ====== Step 1. Generate synthetic dataset ======\n",
    "# X, y = make_classification(\n",
    "#     n_samples=500,\n",
    "#     n_features=5,\n",
    "#     n_informative=3,\n",
    "#     n_classes=4,\n",
    "#     n_clusters_per_class=1,\n",
    "#     random_state=42\n",
    "# )\n",
    "\n",
    "\n",
    "\n",
    "# # ====== Step 2. Initialize MLflow setup ======\n",
    "# mlflow.set_tracking_uri(\"http://mlflow.ml.brain.cs.ait.ac.th/\")\n",
    "# mlflow.set_experiment(\"<your_student_ID>-a3\")\n",
    "\n",
    "# # ====== Step 3. Train and compare ======\n",
    "# from time import time\n",
    "\n",
    "# with mlflow.start_run(run_name=\"ridge_vs_sklearn_comparison\"):\n",
    "\n",
    "#     # --- Train custom model ---\n",
    "#     model = MultinomialLogisticRegression(lr=0.05, max_iter=300, l2_lambda=0.1,n_features=n, n_classes=k)\n",
    "#     t0 = time()\n",
    "#     model.fit(X_train, Y_train_encoded)\n",
    "#     t1 = time()\n",
    "#     y_pred_custom = model.predict(X_test)\n",
    "\n",
    "#     # --- Custom metrics ---\n",
    "#     acc_custom = model.accuracy(y_test, y_pred_custom)\n",
    "#     per_class, macro, weighted = model.classification_report_custom(y_test, y_pred_custom)\n",
    "\n",
    "#     # --- Train sklearn model ---\n",
    "#     sk_model = SkLogReg(max_iter=300, penalty=\"l2\", C=1/0.1, multi_class='multinomial', solver='lbfgs')\n",
    "#     sk_model.fit(X_train, y_train)\n",
    "#     y_pred_sklearn = sk_model.predict(X_test)\n",
    "#     acc_sklearn = np.mean(y_pred_sklearn == y_test)\n",
    "\n",
    "#     # ===== Log everything =====\n",
    "#     mlflow.log_param(\"learning_rate\", 0.05)\n",
    "#     mlflow.log_param(\"epochs\", 300)\n",
    "#     mlflow.log_param(\"l2_lambda\", 0.1)\n",
    "#     mlflow.log_param(\"num_classes\", 4)\n",
    "\n",
    "#     mlflow.log_metric(\"accuracy_custom\", acc_custom)\n",
    "#     mlflow.log_metric(\"accuracy_sklearn\", acc_sklearn)\n",
    "#     mlflow.log_metric(\"macro_f1_custom\", macro['f1'])\n",
    "#     mlflow.log_metric(\"weighted_f1_custom\", weighted['f1'])\n",
    "#     mlflow.log_metric(\"train_time_custom\", t1 - t0)\n",
    "\n",
    "#     mlflow.sklearn.log_model(sk_model, \"sklearn_model\")\n",
    "\n",
    "#     print(f\"Custom model accuracy: {acc_custom:.4f}\")\n",
    "#     print(f\"Sklearn model accuracy: {acc_sklearn:.4f}\")\n",
    "#     print(f\"Macro F1 (custom): {macro['f1']:.4f}, Weighted F1 (custom): {weighted['f1']:.4f}\")\n",
    "#     print(f\"Training time (custom): {t1 - t0:.2f} seconds\")\n",
    "\n"
   ]
  },
  {
   "cell_type": "code",
   "execution_count": null,
   "metadata": {},
   "outputs": [],
   "source": []
  }
 ],
 "metadata": {
  "colab": {
   "provenance": []
  },
  "kernelspec": {
   "display_name": "base",
   "language": "python",
   "name": "python3"
  },
  "language_info": {
   "codemirror_mode": {
    "name": "ipython",
    "version": 3
   },
   "file_extension": ".py",
   "mimetype": "text/x-python",
   "name": "python",
   "nbconvert_exporter": "python",
   "pygments_lexer": "ipython3",
   "version": "3.13.7"
  }
 },
 "nbformat": 4,
 "nbformat_minor": 4
}
