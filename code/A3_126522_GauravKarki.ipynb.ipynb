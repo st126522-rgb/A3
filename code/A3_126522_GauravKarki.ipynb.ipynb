{
 "cells": [
  {
   "cell_type": "code",
   "execution_count": null,
   "metadata": {
    "id": "wjHwKIvOCClR"
   },
   "outputs": [],
   "source": []
  },
  {
   "cell_type": "code",
   "execution_count": 202,
   "metadata": {
    "id": "M5x3EeMs84pm"
   },
   "outputs": [],
   "source": [
    "# !pip install dash\n",
    "# !pip install dash-bootstrap-components\n",
    "# !pip install joblib\n",
    "# !pip install mlflow\n",
    "# !pip install xgboost\n",
    "# !pip install seaborn\n",
    "# !pip install imbalanced-learn\n",
    "# !pip install python-dotenv\n",
    "# !pip install matplotlib\n",
    "# !pip install pandas\n",
    "# !pip install scikit-learn\n",
    "# !pip install pytest\n",
    "# !pip install numpy"
   ]
  },
  {
   "cell_type": "markdown",
   "metadata": {},
   "source": [
    "# EDA"
   ]
  },
  {
   "cell_type": "code",
   "execution_count": 203,
   "metadata": {
    "id": "X8MeJqHPtDrW"
   },
   "outputs": [],
   "source": [
    "import matplotlib.pyplot as plt\n",
    "import numpy as np\n",
    "import pandas as pd\n",
    "import joblib\n",
    "import mlflow\n",
    "import mlflow.sklearn\n",
    "import itertools"
   ]
  },
  {
   "cell_type": "code",
   "execution_count": 204,
   "metadata": {
    "id": "gEcpKNFWvCwP"
   },
   "outputs": [],
   "source": [
    "from sklearn.model_selection import cross_val_score\n",
    "from sklearn.model_selection import train_test_split\n",
    "from sklearn.metrics import mean_squared_error, r2_score, accuracy_score,classification_report,confusion_matrix\n",
    "from sklearn.preprocessing import StandardScaler\n",
    "from sklearn.model_selection import GridSearchCV"
   ]
  },
  {
   "cell_type": "code",
   "execution_count": 205,
   "metadata": {
    "id": "VIieHkrSvFZz"
   },
   "outputs": [],
   "source": [
    "from sklearn.linear_model import LinearRegression\n",
    "from sklearn.ensemble import RandomForestRegressor\n",
    "from sklearn.neighbors import KNeighborsRegressor\n",
    "from sklearn.model_selection import KFold\n",
    "\n",
    "# from xgboost import XGBRegressor"
   ]
  },
  {
   "cell_type": "code",
   "execution_count": 206,
   "metadata": {
    "id": "55vg1iKntZRF"
   },
   "outputs": [],
   "source": [
    "loaded_cars=pd.read_csv(\"Cars.csv\", index_col=None)"
   ]
  },
  {
   "cell_type": "code",
   "execution_count": 207,
   "metadata": {
    "colab": {
     "base_uri": "https://localhost:8080/"
    },
    "id": "60r2g3pH2uNy",
    "outputId": "2568995c-8f5a-459a-91a2-0a95d66caacd"
   },
   "outputs": [
    {
     "data": {
      "text/plain": [
       "(8128, 13)"
      ]
     },
     "execution_count": 207,
     "metadata": {},
     "output_type": "execute_result"
    }
   ],
   "source": [
    "loaded_cars.shape"
   ]
  },
  {
   "cell_type": "code",
   "execution_count": 208,
   "metadata": {
    "colab": {
     "base_uri": "https://localhost:8080/",
     "height": 206
    },
    "id": "xgAzqmwyva00",
    "outputId": "cec02ae8-0296-4cba-e5fe-d34128ec3948"
   },
   "outputs": [
    {
     "data": {
      "application/vnd.microsoft.datawrangler.viewer.v0+json": {
       "columns": [
        {
         "name": "index",
         "rawType": "int64",
         "type": "integer"
        },
        {
         "name": "name",
         "rawType": "object",
         "type": "string"
        },
        {
         "name": "year",
         "rawType": "int64",
         "type": "integer"
        },
        {
         "name": "selling_price",
         "rawType": "int64",
         "type": "integer"
        },
        {
         "name": "km_driven",
         "rawType": "int64",
         "type": "integer"
        },
        {
         "name": "fuel",
         "rawType": "object",
         "type": "string"
        },
        {
         "name": "seller_type",
         "rawType": "object",
         "type": "string"
        },
        {
         "name": "transmission",
         "rawType": "object",
         "type": "string"
        },
        {
         "name": "owner",
         "rawType": "object",
         "type": "string"
        },
        {
         "name": "mileage",
         "rawType": "object",
         "type": "string"
        },
        {
         "name": "engine",
         "rawType": "object",
         "type": "string"
        },
        {
         "name": "max_power",
         "rawType": "object",
         "type": "string"
        },
        {
         "name": "torque",
         "rawType": "object",
         "type": "string"
        },
        {
         "name": "seats",
         "rawType": "float64",
         "type": "float"
        }
       ],
       "ref": "30f14fd2-40ba-40bd-b7ec-7683c7562e43",
       "rows": [
        [
         "0",
         "Maruti Swift Dzire VDI",
         "2014",
         "450000",
         "145500",
         "Diesel",
         "Individual",
         "Manual",
         "First Owner",
         "23.4 kmpl",
         "1248 CC",
         "74 bhp",
         "190Nm@ 2000rpm",
         "5.0"
        ],
        [
         "1",
         "Skoda Rapid 1.5 TDI Ambition",
         "2014",
         "370000",
         "120000",
         "Diesel",
         "Individual",
         "Manual",
         "Second Owner",
         "21.14 kmpl",
         "1498 CC",
         "103.52 bhp",
         "250Nm@ 1500-2500rpm",
         "5.0"
        ],
        [
         "2",
         "Honda City 2017-2020 EXi",
         "2006",
         "158000",
         "140000",
         "Petrol",
         "Individual",
         "Manual",
         "Third Owner",
         "17.7 kmpl",
         "1497 CC",
         "78 bhp",
         "12.7@ 2,700(kgm@ rpm)",
         "5.0"
        ],
        [
         "3",
         "Hyundai i20 Sportz Diesel",
         "2010",
         "225000",
         "127000",
         "Diesel",
         "Individual",
         "Manual",
         "First Owner",
         "23.0 kmpl",
         "1396 CC",
         "90 bhp",
         "22.4 kgm at 1750-2750rpm",
         "5.0"
        ],
        [
         "4",
         "Maruti Swift VXI BSIII",
         "2007",
         "130000",
         "120000",
         "Petrol",
         "Individual",
         "Manual",
         "First Owner",
         "16.1 kmpl",
         "1298 CC",
         "88.2 bhp",
         "11.5@ 4,500(kgm@ rpm)",
         "5.0"
        ]
       ],
       "shape": {
        "columns": 13,
        "rows": 5
       }
      },
      "text/html": [
       "<div>\n",
       "<style scoped>\n",
       "    .dataframe tbody tr th:only-of-type {\n",
       "        vertical-align: middle;\n",
       "    }\n",
       "\n",
       "    .dataframe tbody tr th {\n",
       "        vertical-align: top;\n",
       "    }\n",
       "\n",
       "    .dataframe thead th {\n",
       "        text-align: right;\n",
       "    }\n",
       "</style>\n",
       "<table border=\"1\" class=\"dataframe\">\n",
       "  <thead>\n",
       "    <tr style=\"text-align: right;\">\n",
       "      <th></th>\n",
       "      <th>name</th>\n",
       "      <th>year</th>\n",
       "      <th>selling_price</th>\n",
       "      <th>km_driven</th>\n",
       "      <th>fuel</th>\n",
       "      <th>seller_type</th>\n",
       "      <th>transmission</th>\n",
       "      <th>owner</th>\n",
       "      <th>mileage</th>\n",
       "      <th>engine</th>\n",
       "      <th>max_power</th>\n",
       "      <th>torque</th>\n",
       "      <th>seats</th>\n",
       "    </tr>\n",
       "  </thead>\n",
       "  <tbody>\n",
       "    <tr>\n",
       "      <th>0</th>\n",
       "      <td>Maruti Swift Dzire VDI</td>\n",
       "      <td>2014</td>\n",
       "      <td>450000</td>\n",
       "      <td>145500</td>\n",
       "      <td>Diesel</td>\n",
       "      <td>Individual</td>\n",
       "      <td>Manual</td>\n",
       "      <td>First Owner</td>\n",
       "      <td>23.4 kmpl</td>\n",
       "      <td>1248 CC</td>\n",
       "      <td>74 bhp</td>\n",
       "      <td>190Nm@ 2000rpm</td>\n",
       "      <td>5.0</td>\n",
       "    </tr>\n",
       "    <tr>\n",
       "      <th>1</th>\n",
       "      <td>Skoda Rapid 1.5 TDI Ambition</td>\n",
       "      <td>2014</td>\n",
       "      <td>370000</td>\n",
       "      <td>120000</td>\n",
       "      <td>Diesel</td>\n",
       "      <td>Individual</td>\n",
       "      <td>Manual</td>\n",
       "      <td>Second Owner</td>\n",
       "      <td>21.14 kmpl</td>\n",
       "      <td>1498 CC</td>\n",
       "      <td>103.52 bhp</td>\n",
       "      <td>250Nm@ 1500-2500rpm</td>\n",
       "      <td>5.0</td>\n",
       "    </tr>\n",
       "    <tr>\n",
       "      <th>2</th>\n",
       "      <td>Honda City 2017-2020 EXi</td>\n",
       "      <td>2006</td>\n",
       "      <td>158000</td>\n",
       "      <td>140000</td>\n",
       "      <td>Petrol</td>\n",
       "      <td>Individual</td>\n",
       "      <td>Manual</td>\n",
       "      <td>Third Owner</td>\n",
       "      <td>17.7 kmpl</td>\n",
       "      <td>1497 CC</td>\n",
       "      <td>78 bhp</td>\n",
       "      <td>12.7@ 2,700(kgm@ rpm)</td>\n",
       "      <td>5.0</td>\n",
       "    </tr>\n",
       "    <tr>\n",
       "      <th>3</th>\n",
       "      <td>Hyundai i20 Sportz Diesel</td>\n",
       "      <td>2010</td>\n",
       "      <td>225000</td>\n",
       "      <td>127000</td>\n",
       "      <td>Diesel</td>\n",
       "      <td>Individual</td>\n",
       "      <td>Manual</td>\n",
       "      <td>First Owner</td>\n",
       "      <td>23.0 kmpl</td>\n",
       "      <td>1396 CC</td>\n",
       "      <td>90 bhp</td>\n",
       "      <td>22.4 kgm at 1750-2750rpm</td>\n",
       "      <td>5.0</td>\n",
       "    </tr>\n",
       "    <tr>\n",
       "      <th>4</th>\n",
       "      <td>Maruti Swift VXI BSIII</td>\n",
       "      <td>2007</td>\n",
       "      <td>130000</td>\n",
       "      <td>120000</td>\n",
       "      <td>Petrol</td>\n",
       "      <td>Individual</td>\n",
       "      <td>Manual</td>\n",
       "      <td>First Owner</td>\n",
       "      <td>16.1 kmpl</td>\n",
       "      <td>1298 CC</td>\n",
       "      <td>88.2 bhp</td>\n",
       "      <td>11.5@ 4,500(kgm@ rpm)</td>\n",
       "      <td>5.0</td>\n",
       "    </tr>\n",
       "  </tbody>\n",
       "</table>\n",
       "</div>"
      ],
      "text/plain": [
       "                           name  year  selling_price  km_driven    fuel  \\\n",
       "0        Maruti Swift Dzire VDI  2014         450000     145500  Diesel   \n",
       "1  Skoda Rapid 1.5 TDI Ambition  2014         370000     120000  Diesel   \n",
       "2      Honda City 2017-2020 EXi  2006         158000     140000  Petrol   \n",
       "3     Hyundai i20 Sportz Diesel  2010         225000     127000  Diesel   \n",
       "4        Maruti Swift VXI BSIII  2007         130000     120000  Petrol   \n",
       "\n",
       "  seller_type transmission         owner     mileage   engine   max_power  \\\n",
       "0  Individual       Manual   First Owner   23.4 kmpl  1248 CC      74 bhp   \n",
       "1  Individual       Manual  Second Owner  21.14 kmpl  1498 CC  103.52 bhp   \n",
       "2  Individual       Manual   Third Owner   17.7 kmpl  1497 CC      78 bhp   \n",
       "3  Individual       Manual   First Owner   23.0 kmpl  1396 CC      90 bhp   \n",
       "4  Individual       Manual   First Owner   16.1 kmpl  1298 CC    88.2 bhp   \n",
       "\n",
       "                     torque  seats  \n",
       "0            190Nm@ 2000rpm    5.0  \n",
       "1       250Nm@ 1500-2500rpm    5.0  \n",
       "2     12.7@ 2,700(kgm@ rpm)    5.0  \n",
       "3  22.4 kgm at 1750-2750rpm    5.0  \n",
       "4     11.5@ 4,500(kgm@ rpm)    5.0  "
      ]
     },
     "execution_count": 208,
     "metadata": {},
     "output_type": "execute_result"
    }
   ],
   "source": [
    "loaded_cars.head()\n"
   ]
  },
  {
   "cell_type": "code",
   "execution_count": 209,
   "metadata": {
    "colab": {
     "base_uri": "https://localhost:8080/",
     "height": 206
    },
    "id": "-i5IQuGry3Ys",
    "outputId": "67102151-c43c-4df6-f34f-2390a63cb324"
   },
   "outputs": [
    {
     "data": {
      "application/vnd.microsoft.datawrangler.viewer.v0+json": {
       "columns": [
        {
         "name": "index",
         "rawType": "int64",
         "type": "integer"
        },
        {
         "name": "name",
         "rawType": "object",
         "type": "string"
        },
        {
         "name": "year",
         "rawType": "int64",
         "type": "integer"
        },
        {
         "name": "selling_price",
         "rawType": "int64",
         "type": "integer"
        },
        {
         "name": "km_driven",
         "rawType": "int64",
         "type": "integer"
        },
        {
         "name": "fuel",
         "rawType": "object",
         "type": "string"
        },
        {
         "name": "seller_type",
         "rawType": "object",
         "type": "string"
        },
        {
         "name": "transmission",
         "rawType": "object",
         "type": "string"
        },
        {
         "name": "owner",
         "rawType": "int64",
         "type": "integer"
        },
        {
         "name": "mileage",
         "rawType": "object",
         "type": "string"
        },
        {
         "name": "engine",
         "rawType": "object",
         "type": "string"
        },
        {
         "name": "max_power",
         "rawType": "object",
         "type": "string"
        },
        {
         "name": "torque",
         "rawType": "object",
         "type": "string"
        },
        {
         "name": "seats",
         "rawType": "float64",
         "type": "float"
        }
       ],
       "ref": "815e6fa7-4423-4764-8295-86199b93decd",
       "rows": [
        [
         "0",
         "Maruti Swift Dzire VDI",
         "2014",
         "450000",
         "145500",
         "Diesel",
         "Individual",
         "Manual",
         "1",
         "23.4 kmpl",
         "1248 CC",
         "74 bhp",
         "190Nm@ 2000rpm",
         "5.0"
        ],
        [
         "1",
         "Skoda Rapid 1.5 TDI Ambition",
         "2014",
         "370000",
         "120000",
         "Diesel",
         "Individual",
         "Manual",
         "2",
         "21.14 kmpl",
         "1498 CC",
         "103.52 bhp",
         "250Nm@ 1500-2500rpm",
         "5.0"
        ],
        [
         "2",
         "Honda City 2017-2020 EXi",
         "2006",
         "158000",
         "140000",
         "Petrol",
         "Individual",
         "Manual",
         "3",
         "17.7 kmpl",
         "1497 CC",
         "78 bhp",
         "12.7@ 2,700(kgm@ rpm)",
         "5.0"
        ],
        [
         "3",
         "Hyundai i20 Sportz Diesel",
         "2010",
         "225000",
         "127000",
         "Diesel",
         "Individual",
         "Manual",
         "1",
         "23.0 kmpl",
         "1396 CC",
         "90 bhp",
         "22.4 kgm at 1750-2750rpm",
         "5.0"
        ],
        [
         "4",
         "Maruti Swift VXI BSIII",
         "2007",
         "130000",
         "120000",
         "Petrol",
         "Individual",
         "Manual",
         "1",
         "16.1 kmpl",
         "1298 CC",
         "88.2 bhp",
         "11.5@ 4,500(kgm@ rpm)",
         "5.0"
        ]
       ],
       "shape": {
        "columns": 13,
        "rows": 5
       }
      },
      "text/html": [
       "<div>\n",
       "<style scoped>\n",
       "    .dataframe tbody tr th:only-of-type {\n",
       "        vertical-align: middle;\n",
       "    }\n",
       "\n",
       "    .dataframe tbody tr th {\n",
       "        vertical-align: top;\n",
       "    }\n",
       "\n",
       "    .dataframe thead th {\n",
       "        text-align: right;\n",
       "    }\n",
       "</style>\n",
       "<table border=\"1\" class=\"dataframe\">\n",
       "  <thead>\n",
       "    <tr style=\"text-align: right;\">\n",
       "      <th></th>\n",
       "      <th>name</th>\n",
       "      <th>year</th>\n",
       "      <th>selling_price</th>\n",
       "      <th>km_driven</th>\n",
       "      <th>fuel</th>\n",
       "      <th>seller_type</th>\n",
       "      <th>transmission</th>\n",
       "      <th>owner</th>\n",
       "      <th>mileage</th>\n",
       "      <th>engine</th>\n",
       "      <th>max_power</th>\n",
       "      <th>torque</th>\n",
       "      <th>seats</th>\n",
       "    </tr>\n",
       "  </thead>\n",
       "  <tbody>\n",
       "    <tr>\n",
       "      <th>0</th>\n",
       "      <td>Maruti Swift Dzire VDI</td>\n",
       "      <td>2014</td>\n",
       "      <td>450000</td>\n",
       "      <td>145500</td>\n",
       "      <td>Diesel</td>\n",
       "      <td>Individual</td>\n",
       "      <td>Manual</td>\n",
       "      <td>1</td>\n",
       "      <td>23.4 kmpl</td>\n",
       "      <td>1248 CC</td>\n",
       "      <td>74 bhp</td>\n",
       "      <td>190Nm@ 2000rpm</td>\n",
       "      <td>5.0</td>\n",
       "    </tr>\n",
       "    <tr>\n",
       "      <th>1</th>\n",
       "      <td>Skoda Rapid 1.5 TDI Ambition</td>\n",
       "      <td>2014</td>\n",
       "      <td>370000</td>\n",
       "      <td>120000</td>\n",
       "      <td>Diesel</td>\n",
       "      <td>Individual</td>\n",
       "      <td>Manual</td>\n",
       "      <td>2</td>\n",
       "      <td>21.14 kmpl</td>\n",
       "      <td>1498 CC</td>\n",
       "      <td>103.52 bhp</td>\n",
       "      <td>250Nm@ 1500-2500rpm</td>\n",
       "      <td>5.0</td>\n",
       "    </tr>\n",
       "    <tr>\n",
       "      <th>2</th>\n",
       "      <td>Honda City 2017-2020 EXi</td>\n",
       "      <td>2006</td>\n",
       "      <td>158000</td>\n",
       "      <td>140000</td>\n",
       "      <td>Petrol</td>\n",
       "      <td>Individual</td>\n",
       "      <td>Manual</td>\n",
       "      <td>3</td>\n",
       "      <td>17.7 kmpl</td>\n",
       "      <td>1497 CC</td>\n",
       "      <td>78 bhp</td>\n",
       "      <td>12.7@ 2,700(kgm@ rpm)</td>\n",
       "      <td>5.0</td>\n",
       "    </tr>\n",
       "    <tr>\n",
       "      <th>3</th>\n",
       "      <td>Hyundai i20 Sportz Diesel</td>\n",
       "      <td>2010</td>\n",
       "      <td>225000</td>\n",
       "      <td>127000</td>\n",
       "      <td>Diesel</td>\n",
       "      <td>Individual</td>\n",
       "      <td>Manual</td>\n",
       "      <td>1</td>\n",
       "      <td>23.0 kmpl</td>\n",
       "      <td>1396 CC</td>\n",
       "      <td>90 bhp</td>\n",
       "      <td>22.4 kgm at 1750-2750rpm</td>\n",
       "      <td>5.0</td>\n",
       "    </tr>\n",
       "    <tr>\n",
       "      <th>4</th>\n",
       "      <td>Maruti Swift VXI BSIII</td>\n",
       "      <td>2007</td>\n",
       "      <td>130000</td>\n",
       "      <td>120000</td>\n",
       "      <td>Petrol</td>\n",
       "      <td>Individual</td>\n",
       "      <td>Manual</td>\n",
       "      <td>1</td>\n",
       "      <td>16.1 kmpl</td>\n",
       "      <td>1298 CC</td>\n",
       "      <td>88.2 bhp</td>\n",
       "      <td>11.5@ 4,500(kgm@ rpm)</td>\n",
       "      <td>5.0</td>\n",
       "    </tr>\n",
       "  </tbody>\n",
       "</table>\n",
       "</div>"
      ],
      "text/plain": [
       "                           name  year  selling_price  km_driven    fuel  \\\n",
       "0        Maruti Swift Dzire VDI  2014         450000     145500  Diesel   \n",
       "1  Skoda Rapid 1.5 TDI Ambition  2014         370000     120000  Diesel   \n",
       "2      Honda City 2017-2020 EXi  2006         158000     140000  Petrol   \n",
       "3     Hyundai i20 Sportz Diesel  2010         225000     127000  Diesel   \n",
       "4        Maruti Swift VXI BSIII  2007         130000     120000  Petrol   \n",
       "\n",
       "  seller_type transmission  owner     mileage   engine   max_power  \\\n",
       "0  Individual       Manual      1   23.4 kmpl  1248 CC      74 bhp   \n",
       "1  Individual       Manual      2  21.14 kmpl  1498 CC  103.52 bhp   \n",
       "2  Individual       Manual      3   17.7 kmpl  1497 CC      78 bhp   \n",
       "3  Individual       Manual      1   23.0 kmpl  1396 CC      90 bhp   \n",
       "4  Individual       Manual      1   16.1 kmpl  1298 CC    88.2 bhp   \n",
       "\n",
       "                     torque  seats  \n",
       "0            190Nm@ 2000rpm    5.0  \n",
       "1       250Nm@ 1500-2500rpm    5.0  \n",
       "2     12.7@ 2,700(kgm@ rpm)    5.0  \n",
       "3  22.4 kgm at 1750-2750rpm    5.0  \n",
       "4     11.5@ 4,500(kgm@ rpm)    5.0  "
      ]
     },
     "execution_count": 209,
     "metadata": {},
     "output_type": "execute_result"
    }
   ],
   "source": [
    "def carOwnerNumber(numStr):\n",
    "  labels={\"First Owner\":1, \"Second Owner\":2, \"Third Owner\":3, \"Fourth & Above Owner\":4, \"Test Drive Car\":5}\n",
    "  return labels[numStr]\n",
    "\n",
    "loaded_cars['owner']=loaded_cars['owner'].apply(carOwnerNumber)\n",
    "loaded_cars.head()\n"
   ]
  },
  {
   "cell_type": "code",
   "execution_count": 210,
   "metadata": {
    "colab": {
     "base_uri": "https://localhost:8080/",
     "height": 241
    },
    "id": "-bWKw4Dtx6O0",
    "outputId": "6f2b62c0-a968-489f-b38e-dd626a7ec4d3"
   },
   "outputs": [
    {
     "name": "stdout",
     "output_type": "stream",
     "text": [
      "(8128, 13)\n",
      "(8033, 13)\n"
     ]
    },
    {
     "data": {
      "application/vnd.microsoft.datawrangler.viewer.v0+json": {
       "columns": [
        {
         "name": "index",
         "rawType": "int64",
         "type": "integer"
        },
        {
         "name": "name",
         "rawType": "object",
         "type": "string"
        },
        {
         "name": "year",
         "rawType": "int64",
         "type": "integer"
        },
        {
         "name": "selling_price",
         "rawType": "int64",
         "type": "integer"
        },
        {
         "name": "km_driven",
         "rawType": "int64",
         "type": "integer"
        },
        {
         "name": "fuel",
         "rawType": "object",
         "type": "string"
        },
        {
         "name": "seller_type",
         "rawType": "object",
         "type": "string"
        },
        {
         "name": "transmission",
         "rawType": "object",
         "type": "string"
        },
        {
         "name": "owner",
         "rawType": "int64",
         "type": "integer"
        },
        {
         "name": "mileage",
         "rawType": "object",
         "type": "string"
        },
        {
         "name": "engine",
         "rawType": "object",
         "type": "string"
        },
        {
         "name": "max_power",
         "rawType": "object",
         "type": "string"
        },
        {
         "name": "torque",
         "rawType": "object",
         "type": "string"
        },
        {
         "name": "seats",
         "rawType": "float64",
         "type": "float"
        }
       ],
       "ref": "2e6a4307-5fa8-4761-897a-f869331520eb",
       "rows": [
        [
         "0",
         "Maruti Swift Dzire VDI",
         "2014",
         "450000",
         "145500",
         "Diesel",
         "Individual",
         "Manual",
         "1",
         "23.4 kmpl",
         "1248 CC",
         "74 bhp",
         "190Nm@ 2000rpm",
         "5.0"
        ],
        [
         "1",
         "Skoda Rapid 1.5 TDI Ambition",
         "2014",
         "370000",
         "120000",
         "Diesel",
         "Individual",
         "Manual",
         "2",
         "21.14 kmpl",
         "1498 CC",
         "103.52 bhp",
         "250Nm@ 1500-2500rpm",
         "5.0"
        ],
        [
         "2",
         "Honda City 2017-2020 EXi",
         "2006",
         "158000",
         "140000",
         "Petrol",
         "Individual",
         "Manual",
         "3",
         "17.7 kmpl",
         "1497 CC",
         "78 bhp",
         "12.7@ 2,700(kgm@ rpm)",
         "5.0"
        ],
        [
         "3",
         "Hyundai i20 Sportz Diesel",
         "2010",
         "225000",
         "127000",
         "Diesel",
         "Individual",
         "Manual",
         "1",
         "23.0 kmpl",
         "1396 CC",
         "90 bhp",
         "22.4 kgm at 1750-2750rpm",
         "5.0"
        ],
        [
         "4",
         "Maruti Swift VXI BSIII",
         "2007",
         "130000",
         "120000",
         "Petrol",
         "Individual",
         "Manual",
         "1",
         "16.1 kmpl",
         "1298 CC",
         "88.2 bhp",
         "11.5@ 4,500(kgm@ rpm)",
         "5.0"
        ]
       ],
       "shape": {
        "columns": 13,
        "rows": 5
       }
      },
      "text/html": [
       "<div>\n",
       "<style scoped>\n",
       "    .dataframe tbody tr th:only-of-type {\n",
       "        vertical-align: middle;\n",
       "    }\n",
       "\n",
       "    .dataframe tbody tr th {\n",
       "        vertical-align: top;\n",
       "    }\n",
       "\n",
       "    .dataframe thead th {\n",
       "        text-align: right;\n",
       "    }\n",
       "</style>\n",
       "<table border=\"1\" class=\"dataframe\">\n",
       "  <thead>\n",
       "    <tr style=\"text-align: right;\">\n",
       "      <th></th>\n",
       "      <th>name</th>\n",
       "      <th>year</th>\n",
       "      <th>selling_price</th>\n",
       "      <th>km_driven</th>\n",
       "      <th>fuel</th>\n",
       "      <th>seller_type</th>\n",
       "      <th>transmission</th>\n",
       "      <th>owner</th>\n",
       "      <th>mileage</th>\n",
       "      <th>engine</th>\n",
       "      <th>max_power</th>\n",
       "      <th>torque</th>\n",
       "      <th>seats</th>\n",
       "    </tr>\n",
       "  </thead>\n",
       "  <tbody>\n",
       "    <tr>\n",
       "      <th>0</th>\n",
       "      <td>Maruti Swift Dzire VDI</td>\n",
       "      <td>2014</td>\n",
       "      <td>450000</td>\n",
       "      <td>145500</td>\n",
       "      <td>Diesel</td>\n",
       "      <td>Individual</td>\n",
       "      <td>Manual</td>\n",
       "      <td>1</td>\n",
       "      <td>23.4 kmpl</td>\n",
       "      <td>1248 CC</td>\n",
       "      <td>74 bhp</td>\n",
       "      <td>190Nm@ 2000rpm</td>\n",
       "      <td>5.0</td>\n",
       "    </tr>\n",
       "    <tr>\n",
       "      <th>1</th>\n",
       "      <td>Skoda Rapid 1.5 TDI Ambition</td>\n",
       "      <td>2014</td>\n",
       "      <td>370000</td>\n",
       "      <td>120000</td>\n",
       "      <td>Diesel</td>\n",
       "      <td>Individual</td>\n",
       "      <td>Manual</td>\n",
       "      <td>2</td>\n",
       "      <td>21.14 kmpl</td>\n",
       "      <td>1498 CC</td>\n",
       "      <td>103.52 bhp</td>\n",
       "      <td>250Nm@ 1500-2500rpm</td>\n",
       "      <td>5.0</td>\n",
       "    </tr>\n",
       "    <tr>\n",
       "      <th>2</th>\n",
       "      <td>Honda City 2017-2020 EXi</td>\n",
       "      <td>2006</td>\n",
       "      <td>158000</td>\n",
       "      <td>140000</td>\n",
       "      <td>Petrol</td>\n",
       "      <td>Individual</td>\n",
       "      <td>Manual</td>\n",
       "      <td>3</td>\n",
       "      <td>17.7 kmpl</td>\n",
       "      <td>1497 CC</td>\n",
       "      <td>78 bhp</td>\n",
       "      <td>12.7@ 2,700(kgm@ rpm)</td>\n",
       "      <td>5.0</td>\n",
       "    </tr>\n",
       "    <tr>\n",
       "      <th>3</th>\n",
       "      <td>Hyundai i20 Sportz Diesel</td>\n",
       "      <td>2010</td>\n",
       "      <td>225000</td>\n",
       "      <td>127000</td>\n",
       "      <td>Diesel</td>\n",
       "      <td>Individual</td>\n",
       "      <td>Manual</td>\n",
       "      <td>1</td>\n",
       "      <td>23.0 kmpl</td>\n",
       "      <td>1396 CC</td>\n",
       "      <td>90 bhp</td>\n",
       "      <td>22.4 kgm at 1750-2750rpm</td>\n",
       "      <td>5.0</td>\n",
       "    </tr>\n",
       "    <tr>\n",
       "      <th>4</th>\n",
       "      <td>Maruti Swift VXI BSIII</td>\n",
       "      <td>2007</td>\n",
       "      <td>130000</td>\n",
       "      <td>120000</td>\n",
       "      <td>Petrol</td>\n",
       "      <td>Individual</td>\n",
       "      <td>Manual</td>\n",
       "      <td>1</td>\n",
       "      <td>16.1 kmpl</td>\n",
       "      <td>1298 CC</td>\n",
       "      <td>88.2 bhp</td>\n",
       "      <td>11.5@ 4,500(kgm@ rpm)</td>\n",
       "      <td>5.0</td>\n",
       "    </tr>\n",
       "  </tbody>\n",
       "</table>\n",
       "</div>"
      ],
      "text/plain": [
       "                           name  year  selling_price  km_driven    fuel  \\\n",
       "0        Maruti Swift Dzire VDI  2014         450000     145500  Diesel   \n",
       "1  Skoda Rapid 1.5 TDI Ambition  2014         370000     120000  Diesel   \n",
       "2      Honda City 2017-2020 EXi  2006         158000     140000  Petrol   \n",
       "3     Hyundai i20 Sportz Diesel  2010         225000     127000  Diesel   \n",
       "4        Maruti Swift VXI BSIII  2007         130000     120000  Petrol   \n",
       "\n",
       "  seller_type transmission  owner     mileage   engine   max_power  \\\n",
       "0  Individual       Manual      1   23.4 kmpl  1248 CC      74 bhp   \n",
       "1  Individual       Manual      2  21.14 kmpl  1498 CC  103.52 bhp   \n",
       "2  Individual       Manual      3   17.7 kmpl  1497 CC      78 bhp   \n",
       "3  Individual       Manual      1   23.0 kmpl  1396 CC      90 bhp   \n",
       "4  Individual       Manual      1   16.1 kmpl  1298 CC    88.2 bhp   \n",
       "\n",
       "                     torque  seats  \n",
       "0            190Nm@ 2000rpm    5.0  \n",
       "1       250Nm@ 1500-2500rpm    5.0  \n",
       "2     12.7@ 2,700(kgm@ rpm)    5.0  \n",
       "3  22.4 kgm at 1750-2750rpm    5.0  \n",
       "4     11.5@ 4,500(kgm@ rpm)    5.0  "
      ]
     },
     "execution_count": 210,
     "metadata": {},
     "output_type": "execute_result"
    }
   ],
   "source": [
    "\n",
    "print(loaded_cars.shape)\n",
    "loaded_cars = loaded_cars.drop(loaded_cars[(loaded_cars['fuel'] == 'CNG') | (loaded_cars['fuel'] == 'LPG')].index)\n",
    "print(loaded_cars.shape)\n",
    "loaded_cars.head()\n"
   ]
  },
  {
   "cell_type": "code",
   "execution_count": 211,
   "metadata": {
    "colab": {
     "base_uri": "https://localhost:8080/",
     "height": 206
    },
    "id": "BxkBNavLwURS",
    "outputId": "120f1983-5246-42aa-cb6f-646e433789cf"
   },
   "outputs": [
    {
     "data": {
      "application/vnd.microsoft.datawrangler.viewer.v0+json": {
       "columns": [
        {
         "name": "index",
         "rawType": "int64",
         "type": "integer"
        },
        {
         "name": "name",
         "rawType": "object",
         "type": "string"
        },
        {
         "name": "year",
         "rawType": "int64",
         "type": "integer"
        },
        {
         "name": "selling_price",
         "rawType": "int64",
         "type": "integer"
        },
        {
         "name": "km_driven",
         "rawType": "int64",
         "type": "integer"
        },
        {
         "name": "fuel",
         "rawType": "object",
         "type": "string"
        },
        {
         "name": "seller_type",
         "rawType": "object",
         "type": "string"
        },
        {
         "name": "transmission",
         "rawType": "object",
         "type": "string"
        },
        {
         "name": "owner",
         "rawType": "int64",
         "type": "integer"
        },
        {
         "name": "mileage",
         "rawType": "float64",
         "type": "float"
        },
        {
         "name": "engine",
         "rawType": "float64",
         "type": "float"
        },
        {
         "name": "max_power",
         "rawType": "float64",
         "type": "float"
        },
        {
         "name": "torque",
         "rawType": "object",
         "type": "string"
        },
        {
         "name": "seats",
         "rawType": "float64",
         "type": "float"
        }
       ],
       "ref": "11da20d5-f693-4420-a158-c07a44ceb414",
       "rows": [
        [
         "0",
         "Maruti",
         "2014",
         "450000",
         "145500",
         "Diesel",
         "Individual",
         "Manual",
         "1",
         "23.4",
         "1248.0",
         "74.0",
         "190Nm@ 2000rpm",
         "5.0"
        ],
        [
         "1",
         "Skoda",
         "2014",
         "370000",
         "120000",
         "Diesel",
         "Individual",
         "Manual",
         "2",
         "21.14",
         "1498.0",
         "103.52",
         "250Nm@ 1500-2500rpm",
         "5.0"
        ],
        [
         "2",
         "Honda",
         "2006",
         "158000",
         "140000",
         "Petrol",
         "Individual",
         "Manual",
         "3",
         "17.7",
         "1497.0",
         "78.0",
         "12.7@ 2,700(kgm@ rpm)",
         "5.0"
        ],
        [
         "3",
         "Hyundai",
         "2010",
         "225000",
         "127000",
         "Diesel",
         "Individual",
         "Manual",
         "1",
         "23.0",
         "1396.0",
         "90.0",
         "22.4 kgm at 1750-2750rpm",
         "5.0"
        ],
        [
         "4",
         "Maruti",
         "2007",
         "130000",
         "120000",
         "Petrol",
         "Individual",
         "Manual",
         "1",
         "16.1",
         "1298.0",
         "88.2",
         "11.5@ 4,500(kgm@ rpm)",
         "5.0"
        ]
       ],
       "shape": {
        "columns": 13,
        "rows": 5
       }
      },
      "text/html": [
       "<div>\n",
       "<style scoped>\n",
       "    .dataframe tbody tr th:only-of-type {\n",
       "        vertical-align: middle;\n",
       "    }\n",
       "\n",
       "    .dataframe tbody tr th {\n",
       "        vertical-align: top;\n",
       "    }\n",
       "\n",
       "    .dataframe thead th {\n",
       "        text-align: right;\n",
       "    }\n",
       "</style>\n",
       "<table border=\"1\" class=\"dataframe\">\n",
       "  <thead>\n",
       "    <tr style=\"text-align: right;\">\n",
       "      <th></th>\n",
       "      <th>name</th>\n",
       "      <th>year</th>\n",
       "      <th>selling_price</th>\n",
       "      <th>km_driven</th>\n",
       "      <th>fuel</th>\n",
       "      <th>seller_type</th>\n",
       "      <th>transmission</th>\n",
       "      <th>owner</th>\n",
       "      <th>mileage</th>\n",
       "      <th>engine</th>\n",
       "      <th>max_power</th>\n",
       "      <th>torque</th>\n",
       "      <th>seats</th>\n",
       "    </tr>\n",
       "  </thead>\n",
       "  <tbody>\n",
       "    <tr>\n",
       "      <th>0</th>\n",
       "      <td>Maruti</td>\n",
       "      <td>2014</td>\n",
       "      <td>450000</td>\n",
       "      <td>145500</td>\n",
       "      <td>Diesel</td>\n",
       "      <td>Individual</td>\n",
       "      <td>Manual</td>\n",
       "      <td>1</td>\n",
       "      <td>23.40</td>\n",
       "      <td>1248.0</td>\n",
       "      <td>74.00</td>\n",
       "      <td>190Nm@ 2000rpm</td>\n",
       "      <td>5.0</td>\n",
       "    </tr>\n",
       "    <tr>\n",
       "      <th>1</th>\n",
       "      <td>Skoda</td>\n",
       "      <td>2014</td>\n",
       "      <td>370000</td>\n",
       "      <td>120000</td>\n",
       "      <td>Diesel</td>\n",
       "      <td>Individual</td>\n",
       "      <td>Manual</td>\n",
       "      <td>2</td>\n",
       "      <td>21.14</td>\n",
       "      <td>1498.0</td>\n",
       "      <td>103.52</td>\n",
       "      <td>250Nm@ 1500-2500rpm</td>\n",
       "      <td>5.0</td>\n",
       "    </tr>\n",
       "    <tr>\n",
       "      <th>2</th>\n",
       "      <td>Honda</td>\n",
       "      <td>2006</td>\n",
       "      <td>158000</td>\n",
       "      <td>140000</td>\n",
       "      <td>Petrol</td>\n",
       "      <td>Individual</td>\n",
       "      <td>Manual</td>\n",
       "      <td>3</td>\n",
       "      <td>17.70</td>\n",
       "      <td>1497.0</td>\n",
       "      <td>78.00</td>\n",
       "      <td>12.7@ 2,700(kgm@ rpm)</td>\n",
       "      <td>5.0</td>\n",
       "    </tr>\n",
       "    <tr>\n",
       "      <th>3</th>\n",
       "      <td>Hyundai</td>\n",
       "      <td>2010</td>\n",
       "      <td>225000</td>\n",
       "      <td>127000</td>\n",
       "      <td>Diesel</td>\n",
       "      <td>Individual</td>\n",
       "      <td>Manual</td>\n",
       "      <td>1</td>\n",
       "      <td>23.00</td>\n",
       "      <td>1396.0</td>\n",
       "      <td>90.00</td>\n",
       "      <td>22.4 kgm at 1750-2750rpm</td>\n",
       "      <td>5.0</td>\n",
       "    </tr>\n",
       "    <tr>\n",
       "      <th>4</th>\n",
       "      <td>Maruti</td>\n",
       "      <td>2007</td>\n",
       "      <td>130000</td>\n",
       "      <td>120000</td>\n",
       "      <td>Petrol</td>\n",
       "      <td>Individual</td>\n",
       "      <td>Manual</td>\n",
       "      <td>1</td>\n",
       "      <td>16.10</td>\n",
       "      <td>1298.0</td>\n",
       "      <td>88.20</td>\n",
       "      <td>11.5@ 4,500(kgm@ rpm)</td>\n",
       "      <td>5.0</td>\n",
       "    </tr>\n",
       "  </tbody>\n",
       "</table>\n",
       "</div>"
      ],
      "text/plain": [
       "      name  year  selling_price  km_driven    fuel seller_type transmission  \\\n",
       "0   Maruti  2014         450000     145500  Diesel  Individual       Manual   \n",
       "1    Skoda  2014         370000     120000  Diesel  Individual       Manual   \n",
       "2    Honda  2006         158000     140000  Petrol  Individual       Manual   \n",
       "3  Hyundai  2010         225000     127000  Diesel  Individual       Manual   \n",
       "4   Maruti  2007         130000     120000  Petrol  Individual       Manual   \n",
       "\n",
       "   owner  mileage  engine  max_power                    torque  seats  \n",
       "0      1    23.40  1248.0      74.00            190Nm@ 2000rpm    5.0  \n",
       "1      2    21.14  1498.0     103.52       250Nm@ 1500-2500rpm    5.0  \n",
       "2      3    17.70  1497.0      78.00     12.7@ 2,700(kgm@ rpm)    5.0  \n",
       "3      1    23.00  1396.0      90.00  22.4 kgm at 1750-2750rpm    5.0  \n",
       "4      1    16.10  1298.0      88.20     11.5@ 4,500(kgm@ rpm)    5.0  "
      ]
     },
     "execution_count": 211,
     "metadata": {},
     "output_type": "execute_result"
    }
   ],
   "source": [
    "loaded_cars['mileage']=loaded_cars['mileage'].str.replace(' kmpl','').astype(float)\n",
    "loaded_cars['engine']=loaded_cars['engine'].str.replace(' CC','').astype(float)\n",
    "loaded_cars['max_power']=loaded_cars['max_power'].str.replace(' bhp','').astype(float)\n",
    "loaded_cars['name']=loaded_cars['name'].str.split(\" \").str[0]\n",
    "loaded_cars.head()"
   ]
  },
  {
   "cell_type": "code",
   "execution_count": 212,
   "metadata": {
    "colab": {
     "base_uri": "https://localhost:8080/",
     "height": 492
    },
    "id": "V_F9jR6gwQRC",
    "outputId": "df0fd7a8-4e1c-4970-fd3d-028136fac3a9"
   },
   "outputs": [
    {
     "data": {
      "application/vnd.microsoft.datawrangler.viewer.v0+json": {
       "columns": [
        {
         "name": "index",
         "rawType": "object",
         "type": "string"
        },
        {
         "name": "0",
         "rawType": "int64",
         "type": "integer"
        }
       ],
       "ref": "cb442dc9-3cce-4db4-aaf2-79f5296f8ff6",
       "rows": [
        [
         "name",
         "0"
        ],
        [
         "year",
         "0"
        ],
        [
         "selling_price",
         "0"
        ],
        [
         "km_driven",
         "0"
        ],
        [
         "fuel",
         "0"
        ],
        [
         "seller_type",
         "0"
        ],
        [
         "transmission",
         "0"
        ],
        [
         "owner",
         "0"
        ],
        [
         "mileage",
         "214"
        ],
        [
         "engine",
         "214"
        ],
        [
         "max_power",
         "208"
        ],
        [
         "torque",
         "214"
        ],
        [
         "seats",
         "214"
        ]
       ],
       "shape": {
        "columns": 1,
        "rows": 13
       }
      },
      "text/plain": [
       "name               0\n",
       "year               0\n",
       "selling_price      0\n",
       "km_driven          0\n",
       "fuel               0\n",
       "seller_type        0\n",
       "transmission       0\n",
       "owner              0\n",
       "mileage          214\n",
       "engine           214\n",
       "max_power        208\n",
       "torque           214\n",
       "seats            214\n",
       "dtype: int64"
      ]
     },
     "execution_count": 212,
     "metadata": {},
     "output_type": "execute_result"
    }
   ],
   "source": [
    "null_count=loaded_cars.isnull().sum()\n",
    "null_count"
   ]
  },
  {
   "cell_type": "code",
   "execution_count": 213,
   "metadata": {
    "id": "b9DT2Us1TnE5"
   },
   "outputs": [],
   "source": [
    "loaded_cars['mileage'] = loaded_cars['mileage'].fillna(loaded_cars['mileage'].median())\n",
    "loaded_cars['engine'] = loaded_cars['engine'].fillna(loaded_cars['engine'].median())\n",
    "loaded_cars['max_power'] = loaded_cars['max_power'].fillna(loaded_cars['max_power'].median())\n",
    "loaded_cars['seats'] = loaded_cars['seats'].fillna(loaded_cars['seats'].median())\n"
   ]
  },
  {
   "cell_type": "code",
   "execution_count": 214,
   "metadata": {
    "colab": {
     "base_uri": "https://localhost:8080/"
    },
    "id": "O9aSXA5vKjhf",
    "outputId": "a99a9131-c635-49f4-ece5-bc42d35c1559"
   },
   "outputs": [
    {
     "data": {
      "text/plain": [
       "['medians.pkl']"
      ]
     },
     "execution_count": 214,
     "metadata": {},
     "output_type": "execute_result"
    }
   ],
   "source": [
    "medians = {\n",
    "    \"year\": loaded_cars['year'].median(),\n",
    "    \"mileage\": loaded_cars['mileage'].median(),\n",
    "    \"max_power\": loaded_cars['max_power'].median()\n",
    "}\n",
    "joblib.dump(medians, \"medians.pkl\")"
   ]
  },
  {
   "cell_type": "code",
   "execution_count": 215,
   "metadata": {
    "colab": {
     "base_uri": "https://localhost:8080/",
     "height": 206
    },
    "id": "4oeOBwJXwauy",
    "outputId": "f9828484-5a07-4209-84fb-44990a7a47e2"
   },
   "outputs": [
    {
     "data": {
      "application/vnd.microsoft.datawrangler.viewer.v0+json": {
       "columns": [
        {
         "name": "index",
         "rawType": "int64",
         "type": "integer"
        },
        {
         "name": "name",
         "rawType": "object",
         "type": "string"
        },
        {
         "name": "year",
         "rawType": "int64",
         "type": "integer"
        },
        {
         "name": "selling_price",
         "rawType": "int64",
         "type": "integer"
        },
        {
         "name": "km_driven",
         "rawType": "int64",
         "type": "integer"
        },
        {
         "name": "fuel",
         "rawType": "object",
         "type": "string"
        },
        {
         "name": "seller_type",
         "rawType": "object",
         "type": "string"
        },
        {
         "name": "transmission",
         "rawType": "object",
         "type": "string"
        },
        {
         "name": "owner",
         "rawType": "int64",
         "type": "integer"
        },
        {
         "name": "mileage",
         "rawType": "float64",
         "type": "float"
        },
        {
         "name": "engine",
         "rawType": "float64",
         "type": "float"
        },
        {
         "name": "max_power",
         "rawType": "float64",
         "type": "float"
        },
        {
         "name": "seats",
         "rawType": "float64",
         "type": "float"
        }
       ],
       "ref": "9d7ff5e1-ee41-4c2b-ab92-41cdca78cb92",
       "rows": [
        [
         "0",
         "Maruti",
         "2014",
         "450000",
         "145500",
         "Diesel",
         "Individual",
         "Manual",
         "1",
         "23.4",
         "1248.0",
         "74.0",
         "5.0"
        ],
        [
         "1",
         "Skoda",
         "2014",
         "370000",
         "120000",
         "Diesel",
         "Individual",
         "Manual",
         "2",
         "21.14",
         "1498.0",
         "103.52",
         "5.0"
        ],
        [
         "2",
         "Honda",
         "2006",
         "158000",
         "140000",
         "Petrol",
         "Individual",
         "Manual",
         "3",
         "17.7",
         "1497.0",
         "78.0",
         "5.0"
        ],
        [
         "3",
         "Hyundai",
         "2010",
         "225000",
         "127000",
         "Diesel",
         "Individual",
         "Manual",
         "1",
         "23.0",
         "1396.0",
         "90.0",
         "5.0"
        ],
        [
         "4",
         "Maruti",
         "2007",
         "130000",
         "120000",
         "Petrol",
         "Individual",
         "Manual",
         "1",
         "16.1",
         "1298.0",
         "88.2",
         "5.0"
        ]
       ],
       "shape": {
        "columns": 12,
        "rows": 5
       }
      },
      "text/html": [
       "<div>\n",
       "<style scoped>\n",
       "    .dataframe tbody tr th:only-of-type {\n",
       "        vertical-align: middle;\n",
       "    }\n",
       "\n",
       "    .dataframe tbody tr th {\n",
       "        vertical-align: top;\n",
       "    }\n",
       "\n",
       "    .dataframe thead th {\n",
       "        text-align: right;\n",
       "    }\n",
       "</style>\n",
       "<table border=\"1\" class=\"dataframe\">\n",
       "  <thead>\n",
       "    <tr style=\"text-align: right;\">\n",
       "      <th></th>\n",
       "      <th>name</th>\n",
       "      <th>year</th>\n",
       "      <th>selling_price</th>\n",
       "      <th>km_driven</th>\n",
       "      <th>fuel</th>\n",
       "      <th>seller_type</th>\n",
       "      <th>transmission</th>\n",
       "      <th>owner</th>\n",
       "      <th>mileage</th>\n",
       "      <th>engine</th>\n",
       "      <th>max_power</th>\n",
       "      <th>seats</th>\n",
       "    </tr>\n",
       "  </thead>\n",
       "  <tbody>\n",
       "    <tr>\n",
       "      <th>0</th>\n",
       "      <td>Maruti</td>\n",
       "      <td>2014</td>\n",
       "      <td>450000</td>\n",
       "      <td>145500</td>\n",
       "      <td>Diesel</td>\n",
       "      <td>Individual</td>\n",
       "      <td>Manual</td>\n",
       "      <td>1</td>\n",
       "      <td>23.40</td>\n",
       "      <td>1248.0</td>\n",
       "      <td>74.00</td>\n",
       "      <td>5.0</td>\n",
       "    </tr>\n",
       "    <tr>\n",
       "      <th>1</th>\n",
       "      <td>Skoda</td>\n",
       "      <td>2014</td>\n",
       "      <td>370000</td>\n",
       "      <td>120000</td>\n",
       "      <td>Diesel</td>\n",
       "      <td>Individual</td>\n",
       "      <td>Manual</td>\n",
       "      <td>2</td>\n",
       "      <td>21.14</td>\n",
       "      <td>1498.0</td>\n",
       "      <td>103.52</td>\n",
       "      <td>5.0</td>\n",
       "    </tr>\n",
       "    <tr>\n",
       "      <th>2</th>\n",
       "      <td>Honda</td>\n",
       "      <td>2006</td>\n",
       "      <td>158000</td>\n",
       "      <td>140000</td>\n",
       "      <td>Petrol</td>\n",
       "      <td>Individual</td>\n",
       "      <td>Manual</td>\n",
       "      <td>3</td>\n",
       "      <td>17.70</td>\n",
       "      <td>1497.0</td>\n",
       "      <td>78.00</td>\n",
       "      <td>5.0</td>\n",
       "    </tr>\n",
       "    <tr>\n",
       "      <th>3</th>\n",
       "      <td>Hyundai</td>\n",
       "      <td>2010</td>\n",
       "      <td>225000</td>\n",
       "      <td>127000</td>\n",
       "      <td>Diesel</td>\n",
       "      <td>Individual</td>\n",
       "      <td>Manual</td>\n",
       "      <td>1</td>\n",
       "      <td>23.00</td>\n",
       "      <td>1396.0</td>\n",
       "      <td>90.00</td>\n",
       "      <td>5.0</td>\n",
       "    </tr>\n",
       "    <tr>\n",
       "      <th>4</th>\n",
       "      <td>Maruti</td>\n",
       "      <td>2007</td>\n",
       "      <td>130000</td>\n",
       "      <td>120000</td>\n",
       "      <td>Petrol</td>\n",
       "      <td>Individual</td>\n",
       "      <td>Manual</td>\n",
       "      <td>1</td>\n",
       "      <td>16.10</td>\n",
       "      <td>1298.0</td>\n",
       "      <td>88.20</td>\n",
       "      <td>5.0</td>\n",
       "    </tr>\n",
       "  </tbody>\n",
       "</table>\n",
       "</div>"
      ],
      "text/plain": [
       "      name  year  selling_price  km_driven    fuel seller_type transmission  \\\n",
       "0   Maruti  2014         450000     145500  Diesel  Individual       Manual   \n",
       "1    Skoda  2014         370000     120000  Diesel  Individual       Manual   \n",
       "2    Honda  2006         158000     140000  Petrol  Individual       Manual   \n",
       "3  Hyundai  2010         225000     127000  Diesel  Individual       Manual   \n",
       "4   Maruti  2007         130000     120000  Petrol  Individual       Manual   \n",
       "\n",
       "   owner  mileage  engine  max_power  seats  \n",
       "0      1    23.40  1248.0      74.00    5.0  \n",
       "1      2    21.14  1498.0     103.52    5.0  \n",
       "2      3    17.70  1497.0      78.00    5.0  \n",
       "3      1    23.00  1396.0      90.00    5.0  \n",
       "4      1    16.10  1298.0      88.20    5.0  "
      ]
     },
     "execution_count": 215,
     "metadata": {},
     "output_type": "execute_result"
    }
   ],
   "source": [
    "loaded_cars.drop(['torque'],axis=1,inplace=True)\n",
    "loaded_cars.head()"
   ]
  },
  {
   "cell_type": "code",
   "execution_count": 216,
   "metadata": {
    "colab": {
     "base_uri": "https://localhost:8080/",
     "height": 460
    },
    "id": "-jDB4DT8T-G6",
    "outputId": "a0bf45b1-1c50-4ec1-a600-18a835b47dcf"
   },
   "outputs": [
    {
     "data": {
      "application/vnd.microsoft.datawrangler.viewer.v0+json": {
       "columns": [
        {
         "name": "index",
         "rawType": "object",
         "type": "string"
        },
        {
         "name": "0",
         "rawType": "int64",
         "type": "integer"
        }
       ],
       "ref": "d6cac90c-c29e-4cb9-a299-3cfc34aa7058",
       "rows": [
        [
         "name",
         "0"
        ],
        [
         "year",
         "0"
        ],
        [
         "selling_price",
         "0"
        ],
        [
         "km_driven",
         "0"
        ],
        [
         "fuel",
         "0"
        ],
        [
         "seller_type",
         "0"
        ],
        [
         "transmission",
         "0"
        ],
        [
         "owner",
         "0"
        ],
        [
         "mileage",
         "0"
        ],
        [
         "engine",
         "0"
        ],
        [
         "max_power",
         "0"
        ],
        [
         "seats",
         "0"
        ]
       ],
       "shape": {
        "columns": 1,
        "rows": 12
       }
      },
      "text/plain": [
       "name             0\n",
       "year             0\n",
       "selling_price    0\n",
       "km_driven        0\n",
       "fuel             0\n",
       "seller_type      0\n",
       "transmission     0\n",
       "owner            0\n",
       "mileage          0\n",
       "engine           0\n",
       "max_power        0\n",
       "seats            0\n",
       "dtype: int64"
      ]
     },
     "execution_count": 216,
     "metadata": {},
     "output_type": "execute_result"
    }
   ],
   "source": [
    "null_count=loaded_cars.isnull().sum()\n",
    "null_count"
   ]
  },
  {
   "cell_type": "code",
   "execution_count": 217,
   "metadata": {
    "colab": {
     "base_uri": "https://localhost:8080/"
    },
    "id": "0AENe2Y5s3yC",
    "outputId": "1fec39b4-7f5e-456b-f7fb-baa263afb13c"
   },
   "outputs": [
    {
     "name": "stdout",
     "output_type": "stream",
     "text": [
      "32  unique car names\n"
     ]
    },
    {
     "data": {
      "text/plain": [
       "array(['Maruti', 'Skoda', 'Honda', 'Hyundai', 'Toyota', 'Ford', 'Renault',\n",
       "       'Mahindra', 'Tata', 'Chevrolet', 'Fiat', 'Datsun', 'Jeep',\n",
       "       'Mercedes-Benz', 'Mitsubishi', 'Audi', 'Volkswagen', 'BMW',\n",
       "       'Nissan', 'Lexus', 'Jaguar', 'Land', 'MG', 'Volvo', 'Daewoo',\n",
       "       'Kia', 'Force', 'Ambassador', 'Ashok', 'Isuzu', 'Opel', 'Peugeot'],\n",
       "      dtype=object)"
      ]
     },
     "execution_count": 217,
     "metadata": {},
     "output_type": "execute_result"
    }
   ],
   "source": [
    "unique_cars=loaded_cars['name'].unique()\n",
    "print(len(unique_cars),\" unique car names\")\n",
    "unique_cars"
   ]
  },
  {
   "cell_type": "code",
   "execution_count": 218,
   "metadata": {
    "colab": {
     "base_uri": "https://localhost:8080/",
     "height": 241
    },
    "id": "7mlFiwQZ6Wwm",
    "outputId": "fd2854e0-bc2a-4bff-8565-6fc5c42d3229"
   },
   "outputs": [
    {
     "name": "stdout",
     "output_type": "stream",
     "text": [
      "(8033, 12)\n",
      "(8028, 12)\n"
     ]
    },
    {
     "data": {
      "application/vnd.microsoft.datawrangler.viewer.v0+json": {
       "columns": [
        {
         "name": "index",
         "rawType": "int64",
         "type": "integer"
        },
        {
         "name": "name",
         "rawType": "object",
         "type": "string"
        },
        {
         "name": "year",
         "rawType": "int64",
         "type": "integer"
        },
        {
         "name": "selling_price",
         "rawType": "int64",
         "type": "integer"
        },
        {
         "name": "km_driven",
         "rawType": "int64",
         "type": "integer"
        },
        {
         "name": "fuel",
         "rawType": "object",
         "type": "string"
        },
        {
         "name": "seller_type",
         "rawType": "object",
         "type": "string"
        },
        {
         "name": "transmission",
         "rawType": "object",
         "type": "string"
        },
        {
         "name": "owner",
         "rawType": "int64",
         "type": "integer"
        },
        {
         "name": "mileage",
         "rawType": "float64",
         "type": "float"
        },
        {
         "name": "engine",
         "rawType": "float64",
         "type": "float"
        },
        {
         "name": "max_power",
         "rawType": "float64",
         "type": "float"
        },
        {
         "name": "seats",
         "rawType": "float64",
         "type": "float"
        }
       ],
       "ref": "afbfde2a-4d26-4872-97f4-52c5da2bc76e",
       "rows": [
        [
         "0",
         "Maruti",
         "2014",
         "450000",
         "145500",
         "Diesel",
         "Individual",
         "Manual",
         "1",
         "23.4",
         "1248.0",
         "74.0",
         "5.0"
        ],
        [
         "1",
         "Skoda",
         "2014",
         "370000",
         "120000",
         "Diesel",
         "Individual",
         "Manual",
         "2",
         "21.14",
         "1498.0",
         "103.52",
         "5.0"
        ],
        [
         "2",
         "Honda",
         "2006",
         "158000",
         "140000",
         "Petrol",
         "Individual",
         "Manual",
         "3",
         "17.7",
         "1497.0",
         "78.0",
         "5.0"
        ],
        [
         "3",
         "Hyundai",
         "2010",
         "225000",
         "127000",
         "Diesel",
         "Individual",
         "Manual",
         "1",
         "23.0",
         "1396.0",
         "90.0",
         "5.0"
        ],
        [
         "4",
         "Maruti",
         "2007",
         "130000",
         "120000",
         "Petrol",
         "Individual",
         "Manual",
         "1",
         "16.1",
         "1298.0",
         "88.2",
         "5.0"
        ]
       ],
       "shape": {
        "columns": 12,
        "rows": 5
       }
      },
      "text/html": [
       "<div>\n",
       "<style scoped>\n",
       "    .dataframe tbody tr th:only-of-type {\n",
       "        vertical-align: middle;\n",
       "    }\n",
       "\n",
       "    .dataframe tbody tr th {\n",
       "        vertical-align: top;\n",
       "    }\n",
       "\n",
       "    .dataframe thead th {\n",
       "        text-align: right;\n",
       "    }\n",
       "</style>\n",
       "<table border=\"1\" class=\"dataframe\">\n",
       "  <thead>\n",
       "    <tr style=\"text-align: right;\">\n",
       "      <th></th>\n",
       "      <th>name</th>\n",
       "      <th>year</th>\n",
       "      <th>selling_price</th>\n",
       "      <th>km_driven</th>\n",
       "      <th>fuel</th>\n",
       "      <th>seller_type</th>\n",
       "      <th>transmission</th>\n",
       "      <th>owner</th>\n",
       "      <th>mileage</th>\n",
       "      <th>engine</th>\n",
       "      <th>max_power</th>\n",
       "      <th>seats</th>\n",
       "    </tr>\n",
       "  </thead>\n",
       "  <tbody>\n",
       "    <tr>\n",
       "      <th>0</th>\n",
       "      <td>Maruti</td>\n",
       "      <td>2014</td>\n",
       "      <td>450000</td>\n",
       "      <td>145500</td>\n",
       "      <td>Diesel</td>\n",
       "      <td>Individual</td>\n",
       "      <td>Manual</td>\n",
       "      <td>1</td>\n",
       "      <td>23.40</td>\n",
       "      <td>1248.0</td>\n",
       "      <td>74.00</td>\n",
       "      <td>5.0</td>\n",
       "    </tr>\n",
       "    <tr>\n",
       "      <th>1</th>\n",
       "      <td>Skoda</td>\n",
       "      <td>2014</td>\n",
       "      <td>370000</td>\n",
       "      <td>120000</td>\n",
       "      <td>Diesel</td>\n",
       "      <td>Individual</td>\n",
       "      <td>Manual</td>\n",
       "      <td>2</td>\n",
       "      <td>21.14</td>\n",
       "      <td>1498.0</td>\n",
       "      <td>103.52</td>\n",
       "      <td>5.0</td>\n",
       "    </tr>\n",
       "    <tr>\n",
       "      <th>2</th>\n",
       "      <td>Honda</td>\n",
       "      <td>2006</td>\n",
       "      <td>158000</td>\n",
       "      <td>140000</td>\n",
       "      <td>Petrol</td>\n",
       "      <td>Individual</td>\n",
       "      <td>Manual</td>\n",
       "      <td>3</td>\n",
       "      <td>17.70</td>\n",
       "      <td>1497.0</td>\n",
       "      <td>78.00</td>\n",
       "      <td>5.0</td>\n",
       "    </tr>\n",
       "    <tr>\n",
       "      <th>3</th>\n",
       "      <td>Hyundai</td>\n",
       "      <td>2010</td>\n",
       "      <td>225000</td>\n",
       "      <td>127000</td>\n",
       "      <td>Diesel</td>\n",
       "      <td>Individual</td>\n",
       "      <td>Manual</td>\n",
       "      <td>1</td>\n",
       "      <td>23.00</td>\n",
       "      <td>1396.0</td>\n",
       "      <td>90.00</td>\n",
       "      <td>5.0</td>\n",
       "    </tr>\n",
       "    <tr>\n",
       "      <th>4</th>\n",
       "      <td>Maruti</td>\n",
       "      <td>2007</td>\n",
       "      <td>130000</td>\n",
       "      <td>120000</td>\n",
       "      <td>Petrol</td>\n",
       "      <td>Individual</td>\n",
       "      <td>Manual</td>\n",
       "      <td>1</td>\n",
       "      <td>16.10</td>\n",
       "      <td>1298.0</td>\n",
       "      <td>88.20</td>\n",
       "      <td>5.0</td>\n",
       "    </tr>\n",
       "  </tbody>\n",
       "</table>\n",
       "</div>"
      ],
      "text/plain": [
       "      name  year  selling_price  km_driven    fuel seller_type transmission  \\\n",
       "0   Maruti  2014         450000     145500  Diesel  Individual       Manual   \n",
       "1    Skoda  2014         370000     120000  Diesel  Individual       Manual   \n",
       "2    Honda  2006         158000     140000  Petrol  Individual       Manual   \n",
       "3  Hyundai  2010         225000     127000  Diesel  Individual       Manual   \n",
       "4   Maruti  2007         130000     120000  Petrol  Individual       Manual   \n",
       "\n",
       "   owner  mileage  engine  max_power  seats  \n",
       "0      1    23.40  1248.0      74.00    5.0  \n",
       "1      2    21.14  1498.0     103.52    5.0  \n",
       "2      3    17.70  1497.0      78.00    5.0  \n",
       "3      1    23.00  1396.0      90.00    5.0  \n",
       "4      1    16.10  1298.0      88.20    5.0  "
      ]
     },
     "execution_count": 218,
     "metadata": {},
     "output_type": "execute_result"
    }
   ],
   "source": [
    "print(loaded_cars.shape)\n",
    "loaded_cars.drop(loaded_cars[loaded_cars['owner']==5].index, inplace=True)\n",
    "print(loaded_cars.shape)\n",
    "loaded_cars.head()"
   ]
  },
  {
   "cell_type": "code",
   "execution_count": 219,
   "metadata": {
    "id": "Bmod-53n2S99"
   },
   "outputs": [],
   "source": [
    "import seaborn as sns\n"
   ]
  },
  {
   "cell_type": "code",
   "execution_count": 220,
   "metadata": {
    "colab": {
     "base_uri": "https://localhost:8080/",
     "height": 300
    },
    "id": "0aF7haQ8Kn-z",
    "outputId": "e106a3db-c91c-4727-e8ad-f32a176325e1"
   },
   "outputs": [
    {
     "data": {
      "application/vnd.microsoft.datawrangler.viewer.v0+json": {
       "columns": [
        {
         "name": "index",
         "rawType": "object",
         "type": "string"
        },
        {
         "name": "year",
         "rawType": "float64",
         "type": "float"
        },
        {
         "name": "selling_price",
         "rawType": "float64",
         "type": "float"
        },
        {
         "name": "km_driven",
         "rawType": "float64",
         "type": "float"
        },
        {
         "name": "owner",
         "rawType": "float64",
         "type": "float"
        },
        {
         "name": "mileage",
         "rawType": "float64",
         "type": "float"
        },
        {
         "name": "engine",
         "rawType": "float64",
         "type": "float"
        },
        {
         "name": "max_power",
         "rawType": "float64",
         "type": "float"
        },
        {
         "name": "seats",
         "rawType": "float64",
         "type": "float"
        }
       ],
       "ref": "6bbca9f9-2e46-4fce-b54a-7e90c594d730",
       "rows": [
        [
         "count",
         "8028.0",
         "8028.0",
         "8028.0",
         "8028.0",
         "8028.0",
         "8028.0",
         "8028.0",
         "8028.0"
        ],
        [
         "mean",
         "2013.8155206776282",
         "640393.6542102641",
         "69773.14025909317",
         "1.45802192326856",
         "19.389510463378176",
         "1457.1857249626307",
         "91.57566704035874",
         "5.410313901345291"
        ],
        [
         "std",
         "4.030835830063144",
         "802701.5487227321",
         "56644.187102038435",
         "0.7152831065593205",
         "3.948293283813209",
         "499.1877898080738",
         "35.36925101726762",
         "0.9526229426075075"
        ],
        [
         "min",
         "1983.0",
         "29999.0",
         "1000.0",
         "1.0",
         "0.0",
         "624.0",
         "0.0",
         "2.0"
        ],
        [
         "25%",
         "2011.0",
         "260000.0",
         "35000.0",
         "1.0",
         "16.8",
         "1197.0",
         "69.0",
         "5.0"
        ],
        [
         "50%",
         "2015.0",
         "450000.0",
         "60000.0",
         "1.0",
         "19.3",
         "1248.0",
         "82.4",
         "5.0"
        ],
        [
         "75%",
         "2017.0",
         "680000.0",
         "98000.0",
         "2.0",
         "22.1",
         "1582.0",
         "102.0",
         "5.0"
        ],
        [
         "max",
         "2020.0",
         "10000000.0",
         "2360457.0",
         "4.0",
         "42.0",
         "3604.0",
         "400.0",
         "14.0"
        ]
       ],
       "shape": {
        "columns": 8,
        "rows": 8
       }
      },
      "text/html": [
       "<div>\n",
       "<style scoped>\n",
       "    .dataframe tbody tr th:only-of-type {\n",
       "        vertical-align: middle;\n",
       "    }\n",
       "\n",
       "    .dataframe tbody tr th {\n",
       "        vertical-align: top;\n",
       "    }\n",
       "\n",
       "    .dataframe thead th {\n",
       "        text-align: right;\n",
       "    }\n",
       "</style>\n",
       "<table border=\"1\" class=\"dataframe\">\n",
       "  <thead>\n",
       "    <tr style=\"text-align: right;\">\n",
       "      <th></th>\n",
       "      <th>year</th>\n",
       "      <th>selling_price</th>\n",
       "      <th>km_driven</th>\n",
       "      <th>owner</th>\n",
       "      <th>mileage</th>\n",
       "      <th>engine</th>\n",
       "      <th>max_power</th>\n",
       "      <th>seats</th>\n",
       "    </tr>\n",
       "  </thead>\n",
       "  <tbody>\n",
       "    <tr>\n",
       "      <th>count</th>\n",
       "      <td>8028.000000</td>\n",
       "      <td>8.028000e+03</td>\n",
       "      <td>8.028000e+03</td>\n",
       "      <td>8028.000000</td>\n",
       "      <td>8028.000000</td>\n",
       "      <td>8028.000000</td>\n",
       "      <td>8028.000000</td>\n",
       "      <td>8028.000000</td>\n",
       "    </tr>\n",
       "    <tr>\n",
       "      <th>mean</th>\n",
       "      <td>2013.815521</td>\n",
       "      <td>6.403937e+05</td>\n",
       "      <td>6.977314e+04</td>\n",
       "      <td>1.458022</td>\n",
       "      <td>19.389510</td>\n",
       "      <td>1457.185725</td>\n",
       "      <td>91.575667</td>\n",
       "      <td>5.410314</td>\n",
       "    </tr>\n",
       "    <tr>\n",
       "      <th>std</th>\n",
       "      <td>4.030836</td>\n",
       "      <td>8.027015e+05</td>\n",
       "      <td>5.664419e+04</td>\n",
       "      <td>0.715283</td>\n",
       "      <td>3.948293</td>\n",
       "      <td>499.187790</td>\n",
       "      <td>35.369251</td>\n",
       "      <td>0.952623</td>\n",
       "    </tr>\n",
       "    <tr>\n",
       "      <th>min</th>\n",
       "      <td>1983.000000</td>\n",
       "      <td>2.999900e+04</td>\n",
       "      <td>1.000000e+03</td>\n",
       "      <td>1.000000</td>\n",
       "      <td>0.000000</td>\n",
       "      <td>624.000000</td>\n",
       "      <td>0.000000</td>\n",
       "      <td>2.000000</td>\n",
       "    </tr>\n",
       "    <tr>\n",
       "      <th>25%</th>\n",
       "      <td>2011.000000</td>\n",
       "      <td>2.600000e+05</td>\n",
       "      <td>3.500000e+04</td>\n",
       "      <td>1.000000</td>\n",
       "      <td>16.800000</td>\n",
       "      <td>1197.000000</td>\n",
       "      <td>69.000000</td>\n",
       "      <td>5.000000</td>\n",
       "    </tr>\n",
       "    <tr>\n",
       "      <th>50%</th>\n",
       "      <td>2015.000000</td>\n",
       "      <td>4.500000e+05</td>\n",
       "      <td>6.000000e+04</td>\n",
       "      <td>1.000000</td>\n",
       "      <td>19.300000</td>\n",
       "      <td>1248.000000</td>\n",
       "      <td>82.400000</td>\n",
       "      <td>5.000000</td>\n",
       "    </tr>\n",
       "    <tr>\n",
       "      <th>75%</th>\n",
       "      <td>2017.000000</td>\n",
       "      <td>6.800000e+05</td>\n",
       "      <td>9.800000e+04</td>\n",
       "      <td>2.000000</td>\n",
       "      <td>22.100000</td>\n",
       "      <td>1582.000000</td>\n",
       "      <td>102.000000</td>\n",
       "      <td>5.000000</td>\n",
       "    </tr>\n",
       "    <tr>\n",
       "      <th>max</th>\n",
       "      <td>2020.000000</td>\n",
       "      <td>1.000000e+07</td>\n",
       "      <td>2.360457e+06</td>\n",
       "      <td>4.000000</td>\n",
       "      <td>42.000000</td>\n",
       "      <td>3604.000000</td>\n",
       "      <td>400.000000</td>\n",
       "      <td>14.000000</td>\n",
       "    </tr>\n",
       "  </tbody>\n",
       "</table>\n",
       "</div>"
      ],
      "text/plain": [
       "              year  selling_price     km_driven        owner      mileage  \\\n",
       "count  8028.000000   8.028000e+03  8.028000e+03  8028.000000  8028.000000   \n",
       "mean   2013.815521   6.403937e+05  6.977314e+04     1.458022    19.389510   \n",
       "std       4.030836   8.027015e+05  5.664419e+04     0.715283     3.948293   \n",
       "min    1983.000000   2.999900e+04  1.000000e+03     1.000000     0.000000   \n",
       "25%    2011.000000   2.600000e+05  3.500000e+04     1.000000    16.800000   \n",
       "50%    2015.000000   4.500000e+05  6.000000e+04     1.000000    19.300000   \n",
       "75%    2017.000000   6.800000e+05  9.800000e+04     2.000000    22.100000   \n",
       "max    2020.000000   1.000000e+07  2.360457e+06     4.000000    42.000000   \n",
       "\n",
       "            engine    max_power        seats  \n",
       "count  8028.000000  8028.000000  8028.000000  \n",
       "mean   1457.185725    91.575667     5.410314  \n",
       "std     499.187790    35.369251     0.952623  \n",
       "min     624.000000     0.000000     2.000000  \n",
       "25%    1197.000000    69.000000     5.000000  \n",
       "50%    1248.000000    82.400000     5.000000  \n",
       "75%    1582.000000   102.000000     5.000000  \n",
       "max    3604.000000   400.000000    14.000000  "
      ]
     },
     "execution_count": 220,
     "metadata": {},
     "output_type": "execute_result"
    }
   ],
   "source": [
    "loaded_cars.describe()"
   ]
  },
  {
   "cell_type": "code",
   "execution_count": 221,
   "metadata": {
    "colab": {
     "base_uri": "https://localhost:8080/",
     "height": 52
    },
    "id": "RqL698jq25SD",
    "outputId": "2422a284-4f88-464d-992f-ab1ca32f4640"
   },
   "outputs": [
    {
     "data": {
      "text/plain": [
       "<Figure size 1200x1000 with 0 Axes>"
      ]
     },
     "execution_count": 221,
     "metadata": {},
     "output_type": "execute_result"
    },
    {
     "data": {
      "text/plain": [
       "<Figure size 1200x1000 with 0 Axes>"
      ]
     },
     "metadata": {},
     "output_type": "display_data"
    }
   ],
   "source": [
    "sns.set_style(style=\"whitegrid\")\n",
    "plt.figure(figsize=(12,10))"
   ]
  },
  {
   "cell_type": "code",
   "execution_count": null,
   "metadata": {
    "id": "KOZ0Ew0MrqM2"
   },
   "outputs": [],
   "source": []
  },
  {
   "cell_type": "code",
   "execution_count": 222,
   "metadata": {
    "colab": {
     "base_uri": "https://localhost:8080/",
     "height": 1000
    },
    "id": "PF03oBUa3RlM",
    "outputId": "6e2e80a5-251b-4420-96e5-6707c9a547c5"
   },
   "outputs": [
    {
     "data": {
      "image/png": "[encoded data removed]",
      "text/plain": [
       "<Figure size 1400x1200 with 9 Axes>"
      ]
     },
     "metadata": {},
     "output_type": "display_data"
    }
   ],
   "source": [
    "ax = loaded_cars.hist(figsize=(14, 12), edgecolor='black', grid=False)\n",
    "plt.suptitle(\"Numeric distribution of each columns\",fontsize=16)\n",
    "plt.subplots_adjust(hspace=0.5, wspace=0.5)\n",
    "plt.show()"
   ]
  },
  {
   "cell_type": "code",
   "execution_count": 223,
   "metadata": {
    "colab": {
     "base_uri": "https://localhost:8080/"
    },
    "id": "ez5-5xay5hYz",
    "outputId": "99108063-2694-4f66-e621-21bf75646ae4"
   },
   "outputs": [
    {
     "data": {
      "text/plain": [
       "Index(['year', 'selling_price', 'km_driven', 'owner', 'mileage', 'engine',\n",
       "       'max_power', 'seats'],\n",
       "      dtype='object')"
      ]
     },
     "execution_count": 223,
     "metadata": {},
     "output_type": "execute_result"
    }
   ],
   "source": [
    "numeric_columns=loaded_cars.select_dtypes(include=['int','float']).columns\n",
    "numeric_columns"
   ]
  },
  {
   "cell_type": "code",
   "execution_count": 224,
   "metadata": {
    "colab": {
     "base_uri": "https://localhost:8080/",
     "height": 606
    },
    "id": "swMeibjg5n5Y",
    "outputId": "f5a6b7ea-18f5-46e1-a189-bfacfe6e3925"
   },
   "outputs": [
    {
     "data": {
      "image/png": "[encoded data removed]",
      "text/plain": [
       "<Figure size 1000x600 with 8 Axes>"
      ]
     },
     "metadata": {},
     "output_type": "display_data"
    }
   ],
   "source": [
    "plt.figure(figsize=(10, 6))\n",
    "\n",
    "for i, col in enumerate(numeric_columns, 1):\n",
    "\n",
    "    plt.subplot(2, 4, i)\n",
    "    sns.scatterplot(x=loaded_cars[col], y=loaded_cars[\"selling_price\"], alpha=0.5)\n",
    "    plt.title(f\"Selling Price vs {col}\")\n",
    "    plt.xlabel(col)\n",
    "    plt.ylabel(\"Selling Price (log)\")\n",
    "\n",
    "plt.tight_layout()\n",
    "plt.show()"
   ]
  },
  {
   "cell_type": "code",
   "execution_count": 225,
   "metadata": {
    "colab": {
     "base_uri": "https://localhost:8080/",
     "height": 1000
    },
    "id": "4EZh6sHm6FlD",
    "outputId": "7e4ac2f6-8d63-4fc4-991d-9638ee340627"
   },
   "outputs": [
    {
     "data": {
      "image/png": "[encoded data removed]",
      "text/plain": [
       "<Figure size 1200x1000 with 4 Axes>"
      ]
     },
     "metadata": {},
     "output_type": "display_data"
    }
   ],
   "source": [
    "cat_features = [\"fuel\", \"seller_type\", \"transmission\", \"owner\"]\n",
    "\n",
    "plt.figure(figsize=(12, 10))\n",
    "\n",
    "for i, col in enumerate(cat_features, 1):\n",
    "    plt.subplot(2, 2, i)\n",
    "    sns.boxplot(x=loaded_cars[col], y=loaded_cars[\"selling_price\"])\n",
    "    plt.title(f\"Selling Price vs {col}\")\n",
    "    plt.xticks(rotation=45)\n",
    "\n",
    "plt.tight_layout()\n",
    "plt.show()"
   ]
  },
  {
   "cell_type": "code",
   "execution_count": 226,
   "metadata": {
    "colab": {
     "base_uri": "https://localhost:8080/",
     "height": 525
    },
    "id": "0Amd-DUI6w9a",
    "outputId": "00dd67d1-47bc-458a-9b91-f8a6278490d5"
   },
   "outputs": [
    {
     "data": {
      "text/plain": [
       "<Axes: >"
      ]
     },
     "execution_count": 226,
     "metadata": {},
     "output_type": "execute_result"
    },
    {
     "data": {
      "image/png": "[encoded data removed]",
      "text/plain": [
       "<Figure size 640x480 with 2 Axes>"
      ]
     },
     "metadata": {},
     "output_type": "display_data"
    }
   ],
   "source": [
    "# loaded_cars[numeric_columns].corr()\n",
    "sns.heatmap(loaded_cars[numeric_columns].corr(), annot=True, cmap=\"coolwarm\")"
   ]
  },
  {
   "cell_type": "code",
   "execution_count": 227,
   "metadata": {
    "id": "kH3alJGJLqyl"
   },
   "outputs": [],
   "source": [
    "# loaded_cars = pd.get_dummies(loaded_cars, columns=['fuel', 'transmission', 'seller_type'], drop_first=True)"
   ]
  },
  {
   "cell_type": "code",
   "execution_count": null,
   "metadata": {},
   "outputs": [],
   "source": []
  },
  {
   "cell_type": "markdown",
   "metadata": {
    "id": "EAUWfLCsyBX6"
   },
   "source": [
    "# Training Segment"
   ]
  },
  {
   "cell_type": "code",
   "execution_count": 228,
   "metadata": {
    "id": "tN6uTIEY_5q0"
   },
   "outputs": [],
   "source": [
    "\n",
    "X = loaded_cars[['max_power','mileage','year']]\n",
    "\n",
    "labels=[0,1,2,3]\n",
    "max_selling_price=loaded_cars['selling_price'].max()\n",
    "minimum_selling_price=loaded_cars['selling_price'].min()\n",
    "\n",
    "#creating bins using np.linspace\n",
    "bins=np.linspace(minimum_selling_price,max_selling_price+1,5) \n",
    "\n",
    "y = pd.qcut(loaded_cars['selling_price'], q=4, labels=labels) # seperating using quantiles \n",
    "\n",
    "\n",
    "\n",
    "\n"
   ]
  },
  {
   "cell_type": "code",
   "execution_count": 229,
   "metadata": {},
   "outputs": [
    {
     "data": {
      "image/png": "[encoded data removed]",
      "text/plain": [
       "<Figure size 600x600 with 1 Axes>"
      ]
     },
     "metadata": {},
     "output_type": "display_data"
    }
   ],
   "source": [
    "plt.figure(figsize=(6,6))\n",
    "sns.countplot(x=y,hue=y)\n",
    "plt.title(\"Class distribution in Test set\")\n",
    "plt.show()\n",
    "plt.show()"
   ]
  },
  {
   "cell_type": "code",
   "execution_count": null,
   "metadata": {},
   "outputs": [],
   "source": []
  },
  {
   "cell_type": "code",
   "execution_count": 230,
   "metadata": {},
   "outputs": [
    {
     "data": {
      "text/plain": [
       "['scaler_a3.pkl']"
      ]
     },
     "execution_count": 230,
     "metadata": {},
     "output_type": "execute_result"
    }
   ],
   "source": [
    "# Normalize features\n",
    "# X_train, X_test, y_train, y_test = train_test_split(X, y, test_size=0.2, random_state=42)\n",
    "X_train, X_test, y_train, y_test = train_test_split(X, y, test_size=0.2, random_state=42, stratify=y)\n",
    "\n",
    "scaler = StandardScaler()\n",
    "X_train = scaler.fit_transform(X_train)\n",
    "X_test  = scaler.transform(X_test)\n",
    "# X_train = X_train.values\n",
    "# y_train = y_train.values\n",
    "\n",
    "joblib.dump(scaler,'scaler_a3.pkl')"
   ]
  },
  {
   "cell_type": "code",
   "execution_count": 231,
   "metadata": {},
   "outputs": [],
   "source": [
    "# # Add intercept to X\n",
    "# intercept = np.ones((X_train.shape[0], 1))\n",
    "# X_train   = np.concatenate((intercept, X_train), axis=1)  #add intercept\n",
    "# intercept = np.ones((X_test.shape[0], 1))\n",
    "# X_test    = np.concatenate((intercept, X_test), axis=1)  #add intercept"
   ]
  },
  {
   "cell_type": "code",
   "execution_count": 232,
   "metadata": {},
   "outputs": [],
   "source": [
    "# k=len(labels)\n",
    "k=len(set(y))\n",
    "m = X_train.shape[0]  # no.of samples\n",
    "n = X_train.shape[1]  # no. of features\n",
    "Y_train_encoded = np.zeros((m, k))\n",
    "\n",
    "for each_class in range(k):\n",
    "    cond = y_train==each_class\n",
    "    Y_train_encoded[np.where(cond), each_class] = 1"
   ]
  },
  {
   "cell_type": "code",
   "execution_count": 233,
   "metadata": {
    "colab": {
     "base_uri": "https://localhost:8080/",
     "height": 452
    },
    "id": "iAp2PbSq6t6m",
    "outputId": "48e093d4-2186-4645-bcd0-3a2ae1df9661"
   },
   "outputs": [],
   "source": [
    "# importances = grid_search.best_estimator_.feature_importances_\n",
    "# feat_names = X.columns\n",
    "# sns.barplot(x=importances, y=feat_names)\n",
    "# plt.title(\"Feature Importances\")\n",
    "# plt.show()"
   ]
  },
  {
   "cell_type": "code",
   "execution_count": 234,
   "metadata": {
    "colab": {
     "base_uri": "https://localhost:8080/",
     "height": 671
    },
    "id": "fgzHLIpz980Q",
    "outputId": "636802bb-b471-4a85-e900-3c2f217f5c6f"
   },
   "outputs": [
    {
     "data": {
      "text/plain": [
       "((6422, 3), (6422, 4))"
      ]
     },
     "execution_count": 234,
     "metadata": {},
     "output_type": "execute_result"
    }
   ],
   "source": [
    "X_train.shape,Y_train_encoded.shape"
   ]
  },
  {
   "cell_type": "code",
   "execution_count": 235,
   "metadata": {},
   "outputs": [],
   "source": [
    "import numpy as np\n",
    "import matplotlib.pyplot as plt\n",
    "import time\n",
    "\n",
    "class MultinomialLogisticRegression:\n",
    "    def __init__(self, n_classes, n_features, lr=0.01, max_iter=2000, \n",
    "                 method='batch', batch_frac=0.3, l2_lambda=0.0, verbose=False):\n",
    "        \"\"\"\n",
    "        n_classes: number of target classes\n",
    "        n_features: number of columns in X (including intercept)\n",
    "        method: 'batch', 'minibatch', 'sto' (stochastic)\n",
    "        l2_lambda: L2 regularization strength\n",
    "        \"\"\"\n",
    "        self.k = n_classes\n",
    "        self.n = n_features\n",
    "        self.lr = lr\n",
    "        self.max_iter = max_iter\n",
    "        self.method = method\n",
    "        self.batch_frac = batch_frac\n",
    "        self.l2 = l2_lambda\n",
    "        self.verbose = verbose\n",
    "        self.W = np.random.randn(self.n, self.k) * 0.01\n",
    "        self.losses = []\n",
    "\n",
    "    # Core Computations\n",
    "    def softmax(self, z):\n",
    "        z_stable = z - np.max(z, axis=1, keepdims=True)\n",
    "        exp_z = np.exp(z_stable)\n",
    "        return exp_z / np.sum(exp_z, axis=1, keepdims=True)\n",
    "\n",
    "    def h_theta(self, X):\n",
    "        return self.softmax(X @ self.W)\n",
    "\n",
    "    def gradient(self, X, Y):\n",
    "        m = X.shape[0]\n",
    "        h = self.h_theta(X)\n",
    "        eps = 1e-12\n",
    "        ce_loss = -np.sum(Y * np.log(h + eps)) / m\n",
    "        # L2 regularization (ignore intercept)\n",
    "        W_no_intercept = self.W.copy()\n",
    "        W_no_intercept[0, :] = 0.0\n",
    "        l2_loss = 0.5 * (self.l2 / m) * np.sum(W_no_intercept**2)\n",
    "        total_loss = ce_loss + l2_loss\n",
    "        grad = (X.T @ (h - Y)) / m\n",
    "        if self.l2 != 0:\n",
    "            grad += (self.l2 / m) * W_no_intercept\n",
    "        return total_loss, grad\n",
    "\n",
    "    # Fit methods\n",
    "    def fit(self, X, Y):\n",
    "        m = X.shape[0]\n",
    "        start_time = time.time()\n",
    "\n",
    "        if self.method == \"batch\":\n",
    "            for i in range(self.max_iter):\n",
    "                loss, grad = self.gradient(X, Y)\n",
    "                self.W -= self.lr * grad\n",
    "                self.losses.append(loss)\n",
    "                if self.verbose and i % 500 == 0:\n",
    "                    print(f\"[Batch] Iter {i}, Loss: {loss:.6f}\")\n",
    "\n",
    "        elif self.method == \"minibatch\":\n",
    "            batch_size = max(1, int(self.batch_frac * m))\n",
    "            for i in range(self.max_iter):\n",
    "                ix = np.random.randint(0, m, batch_size)\n",
    "                Xb, Yb = X[ix], Y[ix]\n",
    "                loss, grad = self.gradient(Xb, Yb)\n",
    "                self.W -= self.lr * grad\n",
    "                self.losses.append(loss)\n",
    "                if self.verbose and i % 500 == 0:\n",
    "                    print(f\"[MiniBatch] Iter {i}, Loss: {loss:.6f}\")\n",
    "\n",
    "        elif self.method == \"sto\":\n",
    "            for i in range(self.max_iter):\n",
    "                idx = np.random.randint(0, m)\n",
    "                Xs = X[idx:idx+1]\n",
    "                Ys = Y[idx:idx+1]\n",
    "                loss, grad = self.gradient(Xs, Ys)\n",
    "                self.W -= self.lr * grad\n",
    "                self.losses.append(loss)\n",
    "                if self.verbose and i % 1000 == 0:\n",
    "                    print(f\"[Stochastic] Iter {i}, Loss: {loss:.6f}\")\n",
    "\n",
    "        else:\n",
    "            raise ValueError('Method must be \"batch\", \"minibatch\", or \"sto\".')\n",
    "\n",
    "        print(f\"Training completed in {time.time() - start_time:.2f}s\")\n",
    "\n",
    "    # Predictions & Evaluation\n",
    "    def predict_proba(self, X):\n",
    "        return self.h_theta(X)\n",
    "\n",
    "    def predict(self, X):\n",
    "        return np.argmax(self.predict_proba(X), axis=1)\n",
    "\n",
    "    def plot_losses(self):\n",
    "        plt.plot(np.arange(len(self.losses)), self.losses, label=\"Training Loss\")\n",
    "        plt.title(\"Loss Curve\")\n",
    "        plt.xlabel(\"Iteration\")\n",
    "        plt.ylabel(\"Loss\")\n",
    "        plt.legend()\n",
    "        plt.show()\n"
   ]
  },
  {
   "cell_type": "code",
   "execution_count": 236,
   "metadata": {},
   "outputs": [],
   "source": [
    "def classification_report_custom(y_true, y_pred):\n",
    "    labels = np.unique(y_true)\n",
    "    per_class = {}\n",
    "    for label in labels:\n",
    "        tp = np.sum((y_pred == label) & (y_true == label))\n",
    "        fp = np.sum((y_pred == label) & (y_true != label))\n",
    "        fn = np.sum((y_pred != label) & (y_true == label))\n",
    "\n",
    "        precision = tp / (tp + fp + 1e-9)\n",
    "        recall = tp / (tp + fn + 1e-9)\n",
    "        f1 = 2 * precision * recall / (precision + recall + 1e-9)\n",
    "        per_class[label] = {\"precision\": precision, \"recall\": recall, \"f1\": f1}\n",
    "\n",
    "    # macro average\n",
    "    macro = {k: np.mean([v[k] for v in per_class.values()]) for k in [\"precision\", \"recall\", \"f1\"]}\n",
    "\n",
    "    # weighted average\n",
    "    weights = [np.sum(y_true == label) for label in labels]\n",
    "    total = np.sum(weights)\n",
    "    weighted = {\n",
    "        k: np.sum([v[k] * w for v, w in zip(per_class.values(), weights)]) / total\n",
    "        for k in [\"precision\", \"recall\", \"f1\"]\n",
    "    }\n",
    "\n",
    "    return per_class, macro, weighted\n"
   ]
  },
  {
   "cell_type": "code",
   "execution_count": 237,
   "metadata": {},
   "outputs": [
    {
     "name": "stdout",
     "output_type": "stream",
     "text": [
      "[MiniBatch] Iter 0, Loss: 1.382306\n",
      "[MiniBatch] Iter 500, Loss: 0.902297\n",
      "[MiniBatch] Iter 1000, Loss: 0.880783\n",
      "[MiniBatch] Iter 1500, Loss: 0.873091\n",
      "[MiniBatch] Iter 2000, Loss: 0.895739\n",
      "[MiniBatch] Iter 2500, Loss: 0.910166\n",
      "Training completed in 0.98s\n"
     ]
    },
    {
     "data": {
      "image/png": "[encoded data removed]",
      "text/plain": [
       "<Figure size 640x480 with 1 Axes>"
      ]
     },
     "metadata": {},
     "output_type": "display_data"
    },
    {
     "name": "stdout",
     "output_type": "stream",
     "text": [
      "\n",
      "=== Custom Metrics (Test) ===\n",
      "Accuracy: 0.5785\n",
      "\n",
      "Class 0: precision=0.5873, recall=0.9439, f1=0.7240\n",
      "Class 1: precision=0.5625, recall=0.1760, f1=0.2682\n",
      "Class 2: precision=0.5022, recall=0.2905, f1=0.3681\n",
      "Class 3: precision=0.6010, recall=0.8970, f1=0.7198\n",
      "\n",
      "Macro Avg:\n",
      "Precision=0.5632, Recall=0.5769, F1=0.5200\n",
      "\n",
      "Weighted Avg:\n",
      "Precision=0.5638, Recall=0.5785, F1=0.5207\n",
      "\n",
      "=== Sklearn classification_report (Test) ===\n",
      "              precision    recall  f1-score   support\n",
      "\n",
      "           0     0.5873    0.9439    0.7240       410\n",
      "           1     0.5625    0.1760    0.2682       409\n",
      "           2     0.5022    0.2905    0.3681       389\n",
      "           3     0.6010    0.8970    0.7198       398\n",
      "\n",
      "    accuracy                         0.5785      1606\n",
      "   macro avg     0.5632    0.5769    0.5200      1606\n",
      "weighted avg     0.5638    0.5785    0.5207      1606\n",
      "\n",
      "Confusion matrix:\n",
      " [[387  19   1   3]\n",
      " [206  72  82  49]\n",
      " [ 58  33 113 185]\n",
      " [  8   4  29 357]]\n"
     ]
    }
   ],
   "source": [
    "from sklearn.metrics import classification_report, confusion_matrix\n",
    "\n",
    "# Initialize and train model\n",
    "model = MultinomialLogisticRegression(\n",
    "    n_features=n, \n",
    "    n_classes=k, \n",
    "    lr=0.1, \n",
    "    max_iter=3000, \n",
    "    method='minibatch', \n",
    "    batch_frac=0.25, \n",
    "    l2_lambda=1.0, \n",
    "    verbose=True\n",
    ")\n",
    "model.fit(X_train, Y_train_encoded)\n",
    "\n",
    "# Predictions\n",
    "yhat_train = model.predict(X_train)\n",
    "yhat_test  = model.predict(X_test)\n",
    "\n",
    "# Plot training loss curve\n",
    "model.plot_losses()\n",
    "\n",
    "\n",
    "# Custom Evaluation\n",
    "def accuracy_score_custom(y_true, y_pred):\n",
    "    return np.mean(y_true == y_pred)\n",
    "\n",
    "acc = accuracy_score_custom(y_test, yhat_test)\n",
    "per_class, macro, weighted = classification_report_custom(y_test, yhat_test)\n",
    "\n",
    "print(\"\\n=== Custom Metrics (Test) ===\")\n",
    "print(f\"Accuracy: {acc:.4f}\\n\")\n",
    "\n",
    "for c, metrics in per_class.items():\n",
    "    print(f\"Class {c}: \"\n",
    "          f\"precision={metrics['precision']:.4f}, \"\n",
    "          f\"recall={metrics['recall']:.4f}, \"\n",
    "          f\"f1={metrics['f1']:.4f}\")\n",
    "\n",
    "print(\"\\nMacro Avg:\")\n",
    "print(f\"Precision={macro['precision']:.4f}, Recall={macro['recall']:.4f}, F1={macro['f1']:.4f}\")\n",
    "\n",
    "print(\"\\nWeighted Avg:\")\n",
    "print(f\"Precision={weighted['precision']:.4f}, Recall={weighted['recall']:.4f}, F1={weighted['f1']:.4f}\")\n",
    "\n",
    "# Sklearn Comparison\n",
    "print(\"\\n=== Sklearn classification_report (Test) ===\")\n",
    "print(classification_report(y_test, yhat_test, digits=4))\n",
    "\n",
    "# Confusion Matrix\n",
    "print(\"Confusion matrix:\\n\", confusion_matrix(y_test, yhat_test))\n"
   ]
  },
  {
   "cell_type": "code",
   "execution_count": 238,
   "metadata": {},
   "outputs": [
    {
     "data": {
      "text/plain": [
       "<Experiment: artifact_location='mlflow-artifacts:/780011026393011254', creation_time=1759581683531, experiment_id='780011026393011254', last_update_time=1759581683531, lifecycle_stage='active', name='st126522-a3', tags={'mlflow.experimentKind': 'custom_model_development'}>"
      ]
     },
     "execution_count": 238,
     "metadata": {},
     "output_type": "execute_result"
    }
   ],
   "source": [
    "from dotenv import load_dotenv\n",
    "import os\n",
    "# Load environment variables\n",
    "load_dotenv()\n",
    "\n",
    "# Get them safely\n",
    "mlflow.set_tracking_uri(os.getenv(\"MLFLOW_TRACKING_URI\"))\n",
    "\n",
    "if os.getenv(\"MLFLOW_TRACKING_TOKEN\"):\n",
    "    os.environ[\"MLFLOW_TRACKING_TOKEN\"] = os.getenv(\"MLFLOW_TRACKING_TOKEN\")\n",
    "else:\n",
    "    os.environ[\"MLFLOW_TRACKING_USERNAME\"] = os.getenv(\"MLFLOW_TRACKING_USERNAME\")\n",
    "    os.environ[\"MLFLOW_TRACKING_PASSWORD\"] = os.getenv(\"MLFLOW_TRACKING_PASSWORD\")\n",
    "\n",
    "mlflow.set_experiment(\"st126522-a3\")\n",
    "# !pip install python-dotenv"
   ]
  },
  {
   "cell_type": "code",
   "execution_count": 239,
   "metadata": {},
   "outputs": [
    {
     "name": "stdout",
     "output_type": "stream",
     "text": [
      "Version 7 | Stage: None | Status: READY\n",
      "Version 6 | Stage: None | Status: READY\n",
      "Version 5 | Stage: None | Status: READY\n",
      "Version 4 | Stage: None | Status: READY\n",
      "Version 3 | Stage: None | Status: READY\n",
      "Version 2 | Stage: None | Status: READY\n",
      "Version 1 | Stage: None | Status: READY\n"
     ]
    }
   ],
   "source": [
    "client = mlflow.tracking.MlflowClient()\n",
    "# observing model version status in MLflow\n",
    "for mv in client.search_model_versions(\"name='st126522-a3-model'\"):\n",
    "    print(f\"Version {mv.version} | Stage: {mv.current_stage} | Status: {mv.status}\")"
   ]
  },
  {
   "cell_type": "code",
   "execution_count": null,
   "metadata": {},
   "outputs": [],
   "source": [
    "from train_best_model import train_and_register_best_model\n",
    "\n",
    "\n",
    "best_model, best_run_id = train_and_register_best_model(X_train, Y_train_encoded, X_test, y_test)\n",
    "\n",
    "# Construct model URI for the best run\n",
    "model_uri = f\"runs:/{best_run_id}/model\"\n",
    "\n",
    "# Load the model\n",
    "loaded_model = mlflow.pyfunc.load_model(model_uri)\n",
    "\n",
    "# You can now use loaded_model.predict\n",
    "y_pred = loaded_model.predict([[2025, 400, 222,1]])  # Example input # 1 for intercept for now"
   ]
  },
  {
   "cell_type": "code",
   "execution_count": null,
   "metadata": {},
   "outputs": [],
   "source": []
  },
  {
   "cell_type": "markdown",
   "metadata": {},
   "source": [
    "# Car Price Quantile Classification — Model Training Report"
   ]
  },
  {
   "cell_type": "markdown",
   "metadata": {},
   "source": [
    "## 1. Objective\n",
    "The goal of this project is to **predict the price range (quantile class)** of a car based on its features such as manufacturing year, mileage, and max power.  \n",
    "Instead of regressing exact prices, we treat this as a **multi-class classification** problem by categorizing prices into quantile-based bins (bottom 25%, lower-mid, upper-mid, and top 25%)."
   ]
  },
  {
   "cell_type": "markdown",
   "metadata": {},
   "source": [
    "## 2. Why Quantile Cuts Instead of Min–Max Scaling\n",
    "Using **quantile-based cuts** allows for **balanced segmentation** of the target variable (selling price), compared to using arbitrary or min–max intervals.\n",
    "\n",
    "### 🔹 Advantages of Quantile Cuts:\n",
    "- Ensures **roughly equal number of samples per class**, reducing imbalance issues.  \n",
    "- Makes each class statistically meaningful (e.g., bottom quartile vs. top quartile).  \n",
    "- Reflects **relative market positioning** rather than absolute price differences.\n",
    "\n",
    "If min–max cuts were used, classes near the tail of the price distribution (e.g., luxury cars) would be **severely underrepresented** (just 1 value), harming generalization.\n"
   ]
  },
  {
   "cell_type": "markdown",
   "metadata": {},
   "source": [
    "## 3. Data Distribution and Class Balance\n",
    "\n",
    "Below is a visualization of the **original selling price distribution** and the resulting **quantile-based class distribution**.\n",
    "\n",
    "- **Histogram of Selling Prices:**  \n",
    "  ![Histogram](../selling_price_hist.png)\n",
    "\n",
    "  Since the data is right skewed, there will be less classes for expensive cars, if min max scaling is used. Hence quantiles are used for equal number of class representatives.\n",
    "\n",
    "- **Bar Plot of Quantile Classes:**  \n",
    "  ![image-2.png](../class_distribution.png)\n",
    "\n",
    "  The quantile approach ensures that each class (0–3) has a more balanced representation, which helps the logistic model converge better and avoid bias toward dominant classes. Aditionally, stratify parameter is also used in train test split to create equal density for both train and test for all classes."
   ]
  },
  {
   "cell_type": "markdown",
   "metadata": {},
   "source": [
    "## 4. Experimental Setup\n",
    "\n",
    "### 4.1 Model\n",
    "A **Multinomial Logistic Regression** model was implemented from scratch with support for:\n",
    "- Mini-batch Gradient Descent  \n",
    "- Stochastic Gradient Descent (SGD)  \n",
    "- L2 Regularization (Ridge)  \n",
    "\n",
    "This design provides flexibility in controlling **learning dynamics** and **overfitting behavior**."
   ]
  },
  {
   "cell_type": "markdown",
   "metadata": {},
   "source": [
    "### 4.2 Feature Set\n",
    "| Feature | Description |\n",
    "|----------|--------------|\n",
    "| `Year` | Year of manufacture |\n",
    "| `Mileage` | Fuel efficiency (km/l) |\n",
    "| `Max Power` | Maximum power output (bhp) |\n",
    "\n",
    "All input features were **scaled** using standardization (mean & variance normalization)."
   ]
  },
  {
   "cell_type": "markdown",
   "metadata": {},
   "source": [
    "## 5. Hyperparameter Tuning\n",
    "\n",
    "A small grid search was performed using the following configuration:\n",
    "\n",
    "| Parameter | Values Tested |\n",
    "|------------|----------------|\n",
    "| Learning Rate (`lr`) | `[0.01, 0.05, 0.1]` |\n",
    "| Ridge Regularization (`λ`) | `[0.0, 1.0, 0.5]` |\n",
    "| Optimization Method | `[\"minibatch\", \"sto\", \"batch\"]` |\n",
    "| Max Iterations | `4000` |\n",
    "\n",
    "### Number of Experimental Runs:\n",
    "Total runs = len(learning_rates) × len(ridge_values) × len(methods)\n",
    "= 3 × 3 × 3\n",
    "= 27 total runs\n"
   ]
  },
  {
   "cell_type": "markdown",
   "metadata": {},
   "source": [
    "## 6. Evaluation Metrics\n",
    "\n",
    "Since the task involves multi-class prediction with potential imbalance, the following metrics were used:\n",
    "\n",
    "| Metric | Description |\n",
    "|---------|--------------|\n",
    "| **Accuracy** | Overall correctness of predictions |\n",
    "| **Macro F1** | Equal-weighted F1 across all classes (robust to imbalance) |\n",
    "| **Weighted F1** | Class-frequency-weighted average of F1 |\n",
    "| **Per-Class F1** | To assess model fairness across price ranges |\n",
    "\n",
    "These metrics were logged to MLflow for each experimental run. \n",
    "\n",
    "Accuracy works pretty well for well balanced classes in data. But F1 macro is still chosen over Accuracy as it is generally good overall."
   ]
  },
  {
   "cell_type": "markdown",
   "metadata": {},
   "source": [
    "## 7. Best Model Selection\n",
    "\n",
    "After all runs, the model with the **highest Macro F1-score** was selected as the best performer:\n",
    "\n",
    "- Registered under model name: `st126522-a3-model`\n",
    "- Best run identified by **RUN_ID** stored in `.env`\n",
    "\n",
    "MODEL_NAME = \"st126522-a3-model\"\n",
    "RUN_ID = \"f54acb17921448078444dd4d559e1880\""
   ]
  },
  {
   "cell_type": "markdown",
   "metadata": {},
   "source": [
    "![image-2.png](../metrics.png)"
   ]
  }
 ],
 "metadata": {
  "colab": {
   "provenance": []
  },
  "kernelspec": {
   "display_name": "dash_ml_env",
   "language": "python",
   "name": "python3"
  },
  "language_info": {
   "codemirror_mode": {
    "name": "ipython",
    "version": 3
   },
   "file_extension": ".py",
   "mimetype": "text/x-python",
   "name": "python",
   "nbconvert_exporter": "python",
   "pygments_lexer": "ipython3",
   "version": "3.11.13"
  }
 },
 "nbformat": 4,
 "nbformat_minor": 4
}
